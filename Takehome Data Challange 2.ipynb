{
 "cells": [
  {
   "cell_type": "markdown",
   "metadata": {},
   "source": [
    "# Part 1: SQL"
   ]
  },
  {
   "cell_type": "markdown",
   "metadata": {},
   "source": [
    "### Question 1\n",
    "For each of the cities 'Qarth' and 'Meereen', calculate 90th percentile difference between Actual and Predicted ETA for all completed trips within the last 30 days."
   ]
  },
  {
   "cell_type": "markdown",
   "metadata": {},
   "source": [
    "**Ans:** Assume actual_eta, predicted_eta are UNIX epoch."
   ]
  },
  {
   "cell_type": "raw",
   "metadata": {},
   "source": [
    "SELECT cities.city_name, \n",
    "       PERCENTILE_DISC(0.9) WITHIN GROUP (ORDER BY actual_eta - predicted_eta) \n",
    "       AS \"90th_percentile\"\n",
    "FROM trips \n",
    "LEFT JOIN cities \n",
    "ON trips.city_id = cities.city_id\n",
    "WHERR city_name IN ('Qarth', 'Meereen')\n",
    "AND status = 'completed'\n",
    "AND to_timestamp(actual_eta) > CURRENT_DATE - INTERVAL '30' DAY\n",
    "GROUP BY cities.city_name;"
   ]
  },
  {
   "cell_type": "markdown",
   "metadata": {},
   "source": [
    "### Question 2\n",
    "A signup is defined as an event labeled ‘sign_up_success’ within the events table. For each city (‘Qarth’ and ‘Meereen’) and each day of the week, determine the percentage of signups in the first week of 2016 that resulted in completed a trip within 168 hours of the sign up date."
   ]
  },
  {
   "cell_type": "raw",
   "metadata": {},
   "source": [
    "SELECT A.city_name, A._ts, A.signup_completed / B.signup AS percent_completed\n",
    "FROM (\n",
    "      SELECT city_name, events._ts, COUNT * AS signup_completed\n",
    "      FROM events LEFT JOIN trips\n",
    "      ON events.rider_id = trips.client_id\n",
    "      LEFT JOIN cities\n",
    "      ON trips.city_id = cities.city_id\n",
    "      WHERE city_name IN ('Qarth', 'Meereen')\n",
    "      AND status = 'completed'\n",
    "      AND event_name = 'sign_up_success'\n",
    "      AND _ts <= '2016-01-07'\n",
    "      AND _ts >= '2016-01-01'\n",
    "      AND DATEDIFF(hour, _ts, to_timestamp(actual_eta)) <= 168\n",
    "      GROUP BY city_name, DATENAME(dw, _ts)\n",
    "     ) A, \n",
    "     (\n",
    "      SELECT city_name, events._ts, COUNT * AS signup\n",
    "      FROM events LEFT JOIN trips\n",
    "      ON events.rider_id = trips.client_id\n",
    "      LEFT JOIN cities\n",
    "      ON trips.city_id = cities.city_id\n",
    "      WHERE city_name IN ('Qarth', 'Meereen')\n",
    "      AND event_name = 'sign_up_success'\n",
    "      AND _ts <= '2016-01-07'\n",
    "      AND _ts >= '2016-01-01'\n",
    "      GROUP BY city_id, DATENAME(dw, __ts)\n",
    "      ) B;"
   ]
  },
  {
   "cell_type": "markdown",
   "metadata": {},
   "source": [
    "# Part 2: Experiment and metrics design"
   ]
  },
  {
   "cell_type": "markdown",
   "metadata": {},
   "source": [
    "### Question 1\n",
    "Propose and define the primary success metric of the redesigned app. What are additional tracking metrics that will be important to monitor in addition to the success metric defined above?"
   ]
  },
  {
   "cell_type": "markdown",
   "metadata": {},
   "source": [
    "**Ans: **\n",
    "\n",
    "Primary metrics: \n",
    "* **Average time spent on the new app per day.** This demonstrates how engaged the partners are with the new app, including the driving and new sections. \n",
    "\n",
    "Secondary metrics:\n",
    "* **Average time spent on the new features per day.** This demonstrates how engaged the partners are with the new sections, including earnings, rating, and communication platform.\n",
    "* **Average daily earnings.** This indicates the partners' response to the added earning section. Drivers are more aware of the earnings and may work harder to earn more. A similar metrics is average number of trips completed per day.\n",
    "* **Total communications with Uber per driver, including traditional help channels and new communication platform.** This is to see if partners are more enaged with Uber. Partners may find traditional help channels, such as emails, SMS or calls, inconvenient and were less involved. With the new communication platform, partners are more open to communicate. I'd like to track both changes. I'd expect to see an increase of the total communications with the new app and a decrease of help requests from traditional channels.  \n",
    "* **Rating.** First I'd like to clarify what the rating refers to. If it refers to the rating given after each trip, it is useful for partner to be aware of and take actions(if the rating is low). However, if the rating refers to the total rating (averaged over most recent 500 trips), the rating have small change (if any) with a single trip. New drivers may benefit more than the old drivers as the former's rating is more affected by a single trip."
   ]
  },
  {
   "cell_type": "markdown",
   "metadata": {},
   "source": [
    "### Question 2\n",
    "Outline a testing plan to evaluate if redesigned app performs better (according to the metrics you outlined). How would you balance the need to deliver quick results, with statistical rigor, and while still monitoring for risks?"
   ]
  },
  {
   "cell_type": "markdown",
   "metadata": {},
   "source": [
    "**Ans:**\n",
    "I will evaluate the new partner app using A/B testing.\n",
    "* **Assumptions**\n",
    "    * Old version apps don't have significant difference.\n",
    "* **Success criteria (Effect size)** This is to be discussed with product manager and cross-functional groups. Below is what I proposed:\n",
    "    * Average time spent on the new app per day: 10% increase\n",
    "    * Average time spent on the new features per day: 5 minutes \n",
    "    * Average daily earnings: Increase\n",
    "    * Total communications with Uber: Increase\n",
    "    * Rating: No change or increase\n",
    "* **Group assignment** \n",
    "    * Treatment: 10% parters are forced to update and use the new Uber Partner app.\n",
    "        * 10% is chosen for two reasons:\n",
    "            1. Network effect. Treated partners may talk about the new app and affect the partners in the control group. Assigning a large number of partners to the treatment group(i.e. 50%) may cause bias. \n",
    "            2. Risk control. Limit the treatment group size as part of the risk concern with the new app.\n",
    "    * Control: 50% partners use the old(their current) Uber Partner app.  \n",
    "* **Length of experiment**\n",
    "    * Power analysis: Given effect size, power, significance level, and baseline, we can estimate the sample size that satisfies a certain statistical power. All the variables should be determined with cross-functional groups. With the estimated sample size, we can design the length of the experiment accordingly. \n",
    "    * Use the primary metrics as an example. Assume the statistical power and significance level to be 80% and 5%, respectively. Assume an effect size of 10%, i.e. if the 10% increase in time spent on the app is statistical significant, we call the new app a success. Given the distribution of the averaged time spent on the old app, we can estimate the sample size and thus the length of the experiment. \n",
    "    * We should avoid the experimental length being too short or too long. If too short, we don't have enough sample to reach desired statistical power. If too long, other factors may kick in and cause bias.\n",
    "    * We should avoid peeking into the experiment. Even if we have to, we should avoid interfering it(stop early when seeing a statistical significance)."
   ]
  },
  {
   "cell_type": "markdown",
   "metadata": {},
   "source": [
    "### Question 3\n",
    "Explain how you would translate the results from the testing plan into a decision on whether to launch the new design or roll it back."
   ]
  },
  {
   "cell_type": "markdown",
   "metadata": {},
   "source": [
    "**Ans:** \n",
    "Along the experiment, we track all the metrics and their test statistics. An important parameter is the p value. If at the end of the experiment, \n",
    "* p value indicates a significant difference, including average time spent on the new app, average time spent on the new features, average daily earnings, total communication time. We should launch the new design.  \n",
    "* p value indicates neutral effect for average time spent on the new app, while showing a significant difference in the others, such as communications. We may roll it back. But if the average earnings is shown to have a significant difference, we may consider launch it. This may require cross-functional group discussions to make the decision.\n",
    "* p value indicates neutral effects for the average time spent on the new app, average time spent on the new features, average daily earnings. We should stop the experiments. \n",
    "* If app issues, such as crashes, were identified during the experiment, we should stop the experiment. "
   ]
  },
  {
   "cell_type": "markdown",
   "metadata": {},
   "source": [
    "# Part 3: Data analysis"
   ]
  },
  {
   "cell_type": "markdown",
   "metadata": {},
   "source": [
    "### Question 1\n",
    "Perform any cleaning, exploratory analysis, and/or visualizations to use the provided data for this analysis (a few sentences/plots describing your approach will suffice). What fraction of the driver signups took a first trip?"
   ]
  },
  {
   "cell_type": "markdown",
   "metadata": {},
   "source": [
    "** Ans**: Steps are briefed below:\n",
    "1. Import data\n",
    "2. Check missing values, duplicates\n",
    "3. Check outliers\n",
    "    * Vehicle year \n",
    "    * Time backwards issue\n",
    "3. Explore univariate distribution "
   ]
  },
  {
   "cell_type": "code",
   "execution_count": 2,
   "metadata": {
    "collapsed": true
   },
   "outputs": [],
   "source": [
    "import pandas as pd\n",
    "import numpy as np\n",
    "import matplotlib.pyplot as plt\n",
    "import seaborn as sns\n",
    "\n",
    "from sklearn.ensemble import RandomForestClassifier\n",
    "from sklearn.model_selection import train_test_split\n",
    "from sklearn.metrics import recall_score, precision_score, f1_score, roc_curve, auc, confusion_matrix\n",
    "%matplotlib inline"
   ]
  },
  {
   "cell_type": "code",
   "execution_count": 3,
   "metadata": {
    "collapsed": true
   },
   "outputs": [],
   "source": [
    "#import data\n",
    "data = pd.read_excel('ds_challenge_v2_1_data (1) (5).xlsx')"
   ]
  },
  {
   "cell_type": "code",
   "execution_count": 4,
   "metadata": {
    "collapsed": false
   },
   "outputs": [
    {
     "data": {
      "text/html": [
       "<div>\n",
       "<table border=\"1\" class=\"dataframe\">\n",
       "  <thead>\n",
       "    <tr style=\"text-align: right;\">\n",
       "      <th></th>\n",
       "      <th>id</th>\n",
       "      <th>city_name</th>\n",
       "      <th>signup_os</th>\n",
       "      <th>signup_channel</th>\n",
       "      <th>signup_date</th>\n",
       "      <th>bgc_date</th>\n",
       "      <th>vehicle_added_date</th>\n",
       "      <th>vehicle_make</th>\n",
       "      <th>vehicle_model</th>\n",
       "      <th>vehicle_year</th>\n",
       "      <th>first_completed_date</th>\n",
       "    </tr>\n",
       "  </thead>\n",
       "  <tbody>\n",
       "    <tr>\n",
       "      <th>0</th>\n",
       "      <td>1</td>\n",
       "      <td>Strark</td>\n",
       "      <td>ios web</td>\n",
       "      <td>Paid</td>\n",
       "      <td>2016-01-02</td>\n",
       "      <td>NaT</td>\n",
       "      <td>NaN</td>\n",
       "      <td>NaN</td>\n",
       "      <td>NaN</td>\n",
       "      <td>NaN</td>\n",
       "      <td>NaN</td>\n",
       "    </tr>\n",
       "    <tr>\n",
       "      <th>1</th>\n",
       "      <td>2</td>\n",
       "      <td>Strark</td>\n",
       "      <td>windows</td>\n",
       "      <td>Paid</td>\n",
       "      <td>2016-01-21</td>\n",
       "      <td>NaT</td>\n",
       "      <td>NaN</td>\n",
       "      <td>NaN</td>\n",
       "      <td>NaN</td>\n",
       "      <td>NaN</td>\n",
       "      <td>NaN</td>\n",
       "    </tr>\n",
       "    <tr>\n",
       "      <th>2</th>\n",
       "      <td>3</td>\n",
       "      <td>Wrouver</td>\n",
       "      <td>windows</td>\n",
       "      <td>Organic</td>\n",
       "      <td>2016-01-11</td>\n",
       "      <td>2016-01-11</td>\n",
       "      <td>NaN</td>\n",
       "      <td>NaN</td>\n",
       "      <td>NaN</td>\n",
       "      <td>NaN</td>\n",
       "      <td>NaN</td>\n",
       "    </tr>\n",
       "    <tr>\n",
       "      <th>3</th>\n",
       "      <td>4</td>\n",
       "      <td>Berton</td>\n",
       "      <td>android web</td>\n",
       "      <td>Referral</td>\n",
       "      <td>2016-01-29</td>\n",
       "      <td>2016-02-03</td>\n",
       "      <td>2016-02-03 00:00:00</td>\n",
       "      <td>Toyota</td>\n",
       "      <td>Corolla</td>\n",
       "      <td>2016.0</td>\n",
       "      <td>2016-02-03 00:00:00</td>\n",
       "    </tr>\n",
       "    <tr>\n",
       "      <th>4</th>\n",
       "      <td>5</td>\n",
       "      <td>Strark</td>\n",
       "      <td>android web</td>\n",
       "      <td>Referral</td>\n",
       "      <td>2016-01-10</td>\n",
       "      <td>2016-01-25</td>\n",
       "      <td>2016-01-26 00:00:00</td>\n",
       "      <td>Hyundai</td>\n",
       "      <td>Sonata</td>\n",
       "      <td>2016.0</td>\n",
       "      <td>NaN</td>\n",
       "    </tr>\n",
       "  </tbody>\n",
       "</table>\n",
       "</div>"
      ],
      "text/plain": [
       "   id city_name    signup_os signup_channel signup_date   bgc_date  \\\n",
       "0   1    Strark      ios web           Paid  2016-01-02        NaT   \n",
       "1   2    Strark      windows           Paid  2016-01-21        NaT   \n",
       "2   3   Wrouver      windows        Organic  2016-01-11 2016-01-11   \n",
       "3   4    Berton  android web       Referral  2016-01-29 2016-02-03   \n",
       "4   5    Strark  android web       Referral  2016-01-10 2016-01-25   \n",
       "\n",
       "    vehicle_added_date vehicle_make vehicle_model  vehicle_year  \\\n",
       "0                  NaN          NaN           NaN           NaN   \n",
       "1                  NaN          NaN           NaN           NaN   \n",
       "2                  NaN          NaN           NaN           NaN   \n",
       "3  2016-02-03 00:00:00       Toyota       Corolla        2016.0   \n",
       "4  2016-01-26 00:00:00      Hyundai        Sonata        2016.0   \n",
       "\n",
       "  first_completed_date  \n",
       "0                  NaN  \n",
       "1                  NaN  \n",
       "2                  NaN  \n",
       "3  2016-02-03 00:00:00  \n",
       "4                  NaN  "
      ]
     },
     "execution_count": 4,
     "metadata": {},
     "output_type": "execute_result"
    }
   ],
   "source": [
    "data.head()"
   ]
  },
  {
   "cell_type": "code",
   "execution_count": 5,
   "metadata": {
    "collapsed": false
   },
   "outputs": [
    {
     "data": {
      "text/plain": [
       "(54681, 11)"
      ]
     },
     "execution_count": 5,
     "metadata": {},
     "output_type": "execute_result"
    }
   ],
   "source": [
    "data.shape"
   ]
  },
  {
   "cell_type": "code",
   "execution_count": 6,
   "metadata": {
    "collapsed": false
   },
   "outputs": [
    {
     "data": {
      "text/plain": [
       "(54681, 11)"
      ]
     },
     "execution_count": 6,
     "metadata": {},
     "output_type": "execute_result"
    }
   ],
   "source": [
    "#check duplicates\n",
    "data.drop_duplicates().shape"
   ]
  },
  {
   "cell_type": "code",
   "execution_count": 7,
   "metadata": {
    "collapsed": false
   },
   "outputs": [
    {
     "data": {
      "text/plain": [
       "id                          0\n",
       "city_name                   0\n",
       "signup_os                6857\n",
       "signup_channel              0\n",
       "signup_date                 0\n",
       "bgc_date                21785\n",
       "vehicle_added_date      41547\n",
       "vehicle_make            41458\n",
       "vehicle_model           41458\n",
       "vehicle_year            41458\n",
       "first_completed_date    48544\n",
       "dtype: int64"
      ]
     },
     "execution_count": 7,
     "metadata": {},
     "output_type": "execute_result"
    }
   ],
   "source": [
    "#check missing values\n",
    "data.isnull().sum()"
   ]
  },
  {
   "cell_type": "code",
   "execution_count": 8,
   "metadata": {
    "collapsed": false
   },
   "outputs": [
    {
     "data": {
      "text/html": [
       "<div>\n",
       "<table border=\"1\" class=\"dataframe\">\n",
       "  <thead>\n",
       "    <tr style=\"text-align: right;\">\n",
       "      <th></th>\n",
       "      <th>id</th>\n",
       "      <th>vehicle_year</th>\n",
       "    </tr>\n",
       "  </thead>\n",
       "  <tbody>\n",
       "    <tr>\n",
       "      <th>count</th>\n",
       "      <td>54681.000000</td>\n",
       "      <td>13223.000000</td>\n",
       "    </tr>\n",
       "    <tr>\n",
       "      <th>mean</th>\n",
       "      <td>27341.000000</td>\n",
       "      <td>2010.568025</td>\n",
       "    </tr>\n",
       "    <tr>\n",
       "      <th>std</th>\n",
       "      <td>15785.189372</td>\n",
       "      <td>35.219184</td>\n",
       "    </tr>\n",
       "    <tr>\n",
       "      <th>min</th>\n",
       "      <td>1.000000</td>\n",
       "      <td>0.000000</td>\n",
       "    </tr>\n",
       "    <tr>\n",
       "      <th>25%</th>\n",
       "      <td>13671.000000</td>\n",
       "      <td>2008.000000</td>\n",
       "    </tr>\n",
       "    <tr>\n",
       "      <th>50%</th>\n",
       "      <td>27341.000000</td>\n",
       "      <td>2013.000000</td>\n",
       "    </tr>\n",
       "    <tr>\n",
       "      <th>75%</th>\n",
       "      <td>41011.000000</td>\n",
       "      <td>2015.000000</td>\n",
       "    </tr>\n",
       "    <tr>\n",
       "      <th>max</th>\n",
       "      <td>54681.000000</td>\n",
       "      <td>2017.000000</td>\n",
       "    </tr>\n",
       "  </tbody>\n",
       "</table>\n",
       "</div>"
      ],
      "text/plain": [
       "                 id  vehicle_year\n",
       "count  54681.000000  13223.000000\n",
       "mean   27341.000000   2010.568025\n",
       "std    15785.189372     35.219184\n",
       "min        1.000000      0.000000\n",
       "25%    13671.000000   2008.000000\n",
       "50%    27341.000000   2013.000000\n",
       "75%    41011.000000   2015.000000\n",
       "max    54681.000000   2017.000000"
      ]
     },
     "execution_count": 8,
     "metadata": {},
     "output_type": "execute_result"
    }
   ],
   "source": [
    "#check numericals\n",
    "data.describe()"
   ]
  },
  {
   "cell_type": "code",
   "execution_count": 9,
   "metadata": {
    "collapsed": false
   },
   "outputs": [
    {
     "data": {
      "text/plain": [
       "48128       0.0\n",
       "49606       0.0\n",
       "20017       0.0\n",
       "44837       0.0\n",
       "25649    1995.0\n",
       "40733    1996.0\n",
       "16363    1996.0\n",
       "2719     1996.0\n",
       "13553    1996.0\n",
       "4549     1997.0\n",
       "Name: vehicle_year, dtype: float64"
      ]
     },
     "execution_count": 9,
     "metadata": {},
     "output_type": "execute_result"
    }
   ],
   "source": [
    "#vehicle year\n",
    "data.vehicle_year.sort_values().head(10)"
   ]
  },
  {
   "cell_type": "markdown",
   "metadata": {},
   "source": [
    "Four vehicles have a year of zero. I will remove these 4 datapoints. "
   ]
  },
  {
   "cell_type": "code",
   "execution_count": 10,
   "metadata": {
    "collapsed": false
   },
   "outputs": [],
   "source": [
    "#remove incorrect data points\n",
    "data = data[data.vehicle_year != 0]"
   ]
  },
  {
   "cell_type": "code",
   "execution_count": 11,
   "metadata": {
    "collapsed": false
   },
   "outputs": [
    {
     "data": {
      "text/plain": [
       "<matplotlib.axes._subplots.AxesSubplot at 0x11207c350>"
      ]
     },
     "execution_count": 11,
     "metadata": {},
     "output_type": "execute_result"
    },
    {
     "data": {
      "image/png": "[encoded data removed]",
      "text/plain": [
       "<matplotlib.figure.Figure at 0x11207c550>"
      ]
     },
     "metadata": {},
     "output_type": "display_data"
    }
   ],
   "source": [
    "data.vehicle_year.hist()"
   ]
  },
  {
   "cell_type": "markdown",
   "metadata": {},
   "source": [
    "Most vehicles are new models. Vehicles must be 15 model years old or newer to be eligible. Most signup vehicles satisfy this requirement. \n",
    "\n",
    "Let's check date and time."
   ]
  },
  {
   "cell_type": "code",
   "execution_count": 12,
   "metadata": {
    "collapsed": true
   },
   "outputs": [],
   "source": [
    "#convert to time format\n",
    "data['signup_date'] = pd.to_datetime(data.signup_date)\n",
    "data['bgc_date'] = pd.to_datetime(data.bgc_date)\n",
    "data['vehicle_added_date'] = pd.to_datetime(data.vehicle_added_date)\n",
    "data['first_completed_date'] = pd.to_datetime(data.first_completed_date)"
   ]
  },
  {
   "cell_type": "code",
   "execution_count": 13,
   "metadata": {
    "collapsed": false
   },
   "outputs": [
    {
     "data": {
      "text/plain": [
       "count                       6137\n",
       "mean     12 days 00:45:03.079680\n",
       "std       7 days 17:30:26.639917\n",
       "min              0 days 00:00:00\n",
       "25%              6 days 00:00:00\n",
       "50%             11 days 00:00:00\n",
       "75%             17 days 00:00:00\n",
       "max             30 days 00:00:00\n",
       "dtype: object"
      ]
     },
     "execution_count": 13,
     "metadata": {},
     "output_type": "execute_result"
    }
   ],
   "source": [
    "#time between signup and first trip\n",
    "(data.first_completed_date - data.signup_date).describe()"
   ]
  },
  {
   "cell_type": "markdown",
   "metadata": {},
   "source": [
    "The above description shows that there are driver that signed up and completed the first trip in the same day. This looks suspicious. I will take a closer look."
   ]
  },
  {
   "cell_type": "code",
   "execution_count": 14,
   "metadata": {
    "collapsed": false
   },
   "outputs": [
    {
     "data": {
      "text/plain": [
       "41005    0.0\n",
       "16901    0.0\n",
       "33958    0.0\n",
       "11909    0.0\n",
       "40889    0.0\n",
       "165      0.0\n",
       "44366    0.0\n",
       "53204    0.0\n",
       "22121    0.0\n",
       "16632    0.0\n",
       "Name: delay_siggnup_trip, dtype: float64"
      ]
     },
     "execution_count": 14,
     "metadata": {},
     "output_type": "execute_result"
    }
   ],
   "source": [
    "data['delay_siggnup_trip'] = (data.first_completed_date - data.signup_date)/np.timedelta64(1, 'D')\n",
    "data.delay_siggnup_trip.sort_values().head(10)"
   ]
  },
  {
   "cell_type": "code",
   "execution_count": 15,
   "metadata": {
    "collapsed": false
   },
   "outputs": [
    {
     "data": {
      "text/html": [
       "<div>\n",
       "<table border=\"1\" class=\"dataframe\">\n",
       "  <thead>\n",
       "    <tr style=\"text-align: right;\">\n",
       "      <th></th>\n",
       "      <th>id</th>\n",
       "      <th>city_name</th>\n",
       "      <th>signup_os</th>\n",
       "      <th>signup_channel</th>\n",
       "      <th>signup_date</th>\n",
       "      <th>bgc_date</th>\n",
       "      <th>vehicle_added_date</th>\n",
       "      <th>vehicle_make</th>\n",
       "      <th>vehicle_model</th>\n",
       "      <th>vehicle_year</th>\n",
       "      <th>first_completed_date</th>\n",
       "      <th>delay_siggnup_trip</th>\n",
       "    </tr>\n",
       "  </thead>\n",
       "  <tbody>\n",
       "    <tr>\n",
       "      <th>40889</th>\n",
       "      <td>40890</td>\n",
       "      <td>Berton</td>\n",
       "      <td>mac</td>\n",
       "      <td>Referral</td>\n",
       "      <td>2016-01-25</td>\n",
       "      <td>2016-01-25</td>\n",
       "      <td>2016-01-25</td>\n",
       "      <td>Mazda</td>\n",
       "      <td>MAZDA3</td>\n",
       "      <td>2016.0</td>\n",
       "      <td>2016-01-25</td>\n",
       "      <td>0.0</td>\n",
       "    </tr>\n",
       "  </tbody>\n",
       "</table>\n",
       "</div>"
      ],
      "text/plain": [
       "          id city_name signup_os signup_channel signup_date   bgc_date  \\\n",
       "40889  40890    Berton       mac       Referral  2016-01-25 2016-01-25   \n",
       "\n",
       "      vehicle_added_date vehicle_make vehicle_model  vehicle_year  \\\n",
       "40889         2016-01-25        Mazda        MAZDA3        2016.0   \n",
       "\n",
       "      first_completed_date  delay_siggnup_trip  \n",
       "40889           2016-01-25                 0.0  "
      ]
     },
     "execution_count": 15,
     "metadata": {},
     "output_type": "execute_result"
    }
   ],
   "source": [
    "data[data.index == 40889]"
   ]
  },
  {
   "cell_type": "markdown",
   "metadata": {},
   "source": [
    "These drivers completed everything in one day, including signup, background check, adding vehicle and taking first trip. I will keep them."
   ]
  },
  {
   "cell_type": "code",
   "execution_count": 16,
   "metadata": {
    "collapsed": false
   },
   "outputs": [
    {
     "data": {
      "text/plain": [
       "count                      32893\n",
       "mean     10 days 01:07:40.876174\n",
       "std      10 days 12:28:45.071066\n",
       "min              0 days 00:00:00\n",
       "25%              2 days 00:00:00\n",
       "50%              6 days 00:00:00\n",
       "75%             15 days 00:00:00\n",
       "max             69 days 00:00:00\n",
       "dtype: object"
      ]
     },
     "execution_count": 16,
     "metadata": {},
     "output_type": "execute_result"
    }
   ],
   "source": [
    "#time between signup and background check\n",
    "(data.bgc_date - data.signup_date).describe()"
   ]
  },
  {
   "cell_type": "code",
   "execution_count": 17,
   "metadata": {
    "collapsed": false
   },
   "outputs": [
    {
     "data": {
      "text/plain": [
       "count                      13130\n",
       "mean     15 days 04:51:30.571210\n",
       "std      14 days 01:31:38.477570\n",
       "min            -5 days +00:00:00\n",
       "25%              4 days 00:00:00\n",
       "50%             11 days 00:00:00\n",
       "75%             24 days 00:00:00\n",
       "max             72 days 00:00:00\n",
       "dtype: object"
      ]
     },
     "execution_count": 17,
     "metadata": {},
     "output_type": "execute_result"
    }
   ],
   "source": [
    "#time between signup and vehicle added date\n",
    "(data.vehicle_added_date - data.signup_date).describe()"
   ]
  },
  {
   "cell_type": "markdown",
   "metadata": {},
   "source": [
    "Drivers need to signup before adding vehicles. The negative time may be an outlier. I'll take a closer look."
   ]
  },
  {
   "cell_type": "code",
   "execution_count": 18,
   "metadata": {
    "collapsed": true
   },
   "outputs": [],
   "source": [
    "#get days difference between signup and vehicle added\n",
    "data['delay_siggnup_vehicleAdd'] = (data.vehicle_added_date - data.signup_date)/np.timedelta64(1, 'D')"
   ]
  },
  {
   "cell_type": "code",
   "execution_count": 19,
   "metadata": {
    "collapsed": false
   },
   "outputs": [
    {
     "data": {
      "text/plain": [
       "9268    -5.0\n",
       "22260    0.0\n",
       "2744     0.0\n",
       "47846    0.0\n",
       "16688    0.0\n",
       "Name: delay_siggnup_vehicleAdd, dtype: float64"
      ]
     },
     "execution_count": 19,
     "metadata": {},
     "output_type": "execute_result"
    }
   ],
   "source": [
    "#check the distribution\n",
    "data.delay_siggnup_vehicleAdd.sort_values(ascending=True).head()"
   ]
  },
  {
   "cell_type": "markdown",
   "metadata": {},
   "source": [
    "Only 1 data point shows vehicle is added before signing up. I will remove this data point."
   ]
  },
  {
   "cell_type": "code",
   "execution_count": 20,
   "metadata": {
    "collapsed": true
   },
   "outputs": [],
   "source": [
    "#remove the outlier\n",
    "data = data[~ (data.delay_siggnup_vehicleAdd < 0)]"
   ]
  },
  {
   "cell_type": "code",
   "execution_count": 21,
   "metadata": {
    "collapsed": false
   },
   "outputs": [
    {
     "data": {
      "text/plain": [
       "count                      6136\n",
       "mean     8 days 16:46:32.698826\n",
       "std      6 days 19:31:08.964680\n",
       "min          -14 days +00:00:00\n",
       "25%             3 days 00:00:00\n",
       "50%             7 days 00:00:00\n",
       "75%            13 days 00:00:00\n",
       "max            30 days 00:00:00\n",
       "dtype: object"
      ]
     },
     "execution_count": 21,
     "metadata": {},
     "output_type": "execute_result"
    }
   ],
   "source": [
    "#time between the first trip and background check\n",
    "(data.first_completed_date - data.bgc_date).describe()"
   ]
  },
  {
   "cell_type": "markdown",
   "metadata": {},
   "source": [
    "Vehicles should complete the background check before any trip. So the negative values doesn't make sense. Let's take a closer look."
   ]
  },
  {
   "cell_type": "code",
   "execution_count": 22,
   "metadata": {
    "collapsed": false
   },
   "outputs": [],
   "source": [
    "#time between the first trip and background check, vehicle added date\n",
    "data['delay_vehicleAdd_trip'] = (data.first_completed_date - data.vehicle_added_date)/np.timedelta64(1, 'D')\n",
    "data['delay_bgc_trip'] = (data.first_completed_date - data.bgc_date)/np.timedelta64(1, 'D')"
   ]
  },
  {
   "cell_type": "code",
   "execution_count": 23,
   "metadata": {
    "collapsed": false
   },
   "outputs": [
    {
     "data": {
      "text/html": [
       "<div>\n",
       "<table border=\"1\" class=\"dataframe\">\n",
       "  <thead>\n",
       "    <tr style=\"text-align: right;\">\n",
       "      <th></th>\n",
       "      <th>id</th>\n",
       "      <th>city_name</th>\n",
       "      <th>signup_os</th>\n",
       "      <th>signup_channel</th>\n",
       "      <th>signup_date</th>\n",
       "      <th>bgc_date</th>\n",
       "      <th>vehicle_added_date</th>\n",
       "      <th>vehicle_make</th>\n",
       "      <th>vehicle_model</th>\n",
       "      <th>vehicle_year</th>\n",
       "      <th>first_completed_date</th>\n",
       "      <th>delay_siggnup_trip</th>\n",
       "      <th>delay_siggnup_vehicleAdd</th>\n",
       "      <th>delay_vehicleAdd_trip</th>\n",
       "      <th>delay_bgc_trip</th>\n",
       "    </tr>\n",
       "  </thead>\n",
       "  <tbody>\n",
       "    <tr>\n",
       "      <th>12668</th>\n",
       "      <td>12669</td>\n",
       "      <td>Strark</td>\n",
       "      <td>NaN</td>\n",
       "      <td>Organic</td>\n",
       "      <td>2016-01-28</td>\n",
       "      <td>2016-03-08</td>\n",
       "      <td>2016-02-21</td>\n",
       "      <td>Scion</td>\n",
       "      <td>xB</td>\n",
       "      <td>2013.0</td>\n",
       "      <td>2016-02-23</td>\n",
       "      <td>26.0</td>\n",
       "      <td>24.0</td>\n",
       "      <td>2.0</td>\n",
       "      <td>-14.0</td>\n",
       "    </tr>\n",
       "  </tbody>\n",
       "</table>\n",
       "</div>"
      ],
      "text/plain": [
       "          id city_name signup_os signup_channel signup_date   bgc_date  \\\n",
       "12668  12669    Strark       NaN        Organic  2016-01-28 2016-03-08   \n",
       "\n",
       "      vehicle_added_date vehicle_make vehicle_model  vehicle_year  \\\n",
       "12668         2016-02-21        Scion            xB        2013.0   \n",
       "\n",
       "      first_completed_date  delay_siggnup_trip  delay_siggnup_vehicleAdd  \\\n",
       "12668           2016-02-23                26.0                      24.0   \n",
       "\n",
       "       delay_vehicleAdd_trip  delay_bgc_trip  \n",
       "12668                    2.0           -14.0  "
      ]
     },
     "execution_count": 23,
     "metadata": {},
     "output_type": "execute_result"
    }
   ],
   "source": [
    "#data.delay_bgc_trip.sort_values().head()\n",
    "#example of the first trip occuring before the background check\n",
    "data[data.index == 12668]"
   ]
  },
  {
   "cell_type": "code",
   "execution_count": 24,
   "metadata": {
    "collapsed": false
   },
   "outputs": [
    {
     "name": "stdout",
     "output_type": "stream",
     "text": [
      "(33, 15)\n"
     ]
    }
   ],
   "source": [
    "print data[data.delay_bgc_trip < 0].shape"
   ]
  },
  {
   "cell_type": "markdown",
   "metadata": {},
   "source": [
    "As seen above, 33 data show that the drivers took the first trip time even before the background check. This indicates either these drivers obey Uber's requirements of passing the screening before taking the trip, or these data are incorrect. We should communicate to the engineering team and find out the root cause. For now, I will remove the 33 points. Similarly, I will remove those having vehicle added before the first trip"
   ]
  },
  {
   "cell_type": "code",
   "execution_count": 25,
   "metadata": {
    "collapsed": false
   },
   "outputs": [],
   "source": [
    "#remove outliers\n",
    "data = data[~ (data.delay_bgc_trip < 0)]\n",
    "data = data[~(data.delay_vehicleAdd_trip < 0)]"
   ]
  },
  {
   "cell_type": "code",
   "execution_count": 135,
   "metadata": {
    "collapsed": false
   },
   "outputs": [
    {
     "data": {
      "text/plain": [
       "<matplotlib.axes._subplots.AxesSubplot at 0x118c79ed0>"
      ]
     },
     "execution_count": 135,
     "metadata": {},
     "output_type": "execute_result"
    },
    {
     "data": {
      "image/png": "[encoded data removed]",
      "text/plain": [
       "<matplotlib.figure.Figure at 0x113276690>"
      ]
     },
     "metadata": {},
     "output_type": "display_data"
    }
   ],
   "source": [
    "#distribution of signup city, channel, and system\n",
    "fig, ax = plt.subplots(1, 3, figsize = (16, 4)) \n",
    "sns.countplot(data.city_name, ax=ax[0])\n",
    "sns.countplot(data.signup_channel, ax=ax[1]) \n",
    "sns.countplot(data.signup_os, ax=ax[2])"
   ]
  },
  {
   "cell_type": "markdown",
   "metadata": {},
   "source": [
    "Above plots show that:\n",
    "1. City Strark has the most signups, followed by Berton and Wrouver.\n",
    "2. Paid channel has the most signups, followed by referral and organic signups.\n",
    "3. Most signups are completed via iOS web and Android web. \n",
    "\n",
    "After cleaning the data, I will calculate the fraction of signups that take the first trip."
   ]
  },
  {
   "cell_type": "code",
   "execution_count": 26,
   "metadata": {
    "collapsed": false
   },
   "outputs": [],
   "source": [
    "#drivers that are converted\n",
    "data['converted'] = data.first_completed_date.apply(lambda x: 0 if pd.isnull(x) else 1)"
   ]
  },
  {
   "cell_type": "code",
   "execution_count": 27,
   "metadata": {
    "collapsed": false
   },
   "outputs": [
    {
     "name": "stdout",
     "output_type": "stream",
     "text": [
      "About 11% driver signups took a first trip.\n"
     ]
    }
   ],
   "source": [
    "num_signup = data.shape[0]\n",
    "num_converted = data[data.converted == 1].shape[0]\n",
    "print \"About %.f%% driver signups took a first trip.\" % (float(num_converted)/num_signup*100)\n",
    "#float(num_converted)/num_signup"
   ]
  },
  {
   "cell_type": "markdown",
   "metadata": {},
   "source": [
    "### Question 2\n",
    "Build a predictive model to help Uber determine whether or not a driver signup will start driving. Discuss why you chose your approach, what alternatives you considered, and any concerns you have. How valid is your model? Include any key indicators of model performance."
   ]
  },
  {
   "cell_type": "markdown",
   "metadata": {},
   "source": [
    "**Ans**: I'd like to use random forest(RF) classification model to predict if a driver signup will start driving. The reasons include:\n",
    "1. RF is robust.\n",
    "2. RF handles non-linear distributions.\n",
    "3. The data has unbalanced label. RF provides weighting option to balance the minority class.\n",
    "\n",
    "Alternatives are Penalized Logistic Regression and SVM.\n",
    "\n",
    "I'd like to validate in three ways.\n",
    "1. Out-of-bag score in RF. As a third data are left out of bootstrap sample, they can be used to get a running unbiased estimate of the test set classification error.  \n",
    "2. ROC and AUC. Since the label is highly unbalanced, a low test error is expected (predicting all cases in the majority class). ROC and AUC provides a different metric by examining how true positive rate and false positive rate change as the threshold. \n",
    "3. Precision, Recall and Confusion matrix. These validation metrics are especially helpful due to unbalanced lables. \n",
    "\n",
    "First I'd like to take care of the missing values."
   ]
  },
  {
   "cell_type": "markdown",
   "metadata": {},
   "source": [
    "**Step 1: Fix missing values**"
   ]
  },
  {
   "cell_type": "code",
   "execution_count": 28,
   "metadata": {
    "collapsed": false
   },
   "outputs": [
    {
     "data": {
      "text/plain": [
       "id                              0\n",
       "city_name                       0\n",
       "signup_os                    6854\n",
       "signup_channel                  0\n",
       "signup_date                     0\n",
       "bgc_date                    21784\n",
       "vehicle_added_date          41543\n",
       "vehicle_make                41454\n",
       "vehicle_model               41454\n",
       "vehicle_year                41454\n",
       "first_completed_date        48540\n",
       "delay_siggnup_trip          48540\n",
       "delay_siggnup_vehicleAdd    41543\n",
       "delay_vehicleAdd_trip       48801\n",
       "delay_bgc_trip              48540\n",
       "converted                       0\n",
       "dtype: int64"
      ]
     },
     "execution_count": 28,
     "metadata": {},
     "output_type": "execute_result"
    }
   ],
   "source": [
    "#missing values\n",
    "data.isnull().sum()"
   ]
  },
  {
   "cell_type": "markdown",
   "metadata": {},
   "source": [
    "Here is how I will take care of the missing values.\n",
    "1. signup_os: I will create an \"Unknown\" category for the missing values. \n",
    "2. vehicle year: This is an important feature as Uber requires vehicles within 15 years old. I will group it into three categories: older than 15 years, within 15 years old, and unknown.\n",
    "3. vehicle make and model: Intuitively, there are less important. Considering ~75% values are missing, I will not consider them in the model. "
   ]
  },
  {
   "cell_type": "code",
   "execution_count": 29,
   "metadata": {
    "collapsed": false
   },
   "outputs": [],
   "source": [
    "#fill missing values\n",
    "data['signup_os'] = data.signup_os.apply(lambda x: 'Unknown' if pd.isnull(x) else x)\n",
    "#data['vehicle_make'] = data.vehicle_make.apply(lambda x: 'Unknown' if pd.isnull(x) else 'Known')\n",
    "#data['vehicle_model'] = data.vehicle_model.apply(lambda x: 'Unknown' if pd.isnull(x) else 'Known')\n",
    "\n",
    "#3 categories for vehicle year\n",
    "data['vehicle_year'] = np.where(data.vehicle_year > 2001, \"vehicle_within_15yr\", \\\n",
    "                                np.where(data.vehicle_year < 2002, \"vehicle_15yr_older\", \"Unknown\"))"
   ]
  },
  {
   "cell_type": "markdown",
   "metadata": {},
   "source": [
    "**Step 2: Feature engineering**"
   ]
  },
  {
   "cell_type": "markdown",
   "metadata": {},
   "source": [
    "Then I'd like to create a few new features.\n",
    "1. \"bgc_completed\": This is to record if vehicle background check is completed. Drivers with missing background check date indicates incompleted background check.\n",
    "2. \"vehicle_added_completed\": This is to record is vehicle is added to the system."
   ]
  },
  {
   "cell_type": "code",
   "execution_count": 30,
   "metadata": {
    "collapsed": true
   },
   "outputs": [],
   "source": [
    "#record background check and vehicle added status\n",
    "data['bgc_completed'] = data.bgc_date.apply(lambda x: 0 if pd.isnull(x) else 1)\n",
    "data['vehicle_added_completed'] = data.vehicle_added_date.apply(lambda x: 0 if pd.isnull(x) else 1)"
   ]
  },
  {
   "cell_type": "code",
   "execution_count": 143,
   "metadata": {
    "collapsed": false
   },
   "outputs": [],
   "source": [
    "#data.columns"
   ]
  },
  {
   "cell_type": "markdown",
   "metadata": {},
   "source": [
    "Now we have all the features. Then I will dummify categorical ones. "
   ]
  },
  {
   "cell_type": "code",
   "execution_count": 31,
   "metadata": {
    "collapsed": false
   },
   "outputs": [],
   "source": [
    "#dummify categoricals\n",
    "def dummify_data_frame(data):\n",
    "    for col in cate:\n",
    "        dummy = pd.get_dummies(data[col], prefix=col)\n",
    "        data = pd.concat([data, dummy], axis = 1)\n",
    "        data = data.drop(col, axis = 1)\n",
    "    return data"
   ]
  },
  {
   "cell_type": "code",
   "execution_count": 32,
   "metadata": {
    "collapsed": true
   },
   "outputs": [],
   "source": [
    "#categorical features, numerical features\n",
    "cate = ['city_name', 'signup_os', 'signup_channel', 'vehicle_year']\n",
    "num = ['bgc_completed', 'vehicle_added_completed', 'converted']"
   ]
  },
  {
   "cell_type": "code",
   "execution_count": 33,
   "metadata": {
    "collapsed": false
   },
   "outputs": [],
   "source": [
    "#prepare data for modeling\n",
    "test = data[cate + num]\n",
    "test = dummify_data_frame(test)"
   ]
  },
  {
   "cell_type": "code",
   "execution_count": 34,
   "metadata": {
    "collapsed": false
   },
   "outputs": [],
   "source": [
    "test.drop(['city_name_Strark', 'signup_os_android web', 'signup_channel_Paid', 'vehicle_year_Unknown'], axis=1, inplace=True)"
   ]
  },
  {
   "cell_type": "code",
   "execution_count": 35,
   "metadata": {
    "collapsed": false
   },
   "outputs": [
    {
     "data": {
      "text/plain": [
       "Index([                   u'bgc_completed',\n",
       "                u'vehicle_added_completed',\n",
       "                              u'converted',\n",
       "                       u'city_name_Berton',\n",
       "                      u'city_name_Wrouver',\n",
       "                      u'signup_os_Unknown',\n",
       "                      u'signup_os_ios web',\n",
       "                          u'signup_os_mac',\n",
       "                        u'signup_os_other',\n",
       "                      u'signup_os_windows',\n",
       "                 u'signup_channel_Organic',\n",
       "                u'signup_channel_Referral',\n",
       "        u'vehicle_year_vehicle_15yr_older',\n",
       "       u'vehicle_year_vehicle_within_15yr'],\n",
       "      dtype='object')"
      ]
     },
     "execution_count": 35,
     "metadata": {},
     "output_type": "execute_result"
    }
   ],
   "source": [
    "test.columns"
   ]
  },
  {
   "cell_type": "markdown",
   "metadata": {},
   "source": [
    "**Step 3: Prepare training set**"
   ]
  },
  {
   "cell_type": "code",
   "execution_count": 261,
   "metadata": {
    "collapsed": false
   },
   "outputs": [],
   "source": [
    "#prepare X and y\n",
    "X = pd.concat([test.loc[:, :'vehicle_added_completed'], test.loc[:, 'city_name_Berton':]], axis=1)\n",
    "y = test.converted"
   ]
  },
  {
   "cell_type": "code",
   "execution_count": 272,
   "metadata": {
    "collapsed": false
   },
   "outputs": [
    {
     "data": {
      "text/plain": [
       "0    48540\n",
       "1     6060\n",
       "Name: converted, dtype: int64"
      ]
     },
     "execution_count": 272,
     "metadata": {},
     "output_type": "execute_result"
    }
   ],
   "source": [
    "y.value_counts()"
   ]
  },
  {
   "cell_type": "markdown",
   "metadata": {},
   "source": [
    "**Step 4: Model**\n",
    "\n",
    "A random forest classification model."
   ]
  },
  {
   "cell_type": "code",
   "execution_count": 36,
   "metadata": {
    "collapsed": false
   },
   "outputs": [],
   "source": [
    "#60%-20%-20% train-validation-test split\n",
    "train, validate, testset = np.split(test.sample(frac=1), [int(.6*len(test)), int(.8*len(test))])"
   ]
  },
  {
   "cell_type": "code",
   "execution_count": 37,
   "metadata": {
    "collapsed": true
   },
   "outputs": [],
   "source": [
    "X = pd.concat([train.loc[:, :'vehicle_added_completed'], train.loc[:, 'city_name_Berton':]], axis=1)\n",
    "y = train.converted"
   ]
  },
  {
   "cell_type": "code",
   "execution_count": null,
   "metadata": {
    "collapsed": true
   },
   "outputs": [],
   "source": []
  },
  {
   "cell_type": "code",
   "execution_count": 38,
   "metadata": {
    "collapsed": true
   },
   "outputs": [],
   "source": [
    "def rf_model(X, y):\n",
    "    X_train, X_test, y_train, y_test = train_test_split(X, y, test_size=0.2, random_state=42)\n",
    "    rf = RandomForestClassifier(n_estimators=100, random_state=42, class_weight='balanced', oob_score=True)\n",
    "    solution = rf.fit(X_train, y_train)\n",
    "     \n",
    "    #out of bag score\n",
    "    oob_score = rf.oob_score_\n",
    "\n",
    "    feature_importance = pd.DataFrame({'features': X_train.columns,'importance': solution.feature_importances_})\n",
    "    feature_importance.sort_values(by = 'importance', ascending = False, inplace=True)\n",
    "    feature_importance.set_index('features').plot(kind='barh', figsize=(12, 6))\n",
    "\n",
    "    return rf, solution, X_test, y_test, oob_score"
   ]
  },
  {
   "cell_type": "code",
   "execution_count": 39,
   "metadata": {
    "collapsed": false
   },
   "outputs": [
    {
     "data": {
      "image/png": "[encoded data removed]",
      "text/plain": [
       "<matplotlib.figure.Figure at 0x1120e4250>"
      ]
     },
     "metadata": {},
     "output_type": "display_data"
    }
   ],
   "source": [
    "rf, solution, X_test, y_test, oob_score = rf_model(X, y)"
   ]
  },
  {
   "cell_type": "markdown",
   "metadata": {},
   "source": [
    "Take-away from the plot:\n",
    "1. Whether vehicle information is uploaded is the strongest predictor of taking the first trip.\n",
    "2. Vehicles need to be within 15 years old to be eligible for the first trip. \n",
    "3. Vehicle passing the background check is more likely to take the first trip.\n",
    "4. Partners that sign up via referral are more likely to take the first trip. \n",
    "5. Other factors include signup system and channel. "
   ]
  },
  {
   "cell_type": "markdown",
   "metadata": {},
   "source": [
    "**Step 4: Validation**\n",
    "* Out-of-bag test error from random forest model\n",
    "* ROC and AUC\n",
    "* Precision, recall, confusion matrix"
   ]
  },
  {
   "cell_type": "code",
   "execution_count": 40,
   "metadata": {
    "collapsed": false
   },
   "outputs": [
    {
     "name": "stdout",
     "output_type": "stream",
     "text": [
      "The out-of-bag test error is 0.87\n"
     ]
    }
   ],
   "source": [
    "print \"The out-of-bag test error is %.2f\" % oob_score"
   ]
  },
  {
   "cell_type": "code",
   "execution_count": 49,
   "metadata": {
    "collapsed": true
   },
   "outputs": [],
   "source": [
    "def ROC(solution, X_test, y_test):\n",
    "    y_pred = solution.predict_proba(X_test)\n",
    "    y_scores = pd.DataFrame(y_pred)[1]\n",
    "    fpr, tpr, thresholds = roc_curve(y_test.ravel(), y_scores.ravel())\n",
    "    auc_score = auc(fpr, tpr)\n",
    "    \n",
    "    plt.figure()\n",
    "    plt.plot(fpr, tpr, linestyle = ':', linewidth = 4, color = 'navy', \\\n",
    "             label='ROC curve (area = %.4s)' % auc_score)\n",
    "    plt.plot([0, 1], [0, 1], 'k--', lw = 2)\n",
    "    plt.xlim([0.0, 1.0])\n",
    "    plt.ylim([0.0, 1.05])\n",
    "    plt.xlabel('False Positive Rate')\n",
    "    plt.ylabel('True Positive Rate')\n",
    "    plt.legend('Receiving Operating Characteristic')\n",
    "    plt.legend(loc = 'lower right')\n",
    "    return fpr, tpr, thresholds, auc_score"
   ]
  },
  {
   "cell_type": "code",
   "execution_count": 50,
   "metadata": {
    "collapsed": false
   },
   "outputs": [
    {
     "data": {
      "image/png": "[encoded data removed]",
      "text/plain": [
       "<matplotlib.figure.Figure at 0x112a2c3d0>"
      ]
     },
     "metadata": {},
     "output_type": "display_data"
    }
   ],
   "source": [
    "fpr, tpr, thresholds, auc_score = ROC(solution, X_test, y_test)"
   ]
  },
  {
   "cell_type": "code",
   "execution_count": 69,
   "metadata": {
    "collapsed": false
   },
   "outputs": [
    {
     "data": {
      "text/html": [
       "<div>\n",
       "<table border=\"1\" class=\"dataframe\">\n",
       "  <thead>\n",
       "    <tr style=\"text-align: right;\">\n",
       "      <th></th>\n",
       "      <th>fpr</th>\n",
       "      <th>threshold</th>\n",
       "      <th>tpr</th>\n",
       "    </tr>\n",
       "  </thead>\n",
       "  <tbody>\n",
       "    <tr>\n",
       "      <th>46</th>\n",
       "      <td>0.134088</td>\n",
       "      <td>0.785222</td>\n",
       "      <td>0.905556</td>\n",
       "    </tr>\n",
       "    <tr>\n",
       "      <th>47</th>\n",
       "      <td>0.134774</td>\n",
       "      <td>0.766595</td>\n",
       "      <td>0.908333</td>\n",
       "    </tr>\n",
       "    <tr>\n",
       "      <th>48</th>\n",
       "      <td>0.137860</td>\n",
       "      <td>0.753327</td>\n",
       "      <td>0.915278</td>\n",
       "    </tr>\n",
       "    <tr>\n",
       "      <th>49</th>\n",
       "      <td>0.138032</td>\n",
       "      <td>0.745735</td>\n",
       "      <td>0.915278</td>\n",
       "    </tr>\n",
       "    <tr>\n",
       "      <th>50</th>\n",
       "      <td>0.139746</td>\n",
       "      <td>0.715342</td>\n",
       "      <td>0.920833</td>\n",
       "    </tr>\n",
       "    <tr>\n",
       "      <th>51</th>\n",
       "      <td>0.141804</td>\n",
       "      <td>0.705857</td>\n",
       "      <td>0.931944</td>\n",
       "    </tr>\n",
       "    <tr>\n",
       "      <th>52</th>\n",
       "      <td>0.141804</td>\n",
       "      <td>0.690501</td>\n",
       "      <td>0.934722</td>\n",
       "    </tr>\n",
       "    <tr>\n",
       "      <th>53</th>\n",
       "      <td>0.142833</td>\n",
       "      <td>0.672604</td>\n",
       "      <td>0.938889</td>\n",
       "    </tr>\n",
       "    <tr>\n",
       "      <th>54</th>\n",
       "      <td>0.144890</td>\n",
       "      <td>0.658634</td>\n",
       "      <td>0.943056</td>\n",
       "    </tr>\n",
       "    <tr>\n",
       "      <th>55</th>\n",
       "      <td>0.144890</td>\n",
       "      <td>0.651216</td>\n",
       "      <td>0.944444</td>\n",
       "    </tr>\n",
       "    <tr>\n",
       "      <th>56</th>\n",
       "      <td>0.146262</td>\n",
       "      <td>0.646368</td>\n",
       "      <td>0.947222</td>\n",
       "    </tr>\n",
       "    <tr>\n",
       "      <th>57</th>\n",
       "      <td>0.146433</td>\n",
       "      <td>0.602251</td>\n",
       "      <td>0.948611</td>\n",
       "    </tr>\n",
       "    <tr>\n",
       "      <th>58</th>\n",
       "      <td>0.146776</td>\n",
       "      <td>0.491236</td>\n",
       "      <td>0.948611</td>\n",
       "    </tr>\n",
       "    <tr>\n",
       "      <th>59</th>\n",
       "      <td>0.148491</td>\n",
       "      <td>0.489954</td>\n",
       "      <td>0.950000</td>\n",
       "    </tr>\n",
       "    <tr>\n",
       "      <th>60</th>\n",
       "      <td>0.148491</td>\n",
       "      <td>0.458433</td>\n",
       "      <td>0.951389</td>\n",
       "    </tr>\n",
       "    <tr>\n",
       "      <th>61</th>\n",
       "      <td>0.149348</td>\n",
       "      <td>0.438129</td>\n",
       "      <td>0.951389</td>\n",
       "    </tr>\n",
       "    <tr>\n",
       "      <th>62</th>\n",
       "      <td>0.149863</td>\n",
       "      <td>0.370753</td>\n",
       "      <td>0.952778</td>\n",
       "    </tr>\n",
       "    <tr>\n",
       "      <th>63</th>\n",
       "      <td>0.151749</td>\n",
       "      <td>0.324778</td>\n",
       "      <td>0.952778</td>\n",
       "    </tr>\n",
       "    <tr>\n",
       "      <th>64</th>\n",
       "      <td>0.151920</td>\n",
       "      <td>0.309606</td>\n",
       "      <td>0.952778</td>\n",
       "    </tr>\n",
       "    <tr>\n",
       "      <th>65</th>\n",
       "      <td>0.152606</td>\n",
       "      <td>0.300424</td>\n",
       "      <td>0.952778</td>\n",
       "    </tr>\n",
       "    <tr>\n",
       "      <th>66</th>\n",
       "      <td>0.152778</td>\n",
       "      <td>0.297885</td>\n",
       "      <td>0.952778</td>\n",
       "    </tr>\n",
       "    <tr>\n",
       "      <th>67</th>\n",
       "      <td>0.156036</td>\n",
       "      <td>0.292131</td>\n",
       "      <td>0.955556</td>\n",
       "    </tr>\n",
       "    <tr>\n",
       "      <th>68</th>\n",
       "      <td>0.156207</td>\n",
       "      <td>0.287480</td>\n",
       "      <td>0.955556</td>\n",
       "    </tr>\n",
       "    <tr>\n",
       "      <th>69</th>\n",
       "      <td>0.159122</td>\n",
       "      <td>0.261529</td>\n",
       "      <td>0.956944</td>\n",
       "    </tr>\n",
       "    <tr>\n",
       "      <th>70</th>\n",
       "      <td>0.170782</td>\n",
       "      <td>0.217033</td>\n",
       "      <td>0.958333</td>\n",
       "    </tr>\n",
       "    <tr>\n",
       "      <th>71</th>\n",
       "      <td>0.170953</td>\n",
       "      <td>0.216523</td>\n",
       "      <td>0.958333</td>\n",
       "    </tr>\n",
       "    <tr>\n",
       "      <th>72</th>\n",
       "      <td>0.182613</td>\n",
       "      <td>0.179329</td>\n",
       "      <td>0.963889</td>\n",
       "    </tr>\n",
       "    <tr>\n",
       "      <th>73</th>\n",
       "      <td>0.192901</td>\n",
       "      <td>0.174240</td>\n",
       "      <td>0.965278</td>\n",
       "    </tr>\n",
       "  </tbody>\n",
       "</table>\n",
       "</div>"
      ],
      "text/plain": [
       "         fpr  threshold       tpr\n",
       "46  0.134088   0.785222  0.905556\n",
       "47  0.134774   0.766595  0.908333\n",
       "48  0.137860   0.753327  0.915278\n",
       "49  0.138032   0.745735  0.915278\n",
       "50  0.139746   0.715342  0.920833\n",
       "51  0.141804   0.705857  0.931944\n",
       "52  0.141804   0.690501  0.934722\n",
       "53  0.142833   0.672604  0.938889\n",
       "54  0.144890   0.658634  0.943056\n",
       "55  0.144890   0.651216  0.944444\n",
       "56  0.146262   0.646368  0.947222\n",
       "57  0.146433   0.602251  0.948611\n",
       "58  0.146776   0.491236  0.948611\n",
       "59  0.148491   0.489954  0.950000\n",
       "60  0.148491   0.458433  0.951389\n",
       "61  0.149348   0.438129  0.951389\n",
       "62  0.149863   0.370753  0.952778\n",
       "63  0.151749   0.324778  0.952778\n",
       "64  0.151920   0.309606  0.952778\n",
       "65  0.152606   0.300424  0.952778\n",
       "66  0.152778   0.297885  0.952778\n",
       "67  0.156036   0.292131  0.955556\n",
       "68  0.156207   0.287480  0.955556\n",
       "69  0.159122   0.261529  0.956944\n",
       "70  0.170782   0.217033  0.958333\n",
       "71  0.170953   0.216523  0.958333\n",
       "72  0.182613   0.179329  0.963889\n",
       "73  0.192901   0.174240  0.965278"
      ]
     },
     "execution_count": 69,
     "metadata": {},
     "output_type": "execute_result"
    }
   ],
   "source": [
    "ROC_summary = pd.DataFrame({'fpr': fpr, 'tpr': tpr, 'threshold': thresholds})\n",
    "ROC_summary[(ROC_summary.fpr < 0.2) & (ROC_summary.tpr > 0.9)]"
   ]
  },
  {
   "cell_type": "code",
   "execution_count": 63,
   "metadata": {
    "collapsed": false
   },
   "outputs": [
    {
     "name": "stdout",
     "output_type": "stream",
     "text": [
      "f1 score : 0.605228178999\n",
      "recall: 0.948611111111\n",
      "precision 0.444372153546\n"
     ]
    }
   ],
   "source": [
    "#f1, precision, recall\n",
    "y_predict = solution.predict(X_test)\n",
    "f1 = f1_score(y_test, y_predict)\n",
    "recall = recall_score(y_test, y_predict)\n",
    "precision = precision_score(y_test, y_predict)\n",
    "\n",
    "print \"f1 score : {}\".format(f1)\n",
    "print \"recall: {}\".format(recall)\n",
    "print \"precision {}\".format(precision)"
   ]
  },
  {
   "cell_type": "code",
   "execution_count": 44,
   "metadata": {
    "collapsed": true
   },
   "outputs": [],
   "source": [
    "def ConfusionMatrix(solution, X_test, y_test):\n",
    "    y_predict = solution.predict(X_test)\n",
    "    cm = confusion_matrix(y_test, y_predict)\n",
    "    return cm"
   ]
  },
  {
   "cell_type": "code",
   "execution_count": 45,
   "metadata": {
    "collapsed": false
   },
   "outputs": [
    {
     "name": "stdout",
     "output_type": "stream",
     "text": [
      "The confusion matrix is \n",
      "[[4978  854]\n",
      " [  37  683]]\n"
     ]
    }
   ],
   "source": [
    "print \"The confusion matrix is \"\n",
    "print ConfusionMatrix(solution, X_test, y_test)"
   ]
  },
  {
   "cell_type": "markdown",
   "metadata": {},
   "source": [
    "We can clearly see the trade-off between precision and recall. The model does a good job predicting partners that took the first trip (55 false negatives). However, it is at the cost of incorrectly predicting those that didn't take the first trip (1401 false positives). In other words, the model has a low type II error at a cost of a high type I error. This is partially due to that we balanced the minority class with a weight of 12 (by setting class_weight='balanced' in RF model). With a smaller or no weight, we expect to see an increase in precision while a drop in recall. Other potential solutions to overcome the unbalanced label are to gather more data and over-sampling. \n",
    "\n",
    "The answer really comes down to which one, i.e. precision and recall, is more substantial in a specific problem. In fraud detection, we'd like a high recall as we don't want to miss any fraud behavior. In this problem, I'd expect a balance between the precision and recall, as we don't want to miss classify either groups."
   ]
  },
  {
   "cell_type": "markdown",
   "metadata": {},
   "source": [
    "### Question 3\n",
    "Briefly discuss how Uber might leverage the insights gained from the model to generate more first trips (again, a few ideas/sentences will suffice)."
   ]
  },
  {
   "cell_type": "markdown",
   "metadata": {},
   "source": [
    "A few insights can be drawn from the model.\n",
    "1. Encourage driver partners to upload vehicle information. \n",
    "    * Uber can send reminders to partners for an incomplete upload or to starta a new.\n",
    "2. Make sure potential partners aware of the 15-year-old model limit before signing up so that they can take immediate actions.\n",
    "    * Uber may highlight this requirement at the signup guidelines. Potential partners with an old car can make an effort to meet the requirement, such as switching to a newer model or renting a car.\n",
    "3. Encourage partners to complete the background check. \n",
    "    * With more time and features, I'd like to explore the background check completion rate and identify the bottleneck in the funnel, such as document completion and etc. With additional insights, Uber can follow up with corresponding actions.\n",
    "4. Encourage partner referral. \n",
    "    * Uber can give partner promotions for successful referral."
   ]
  }
 ],
 "metadata": {
  "kernelspec": {
   "display_name": "Python 2",
   "language": "python",
   "name": "python2"
  },
  "language_info": {
   "codemirror_mode": {
    "name": "ipython",
    "version": 2
   },
   "file_extension": ".py",
   "mimetype": "text/x-python",
   "name": "python",
   "nbconvert_exporter": "python",
   "pygments_lexer": "ipython2",
   "version": "2.7.12"
  }
 },
 "nbformat": 4,
 "nbformat_minor": 0
}
