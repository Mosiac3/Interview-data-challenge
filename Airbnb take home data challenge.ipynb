{
 "cells": [
  {
   "cell_type": "markdown",
   "metadata": {},
   "source": [
    "# Part I: Should we launch the new product feature? \n",
    "Airbnb has a new product feature. A/B testing is undergoing.\n",
    "\n",
    "**New product feature**:\n",
    "* Require the guest to write a >= 140 character message to explain the interest in staying with the host\n",
    "\n",
    "**Problem statement**: \n",
    "* Determine if the new product feature improves the booking rate (and it will be launched) or otherwise (and the experiment will be stopped). \n",
    "\n",
    "**A/B testing**:\n",
    "* Treatment: Guests in the treatment group are required to write a message that is at least 140 characters long to explain the interest in staying with the host before proceeds.\n",
    "* Control: Guests in the control group are not required of writing a message before proceeds. But the guest can always send a message to host."
   ]
  },
  {
   "cell_type": "markdown",
   "metadata": {},
   "source": [
    "The main steps are summarized below:\n",
    "1. Understand the data. I will work with assign and contact data sets, and focus on data quality. \n",
    "2. Calculate booking rate for treatment and control groups. There are three ways to book on Aribnb. This problem is most concerned with how the message affects the booking rate. I will only consider contact me and book it as the message will influence the host's decision to accept the request/reservation or not. Instant booking will not be included as it has 100% booking rate, as you will seen in the data.  \n",
    "3. Perform t test to compare the booking rate in the two groups. "
   ]
  },
  {
   "cell_type": "code",
   "execution_count": 1,
   "metadata": {
    "collapsed": true
   },
   "outputs": [],
   "source": [
    "import pandas as pd\n",
    "import numpy as np\n",
    "import matplotlib.pyplot as plt \n",
    "import seaborn as sns \n",
    "import statsmodels.api as sm\n",
    "import datetime\n",
    "from scipy import stats\n",
    "%matplotlib inline"
   ]
  },
  {
   "cell_type": "markdown",
   "metadata": {},
   "source": [
    "## 1. Load data\n",
    "Let's first look at the assign and contact data set."
   ]
  },
  {
   "cell_type": "code",
   "execution_count": 2,
   "metadata": {
    "collapsed": true
   },
   "outputs": [],
   "source": [
    "#load data sets\n",
    "assign = pd.read_csv('assignments.csv')\n",
    "contact = pd.read_csv('contacts.csv')"
   ]
  },
  {
   "cell_type": "code",
   "execution_count": 3,
   "metadata": {
    "collapsed": false
   },
   "outputs": [
    {
     "name": "stdout",
     "output_type": "stream",
     "text": [
      "(50000, 2) (50000, 13)\n"
     ]
    }
   ],
   "source": [
    "print assign.shape, contact.shape"
   ]
  },
  {
   "cell_type": "code",
   "execution_count": 4,
   "metadata": {
    "collapsed": false
   },
   "outputs": [
    {
     "data": {
      "text/html": [
       "<div>\n",
       "<table border=\"1\" class=\"dataframe\">\n",
       "  <thead>\n",
       "    <tr style=\"text-align: right;\">\n",
       "      <th></th>\n",
       "      <th>id_user_anon</th>\n",
       "      <th>ab</th>\n",
       "    </tr>\n",
       "  </thead>\n",
       "  <tbody>\n",
       "    <tr>\n",
       "      <th>0</th>\n",
       "      <td>96cdf536-88d2-436f-a6fb-86df9d4e4b4c</td>\n",
       "      <td>treatment</td>\n",
       "    </tr>\n",
       "    <tr>\n",
       "      <th>1</th>\n",
       "      <td>4bf312ae-3ca7-4abc-9d10-40975b2ec9b4</td>\n",
       "      <td>control</td>\n",
       "    </tr>\n",
       "    <tr>\n",
       "      <th>2</th>\n",
       "      <td>984a32d6-0cdd-4281-b8c2-4d604680d99a</td>\n",
       "      <td>control</td>\n",
       "    </tr>\n",
       "    <tr>\n",
       "      <th>3</th>\n",
       "      <td>732888ac-e357-4423-9cb5-f2cfbf4640f0</td>\n",
       "      <td>control</td>\n",
       "    </tr>\n",
       "    <tr>\n",
       "      <th>4</th>\n",
       "      <td>cb5e69e4-2f3c-46c9-a31a-d94277c4a727</td>\n",
       "      <td>treatment</td>\n",
       "    </tr>\n",
       "  </tbody>\n",
       "</table>\n",
       "</div>"
      ],
      "text/plain": [
       "                           id_user_anon         ab\n",
       "0  96cdf536-88d2-436f-a6fb-86df9d4e4b4c  treatment\n",
       "1  4bf312ae-3ca7-4abc-9d10-40975b2ec9b4    control\n",
       "2  984a32d6-0cdd-4281-b8c2-4d604680d99a    control\n",
       "3  732888ac-e357-4423-9cb5-f2cfbf4640f0    control\n",
       "4  cb5e69e4-2f3c-46c9-a31a-d94277c4a727  treatment"
      ]
     },
     "execution_count": 4,
     "metadata": {},
     "output_type": "execute_result"
    }
   ],
   "source": [
    "assign.head()"
   ]
  },
  {
   "cell_type": "code",
   "execution_count": 5,
   "metadata": {
    "collapsed": false
   },
   "outputs": [
    {
     "data": {
      "text/html": [
       "<div>\n",
       "<table border=\"1\" class=\"dataframe\">\n",
       "  <thead>\n",
       "    <tr style=\"text-align: right;\">\n",
       "      <th></th>\n",
       "      <th>id_guest_anon</th>\n",
       "      <th>id_host_anon</th>\n",
       "      <th>id_listing_anon</th>\n",
       "      <th>ts_interaction_first</th>\n",
       "      <th>ts_reply_at_first</th>\n",
       "      <th>ts_accepted_at_first</th>\n",
       "      <th>ts_booking_at</th>\n",
       "      <th>ds_checkin_first</th>\n",
       "      <th>ds_checkout_first</th>\n",
       "      <th>m_guests_first</th>\n",
       "      <th>m_interactions</th>\n",
       "      <th>m_first_message_length_in_characters</th>\n",
       "      <th>dim_contact_channel_first</th>\n",
       "    </tr>\n",
       "  </thead>\n",
       "  <tbody>\n",
       "    <tr>\n",
       "      <th>0</th>\n",
       "      <td>309179fa-fab8-4798-9426-93641321b003</td>\n",
       "      <td>71d784c7-95d2-4d49-9a4e-bd0662a72fd6</td>\n",
       "      <td>edbb8e3d-5281-4d1f-aef6-3a40ecaa208a</td>\n",
       "      <td>2013-01-01 01:48:57</td>\n",
       "      <td>2013-01-01 10:40:55.0</td>\n",
       "      <td>NaN</td>\n",
       "      <td>NaN</td>\n",
       "      <td>2013-01-02</td>\n",
       "      <td>2013-01-03</td>\n",
       "      <td>1.0</td>\n",
       "      <td>3</td>\n",
       "      <td>538.0</td>\n",
       "      <td>contact_me</td>\n",
       "    </tr>\n",
       "  </tbody>\n",
       "</table>\n",
       "</div>"
      ],
      "text/plain": [
       "                          id_guest_anon                          id_host_anon  \\\n",
       "0  309179fa-fab8-4798-9426-93641321b003  71d784c7-95d2-4d49-9a4e-bd0662a72fd6   \n",
       "\n",
       "                        id_listing_anon ts_interaction_first  \\\n",
       "0  edbb8e3d-5281-4d1f-aef6-3a40ecaa208a  2013-01-01 01:48:57   \n",
       "\n",
       "       ts_reply_at_first ts_accepted_at_first ts_booking_at ds_checkin_first  \\\n",
       "0  2013-01-01 10:40:55.0                  NaN           NaN       2013-01-02   \n",
       "\n",
       "  ds_checkout_first  m_guests_first  m_interactions  \\\n",
       "0        2013-01-03             1.0               3   \n",
       "\n",
       "   m_first_message_length_in_characters dim_contact_channel_first  \n",
       "0                                 538.0                contact_me  "
      ]
     },
     "execution_count": 5,
     "metadata": {},
     "output_type": "execute_result"
    }
   ],
   "source": [
    "contact.head(1)"
   ]
  },
  {
   "cell_type": "markdown",
   "metadata": {},
   "source": [
    "## 2. Understand the data"
   ]
  },
  {
   "cell_type": "markdown",
   "metadata": {},
   "source": [
    "### 1). Group assignment\n",
    "First look at the assign data set. Things to check includes missing values, duplicates, outliers, and things that don't make sense(if any)."
   ]
  },
  {
   "cell_type": "code",
   "execution_count": 6,
   "metadata": {
    "collapsed": false
   },
   "outputs": [
    {
     "data": {
      "text/plain": [
       "id_user_anon    0\n",
       "ab              0\n",
       "dtype: int64"
      ]
     },
     "execution_count": 6,
     "metadata": {},
     "output_type": "execute_result"
    }
   ],
   "source": [
    "#missing values\n",
    "assign.isnull().sum()"
   ]
  },
  {
   "cell_type": "markdown",
   "metadata": {},
   "source": [
    "No missing values. Let's check duplicates."
   ]
  },
  {
   "cell_type": "code",
   "execution_count": 7,
   "metadata": {
    "collapsed": false
   },
   "outputs": [
    {
     "name": "stdout",
     "output_type": "stream",
     "text": [
      "User number without duplicates are 31763.\n",
      "There are 18237 duplicates.\n"
     ]
    }
   ],
   "source": [
    "print \"User number without duplicates are %d.\"%assign.drop_duplicates().shape[0]\n",
    "print 'There are %d duplicates.'%(assign.shape[0] - assign.drop_duplicates().shape[0])"
   ]
  },
  {
   "cell_type": "markdown",
   "metadata": {},
   "source": [
    "Noticed that contact and assign data sets have the same row number, they might originate from the same table. This explains why we see duplicates in assign. Let's confirm it."
   ]
  },
  {
   "cell_type": "code",
   "execution_count": 3,
   "metadata": {
    "collapsed": false
   },
   "outputs": [
    {
     "name": "stdout",
     "output_type": "stream",
     "text": [
      "ab                                    control  treatment\n",
      "id_user_anon                                            \n",
      "0005f1d2-acc7-4bf3-8da6-20674865d55b      1.0        NaN\n",
      "0007b6a0-72e7-4be6-b459-7512cdaca8f1      1.0        1.0\n",
      "00097089-015d-432f-b346-255e7f0d683f      3.0        2.0\n",
      "000a0daf-6cbf-42ea-8ad2-9ff1caad1301      2.0        2.0\n",
      "000a9b12-88e8-4d4b-ad52-a0ddea9f6e48      2.0        1.0\n",
      "000b5b75-fe27-43bd-a757-51652ad0faed      NaN        2.0\n",
      "000c5092-ff3e-404a-8b3c-dbcecaaa8343      NaN        2.0\n",
      "000cd573-d56e-42a3-b1c0-beeea9939bd2      3.0        4.0\n",
      "001575ef-f5cc-4f3c-aa2d-e28265a92a07      1.0        6.0\n",
      "0016db29-ed54-49ed-bc5a-4883a1852c19      1.0        NaN\n",
      "                               id_user_anon         ab\n",
      "776    000a0daf-6cbf-42ea-8ad2-9ff1caad1301  treatment\n",
      "26023  000a0daf-6cbf-42ea-8ad2-9ff1caad1301    control\n",
      "32542  000a0daf-6cbf-42ea-8ad2-9ff1caad1301  treatment\n",
      "47117  000a0daf-6cbf-42ea-8ad2-9ff1caad1301    control\n"
     ]
    }
   ],
   "source": [
    "#check duplicates\n",
    "#assign.groupby('id_user_anon').count().sort_values(by='ab',ascending=False)\n",
    "\n",
    "#user frequency table\n",
    "group_by_id = assign.groupby(['id_user_anon', 'ab']).size().unstack()\n",
    "print group_by_id.head(10)\n",
    "\n",
    "#user example\n",
    "print assign[assign.id_user_anon == '000a0daf-6cbf-42ea-8ad2-9ff1caad1301']"
   ]
  },
  {
   "cell_type": "code",
   "execution_count": 9,
   "metadata": {
    "collapsed": false
   },
   "outputs": [
    {
     "name": "stdout",
     "output_type": "stream",
     "text": [
      "Unique user number is 25209.\n",
      "There are 6554 users in both control and treatment group.\n"
     ]
    }
   ],
   "source": [
    "#unique users\n",
    "print \"Unique user number is %d.\"%len(np.unique(assign.id_user_anon))\n",
    "print 'There are %d users in both control and treatment group.' \\\n",
    "        %(assign.drop_duplicates().shape[0]-len(np.unique(assign.id_user_anon)))"
   ]
  },
  {
   "cell_type": "markdown",
   "metadata": {},
   "source": [
    "A few things I noticed here:\n",
    "1. There are duplicates. The same user is assigned to control or treatment multiple times. I will drop those duplicates. \n",
    "2. The same user is assigned to both treatment and control! \n",
    " * This is not a good idea in A/B testing. The treatment to the user may affect his/her behavior in the control or vice versa. Say a guest is in treatment first. He is required to write a long message to the host. Then he is in the control group, and is not required to write the message. But he may still write one which he may not have written without the treatment. The guest behavior is changed by the treatment, causing bias to the experiment. \n",
    " * To ensure the experiment accuracy, I will drop these users. \n",
    " * Reasons causing the double-counting. User must sign in to make inquiries, so we can exclude the mixed group effect caused by cookie assignment. There might be procedural errors. Data science team should talk to the engineering team and find the root cause."
   ]
  },
  {
   "cell_type": "markdown",
   "metadata": {},
   "source": [
    "I will drop duplicates and users in both groups."
   ]
  },
  {
   "cell_type": "code",
   "execution_count": 4,
   "metadata": {
    "collapsed": false
   },
   "outputs": [],
   "source": [
    "#drop duplicates\n",
    "assign = assign.drop_duplicates()\n",
    "#assign.shape"
   ]
  },
  {
   "cell_type": "code",
   "execution_count": 5,
   "metadata": {
    "collapsed": false
   },
   "outputs": [],
   "source": [
    "#drop users in both groups\n",
    "mixed_grouped = assign.groupby(['id_user_anon']).count()\n",
    "tokeep = mixed_grouped[mixed_grouped.ab == 1].reset_index().id_user_anon.tolist()\n",
    "assign = assign[assign.id_user_anon.isin(tokeep)]"
   ]
  },
  {
   "cell_type": "code",
   "execution_count": 6,
   "metadata": {
    "collapsed": false
   },
   "outputs": [
    {
     "data": {
      "text/plain": [
       "(18655, 2)"
      ]
     },
     "execution_count": 6,
     "metadata": {},
     "output_type": "execute_result"
    }
   ],
   "source": [
    "#users\n",
    "assign.shape"
   ]
  },
  {
   "cell_type": "markdown",
   "metadata": {},
   "source": [
    "### 2). Understand contacts between guest and host\n",
    "Now I will focus on contact data set."
   ]
  },
  {
   "cell_type": "markdown",
   "metadata": {},
   "source": [
    "#### A. Check missing values"
   ]
  },
  {
   "cell_type": "code",
   "execution_count": 13,
   "metadata": {
    "collapsed": false
   },
   "outputs": [
    {
     "data": {
      "text/plain": [
       "id_guest_anon                               0\n",
       "id_host_anon                                0\n",
       "id_listing_anon                             0\n",
       "ts_interaction_first                        0\n",
       "ts_reply_at_first                        5925\n",
       "ts_accepted_at_first                    26807\n",
       "ts_booking_at                           37593\n",
       "ds_checkin_first                            0\n",
       "ds_checkout_first                           0\n",
       "m_guests_first                            145\n",
       "m_interactions                              0\n",
       "m_first_message_length_in_characters        0\n",
       "dim_contact_channel_first                   0\n",
       "dtype: int64"
      ]
     },
     "execution_count": 13,
     "metadata": {},
     "output_type": "execute_result"
    }
   ],
   "source": [
    "#check missing values\n",
    "contact.isnull().sum()"
   ]
  },
  {
   "cell_type": "markdown",
   "metadata": {},
   "source": [
    "The missing values in ts_reply_at_first, ts_accepted_at_first, and ts_booking_at means that the host did not reply, did not accept the booking, and the booking was not successful (due to either host not accepting or guest canceling it). They will be used for booking rate or accepting rate calculation. I will not drop them. The missing values in m_guests_first is likely because the guest didn't put in the information. I will take care of it later."
   ]
  },
  {
   "cell_type": "markdown",
   "metadata": {},
   "source": [
    "#### B. Number of guest-host interactions"
   ]
  },
  {
   "cell_type": "code",
   "execution_count": 14,
   "metadata": {
    "collapsed": false
   },
   "outputs": [
    {
     "data": {
      "text/plain": [
       "count    50000.000000\n",
       "mean         5.354240\n",
       "std          5.646864\n",
       "min          1.000000\n",
       "25%          2.000000\n",
       "50%          3.000000\n",
       "75%          7.000000\n",
       "max        164.000000\n",
       "Name: m_interactions, dtype: float64"
      ]
     },
     "execution_count": 14,
     "metadata": {},
     "output_type": "execute_result"
    }
   ],
   "source": [
    "#distribution\n",
    "contact.m_interactions.describe()"
   ]
  },
  {
   "cell_type": "markdown",
   "metadata": {},
   "source": [
    "164 interactions look suspicious. I will take a closer look."
   ]
  },
  {
   "cell_type": "code",
   "execution_count": 15,
   "metadata": {
    "collapsed": false
   },
   "outputs": [
    {
     "data": {
      "text/html": [
       "<div>\n",
       "<table border=\"1\" class=\"dataframe\">\n",
       "  <thead>\n",
       "    <tr style=\"text-align: right;\">\n",
       "      <th></th>\n",
       "      <th>id_guest_anon</th>\n",
       "      <th>id_host_anon</th>\n",
       "      <th>id_listing_anon</th>\n",
       "      <th>ts_interaction_first</th>\n",
       "      <th>ts_reply_at_first</th>\n",
       "      <th>ts_accepted_at_first</th>\n",
       "      <th>ts_booking_at</th>\n",
       "      <th>ds_checkin_first</th>\n",
       "      <th>ds_checkout_first</th>\n",
       "      <th>m_guests_first</th>\n",
       "      <th>m_interactions</th>\n",
       "      <th>m_first_message_length_in_characters</th>\n",
       "      <th>dim_contact_channel_first</th>\n",
       "    </tr>\n",
       "  </thead>\n",
       "  <tbody>\n",
       "    <tr>\n",
       "      <th>40069</th>\n",
       "      <td>6569deb9-71dd-4915-89dc-d2310a42da40</td>\n",
       "      <td>f24fcf08-6f76-4b2b-8481-2f51a969a518</td>\n",
       "      <td>73470500-2c49-4066-a9ff-f46dcd70ea8f</td>\n",
       "      <td>2013-09-04 07:29:22</td>\n",
       "      <td>2013-09-04 08:19:37.0</td>\n",
       "      <td>2014-08-06 20:22:52.0</td>\n",
       "      <td>NaN</td>\n",
       "      <td>2013-11-20</td>\n",
       "      <td>2013-11-24</td>\n",
       "      <td>1.0</td>\n",
       "      <td>164</td>\n",
       "      <td>92.0</td>\n",
       "      <td>contact_me</td>\n",
       "    </tr>\n",
       "  </tbody>\n",
       "</table>\n",
       "</div>"
      ],
      "text/plain": [
       "                              id_guest_anon  \\\n",
       "40069  6569deb9-71dd-4915-89dc-d2310a42da40   \n",
       "\n",
       "                               id_host_anon  \\\n",
       "40069  f24fcf08-6f76-4b2b-8481-2f51a969a518   \n",
       "\n",
       "                            id_listing_anon ts_interaction_first  \\\n",
       "40069  73470500-2c49-4066-a9ff-f46dcd70ea8f  2013-09-04 07:29:22   \n",
       "\n",
       "           ts_reply_at_first   ts_accepted_at_first ts_booking_at  \\\n",
       "40069  2013-09-04 08:19:37.0  2014-08-06 20:22:52.0           NaN   \n",
       "\n",
       "      ds_checkin_first ds_checkout_first  m_guests_first  m_interactions  \\\n",
       "40069       2013-11-20        2013-11-24             1.0             164   \n",
       "\n",
       "       m_first_message_length_in_characters dim_contact_channel_first  \n",
       "40069                                  92.0                contact_me  "
      ]
     },
     "execution_count": 15,
     "metadata": {},
     "output_type": "execute_result"
    }
   ],
   "source": [
    "contact[contact.m_interactions ==  164]"
   ]
  },
  {
   "cell_type": "markdown",
   "metadata": {},
   "source": [
    "This data is indeed suspicious:\n",
    "1. The number of interactions between guest and host is 164, which is abnormally high.\n",
    "2. The host accepted the booking request almost a year later of the first inquiry. \n",
    "\n",
    "Considering how representative the data is, I will remove this data point."
   ]
  },
  {
   "cell_type": "code",
   "execution_count": 7,
   "metadata": {
    "collapsed": false
   },
   "outputs": [],
   "source": [
    "contact = contact[contact.m_interactions != 164]"
   ]
  },
  {
   "cell_type": "code",
   "execution_count": 17,
   "metadata": {
    "collapsed": false
   },
   "outputs": [
    {
     "data": {
      "text/html": [
       "<div>\n",
       "<table border=\"1\" class=\"dataframe\">\n",
       "  <thead>\n",
       "    <tr style=\"text-align: right;\">\n",
       "      <th></th>\n",
       "      <th>id_guest_anon</th>\n",
       "      <th>id_host_anon</th>\n",
       "      <th>id_listing_anon</th>\n",
       "      <th>ts_interaction_first</th>\n",
       "      <th>ts_reply_at_first</th>\n",
       "      <th>ts_accepted_at_first</th>\n",
       "      <th>ts_booking_at</th>\n",
       "      <th>ds_checkin_first</th>\n",
       "      <th>ds_checkout_first</th>\n",
       "      <th>m_guests_first</th>\n",
       "      <th>m_interactions</th>\n",
       "      <th>m_first_message_length_in_characters</th>\n",
       "      <th>dim_contact_channel_first</th>\n",
       "    </tr>\n",
       "  </thead>\n",
       "  <tbody>\n",
       "    <tr>\n",
       "      <th>1186</th>\n",
       "      <td>5cce0b86-d257-4d1a-b52a-c95e98c1d8e9</td>\n",
       "      <td>6fcd10bc-65aa-4932-8268-23711fa13103</td>\n",
       "      <td>8f7b0d9b-1bd0-4826-bb0f-4cb3b389811b</td>\n",
       "      <td>2013-05-07 00:20:08</td>\n",
       "      <td>2013-05-07 05:19:29.0</td>\n",
       "      <td>2013-05-18 23:59:17.0</td>\n",
       "      <td>2013-05-18 23:59:17.0</td>\n",
       "      <td>2013-08-20</td>\n",
       "      <td>2013-08-23</td>\n",
       "      <td>2.0</td>\n",
       "      <td>54</td>\n",
       "      <td>319.0</td>\n",
       "      <td>contact_me</td>\n",
       "    </tr>\n",
       "    <tr>\n",
       "      <th>1404</th>\n",
       "      <td>95585217-871c-4eac-a8d4-47a87b9a9314</td>\n",
       "      <td>3b93f529-40ba-457b-aef3-326838df16fc</td>\n",
       "      <td>f475c8d5-4dc5-43bc-ae50-f7a3d505919d</td>\n",
       "      <td>2013-05-25 11:10:18</td>\n",
       "      <td>2013-05-25 12:36:40.0</td>\n",
       "      <td>2013-05-27 07:03:24.0</td>\n",
       "      <td>2013-05-31 07:43:39.0</td>\n",
       "      <td>2013-06-06</td>\n",
       "      <td>2013-06-09</td>\n",
       "      <td>1.0</td>\n",
       "      <td>107</td>\n",
       "      <td>289.0</td>\n",
       "      <td>contact_me</td>\n",
       "    </tr>\n",
       "    <tr>\n",
       "      <th>2777</th>\n",
       "      <td>af683d82-92fa-4f91-a06d-2abaca856a23</td>\n",
       "      <td>9dae91a9-9a73-4fb7-9b47-a0bd9cf69a86</td>\n",
       "      <td>a75c66c9-565c-4c57-bcbf-ad48e29fb7ec</td>\n",
       "      <td>2013-09-13 12:13:12</td>\n",
       "      <td>2013-09-13 12:28:45.0</td>\n",
       "      <td>2013-09-13 12:28:45.0</td>\n",
       "      <td>2013-09-19 17:07:42.0</td>\n",
       "      <td>2013-11-05</td>\n",
       "      <td>2013-11-11</td>\n",
       "      <td>2.0</td>\n",
       "      <td>68</td>\n",
       "      <td>59.0</td>\n",
       "      <td>contact_me</td>\n",
       "    </tr>\n",
       "    <tr>\n",
       "      <th>3204</th>\n",
       "      <td>a14bd4c6-384a-4775-beca-a6427ab5bea8</td>\n",
       "      <td>89a37380-965c-4822-b9de-69a594aadc96</td>\n",
       "      <td>d5be9e7f-b74c-40ff-99a0-cac88416645f</td>\n",
       "      <td>2013-10-08 20:54:34</td>\n",
       "      <td>2013-10-08 21:36:35.0</td>\n",
       "      <td>2013-10-09 08:17:56.0</td>\n",
       "      <td>2013-10-13 22:28:05.0</td>\n",
       "      <td>2014-01-06</td>\n",
       "      <td>2014-02-05</td>\n",
       "      <td>1.0</td>\n",
       "      <td>55</td>\n",
       "      <td>174.0</td>\n",
       "      <td>contact_me</td>\n",
       "    </tr>\n",
       "    <tr>\n",
       "      <th>4306</th>\n",
       "      <td>c214000d-c6c1-4c17-b20c-70e8cc40f087</td>\n",
       "      <td>82d04f57-2a24-4751-a6c7-2e9168b66822</td>\n",
       "      <td>ded16fc8-2ddb-4c4e-b531-4719364505bb</td>\n",
       "      <td>2013-12-17 19:27:51</td>\n",
       "      <td>2013-12-17 21:33:06.0</td>\n",
       "      <td>2013-12-18 21:45:07.0</td>\n",
       "      <td>2013-12-21 15:40:37.0</td>\n",
       "      <td>2014-01-01</td>\n",
       "      <td>2014-01-08</td>\n",
       "      <td>1.0</td>\n",
       "      <td>83</td>\n",
       "      <td>248.0</td>\n",
       "      <td>contact_me</td>\n",
       "    </tr>\n",
       "    <tr>\n",
       "      <th>5711</th>\n",
       "      <td>7744c449-a3eb-4fc0-a275-02805ca5a322</td>\n",
       "      <td>d4b63087-0a82-4fc7-81e0-6d299ec9837f</td>\n",
       "      <td>f473e902-0f7c-4b02-adce-64b20650e1a2</td>\n",
       "      <td>2013-02-08 18:21:02</td>\n",
       "      <td>2013-02-08 18:40:10.0</td>\n",
       "      <td>2013-02-08 18:40:10.0</td>\n",
       "      <td>2013-02-14 19:14:58.0</td>\n",
       "      <td>2013-02-18</td>\n",
       "      <td>2013-03-18</td>\n",
       "      <td>1.0</td>\n",
       "      <td>53</td>\n",
       "      <td>158.0</td>\n",
       "      <td>contact_me</td>\n",
       "    </tr>\n",
       "    <tr>\n",
       "      <th>7094</th>\n",
       "      <td>4225e82b-5334-46f2-bd82-dec4f27e6bba</td>\n",
       "      <td>39008088-58f6-43f7-9b3a-5c122a5253de</td>\n",
       "      <td>984c3c8b-a220-4ece-9020-4ca327500c12</td>\n",
       "      <td>2013-06-18 17:49:43</td>\n",
       "      <td>2013-06-19 06:41:37.0</td>\n",
       "      <td>2013-06-20 14:07:18.0</td>\n",
       "      <td>2013-06-21 10:36:18.0</td>\n",
       "      <td>2013-06-19</td>\n",
       "      <td>2013-09-14</td>\n",
       "      <td>1.0</td>\n",
       "      <td>71</td>\n",
       "      <td>321.0</td>\n",
       "      <td>contact_me</td>\n",
       "    </tr>\n",
       "    <tr>\n",
       "      <th>8849</th>\n",
       "      <td>59fc76e2-dd51-4ad9-90ac-45e3c57b337b</td>\n",
       "      <td>831e7814-c85c-4372-ba5b-9d3361e5d00e</td>\n",
       "      <td>6a352d61-4956-431b-8eff-f3b093d8b177</td>\n",
       "      <td>2013-10-30 20:08:45</td>\n",
       "      <td>2013-10-30 20:21:13.0</td>\n",
       "      <td>2013-10-30 20:21:13.0</td>\n",
       "      <td>2013-10-30 20:40:34.0</td>\n",
       "      <td>2013-11-27</td>\n",
       "      <td>2014-01-01</td>\n",
       "      <td>2.0</td>\n",
       "      <td>52</td>\n",
       "      <td>179.0</td>\n",
       "      <td>contact_me</td>\n",
       "    </tr>\n",
       "    <tr>\n",
       "      <th>9097</th>\n",
       "      <td>2b248f34-7b96-4316-bcfa-c5e8ae9b8217</td>\n",
       "      <td>85bfd501-4dec-4ed8-93fe-6b1caa45ec52</td>\n",
       "      <td>269e6a86-62d9-4fb2-bf78-dae33f2f0b04</td>\n",
       "      <td>2013-11-16 20:37:40</td>\n",
       "      <td>2013-11-16 20:58:26.0</td>\n",
       "      <td>2013-11-16 20:58:26.0</td>\n",
       "      <td>2013-12-28 17:43:52.0</td>\n",
       "      <td>2014-06-08</td>\n",
       "      <td>2014-07-18</td>\n",
       "      <td>3.0</td>\n",
       "      <td>93</td>\n",
       "      <td>1076.0</td>\n",
       "      <td>contact_me</td>\n",
       "    </tr>\n",
       "    <tr>\n",
       "      <th>12320</th>\n",
       "      <td>a813f973-12ee-4e1a-b0e7-c42eebe381d5</td>\n",
       "      <td>8748f084-0761-447e-9a65-d567f3a07dde</td>\n",
       "      <td>75df1f31-b8c6-4a83-a2a3-9d9e63557af9</td>\n",
       "      <td>2013-06-14 07:21:22</td>\n",
       "      <td>2013-06-16 07:55:29.0</td>\n",
       "      <td>2013-06-17 05:07:44.0</td>\n",
       "      <td>2013-06-17 05:07:44.0</td>\n",
       "      <td>2013-07-20</td>\n",
       "      <td>2013-07-23</td>\n",
       "      <td>6.0</td>\n",
       "      <td>52</td>\n",
       "      <td>188.0</td>\n",
       "      <td>contact_me</td>\n",
       "    </tr>\n",
       "    <tr>\n",
       "      <th>13217</th>\n",
       "      <td>3fc452cd-c141-4538-a8cf-6cf75a609928</td>\n",
       "      <td>75f6d8ed-70d0-4029-bf93-b4a653c0dad9</td>\n",
       "      <td>2fdb4fc0-f707-43cb-bfea-cb09dc4f4de9</td>\n",
       "      <td>2013-09-01 13:03:29</td>\n",
       "      <td>2013-09-01 18:49:23.0</td>\n",
       "      <td>2013-09-03 07:47:20.0</td>\n",
       "      <td>2013-09-03 07:47:20.0</td>\n",
       "      <td>2014-04-15</td>\n",
       "      <td>2014-05-15</td>\n",
       "      <td>2.0</td>\n",
       "      <td>77</td>\n",
       "      <td>224.0</td>\n",
       "      <td>contact_me</td>\n",
       "    </tr>\n",
       "    <tr>\n",
       "      <th>13558</th>\n",
       "      <td>9cbd1f27-4d42-4742-814c-7b6a2eff8701</td>\n",
       "      <td>53704513-1177-4465-ad1a-20ea975ed4e7</td>\n",
       "      <td>d1d08830-8f01-4da0-8d0a-f343f15fcae1</td>\n",
       "      <td>2013-09-22 19:56:47</td>\n",
       "      <td>2013-09-23 19:40:22.0</td>\n",
       "      <td>2013-10-02 01:07:22.0</td>\n",
       "      <td>2013-10-02 17:54:25.0</td>\n",
       "      <td>2013-10-01</td>\n",
       "      <td>2013-12-31</td>\n",
       "      <td>4.0</td>\n",
       "      <td>63</td>\n",
       "      <td>350.0</td>\n",
       "      <td>contact_me</td>\n",
       "    </tr>\n",
       "    <tr>\n",
       "      <th>13870</th>\n",
       "      <td>fa5b97e0-02ee-47b8-b3a7-b9f27d2f32e1</td>\n",
       "      <td>6fe2f492-6d21-46c2-bda7-814694fa157d</td>\n",
       "      <td>3738be51-5f66-4d82-86af-d51ee712a1c1</td>\n",
       "      <td>2013-10-12 13:34:11</td>\n",
       "      <td>2013-10-12 16:10:36.0</td>\n",
       "      <td>2013-10-12 16:10:36.0</td>\n",
       "      <td>2013-10-19 21:20:16.0</td>\n",
       "      <td>2013-10-31</td>\n",
       "      <td>2013-11-03</td>\n",
       "      <td>1.0</td>\n",
       "      <td>99</td>\n",
       "      <td>132.0</td>\n",
       "      <td>contact_me</td>\n",
       "    </tr>\n",
       "    <tr>\n",
       "      <th>17561</th>\n",
       "      <td>c4946630-de6c-446d-ab3d-80d0005c3198</td>\n",
       "      <td>b1cd3fed-8216-4339-ad7a-771fc00c97ef</td>\n",
       "      <td>e08cc1e6-48b6-45e9-9d59-8f73340d5e3e</td>\n",
       "      <td>2013-06-01 05:04:35</td>\n",
       "      <td>2013-06-01 17:04:56.0</td>\n",
       "      <td>2013-06-06 07:55:18.0</td>\n",
       "      <td>NaN</td>\n",
       "      <td>2013-06-08</td>\n",
       "      <td>2013-06-16</td>\n",
       "      <td>1.0</td>\n",
       "      <td>76</td>\n",
       "      <td>174.0</td>\n",
       "      <td>contact_me</td>\n",
       "    </tr>\n",
       "    <tr>\n",
       "      <th>17670</th>\n",
       "      <td>5decbf2e-f6d3-4d40-9607-2bd88a45a8e7</td>\n",
       "      <td>3df32fbd-0151-4301-90b3-cf6393096007</td>\n",
       "      <td>cbd1439d-783c-453c-91e9-75adca62dbc6</td>\n",
       "      <td>2013-06-10 21:03:15</td>\n",
       "      <td>2013-06-10 21:12:49.0</td>\n",
       "      <td>2013-06-10 21:12:49.0</td>\n",
       "      <td>2013-06-11 18:41:56.0</td>\n",
       "      <td>2013-06-29</td>\n",
       "      <td>2013-06-30</td>\n",
       "      <td>1.0</td>\n",
       "      <td>52</td>\n",
       "      <td>193.0</td>\n",
       "      <td>contact_me</td>\n",
       "    </tr>\n",
       "    <tr>\n",
       "      <th>18943</th>\n",
       "      <td>3e27fe61-f3d8-4b7a-b197-4f493869a456</td>\n",
       "      <td>be83d6b6-3243-4654-a228-dc9b3adc4c4d</td>\n",
       "      <td>4faf6665-4e96-4a37-b24d-60e793292561</td>\n",
       "      <td>2013-09-23 19:32:31</td>\n",
       "      <td>2013-09-23 20:03:56.0</td>\n",
       "      <td>2013-09-23 21:54:52.0</td>\n",
       "      <td>2013-09-23 22:19:16.0</td>\n",
       "      <td>2013-10-12</td>\n",
       "      <td>2013-12-12</td>\n",
       "      <td>1.0</td>\n",
       "      <td>64</td>\n",
       "      <td>443.0</td>\n",
       "      <td>contact_me</td>\n",
       "    </tr>\n",
       "    <tr>\n",
       "      <th>19088</th>\n",
       "      <td>3c975d46-f034-4297-baf1-dc1af12bb789</td>\n",
       "      <td>dfc11367-f703-4f0a-9cf3-2f9ae8c76599</td>\n",
       "      <td>d4183c6b-7c82-4dd1-ab94-149e58b717cb</td>\n",
       "      <td>2013-10-02 01:08:18</td>\n",
       "      <td>2013-10-02 08:38:52.0</td>\n",
       "      <td>2013-10-02 08:38:52.0</td>\n",
       "      <td>2013-10-21 16:10:40.0</td>\n",
       "      <td>2013-11-11</td>\n",
       "      <td>2013-11-15</td>\n",
       "      <td>4.0</td>\n",
       "      <td>54</td>\n",
       "      <td>308.0</td>\n",
       "      <td>contact_me</td>\n",
       "    </tr>\n",
       "    <tr>\n",
       "      <th>19683</th>\n",
       "      <td>21f94b96-a550-4c75-8f76-b332e17406b5</td>\n",
       "      <td>59518893-9640-45ed-b8df-23490254b5f1</td>\n",
       "      <td>8f8f8d14-29bc-4e74-b45b-a2f17e7d0e4a</td>\n",
       "      <td>2013-11-06 21:58:42</td>\n",
       "      <td>2013-11-06 22:19:10.0</td>\n",
       "      <td>2013-11-15 20:44:05.0</td>\n",
       "      <td>2013-11-20 17:02:18.0</td>\n",
       "      <td>2014-01-13</td>\n",
       "      <td>2014-04-12</td>\n",
       "      <td>3.0</td>\n",
       "      <td>99</td>\n",
       "      <td>416.0</td>\n",
       "      <td>contact_me</td>\n",
       "    </tr>\n",
       "    <tr>\n",
       "      <th>20030</th>\n",
       "      <td>ec7db5ba-858a-45d8-9676-230421576934</td>\n",
       "      <td>912f9b4d-3bdf-48f8-a942-c42f6b2ecd25</td>\n",
       "      <td>75db971a-4b7f-4859-ba85-6bb16a752056</td>\n",
       "      <td>2013-11-30 10:18:48</td>\n",
       "      <td>2013-11-30 15:15:40.0</td>\n",
       "      <td>2013-12-01 10:36:04.0</td>\n",
       "      <td>2013-12-03 23:16:11.0</td>\n",
       "      <td>2013-12-05</td>\n",
       "      <td>2013-12-08</td>\n",
       "      <td>2.0</td>\n",
       "      <td>77</td>\n",
       "      <td>165.0</td>\n",
       "      <td>contact_me</td>\n",
       "    </tr>\n",
       "    <tr>\n",
       "      <th>20398</th>\n",
       "      <td>706297ac-df81-4726-8bd1-f1e67144af18</td>\n",
       "      <td>6ddebb9a-84f6-4655-9dd2-b3c4a92d1c68</td>\n",
       "      <td>6addbf35-9809-497b-8cec-eefe7a09d009</td>\n",
       "      <td>2013-12-26 11:56:15</td>\n",
       "      <td>2013-12-26 11:57:24.0</td>\n",
       "      <td>2013-12-26 11:57:37.0</td>\n",
       "      <td>2013-12-26 12:03:38.0</td>\n",
       "      <td>2014-01-30</td>\n",
       "      <td>2014-02-02</td>\n",
       "      <td>2.0</td>\n",
       "      <td>53</td>\n",
       "      <td>153.0</td>\n",
       "      <td>contact_me</td>\n",
       "    </tr>\n",
       "    <tr>\n",
       "      <th>22060</th>\n",
       "      <td>6d1a2086-8c2f-450d-b361-d0088ba410dc</td>\n",
       "      <td>6456830b-6932-4756-9d4f-dd9d1a5a6340</td>\n",
       "      <td>25573dd9-1d90-436a-94be-81314ea5ff8e</td>\n",
       "      <td>2013-03-13 03:10:45</td>\n",
       "      <td>2013-03-13 13:59:58.0</td>\n",
       "      <td>2013-03-14 17:12:59.0</td>\n",
       "      <td>2013-03-14 17:18:16.0</td>\n",
       "      <td>2013-04-11</td>\n",
       "      <td>2013-04-22</td>\n",
       "      <td>2.0</td>\n",
       "      <td>56</td>\n",
       "      <td>131.0</td>\n",
       "      <td>contact_me</td>\n",
       "    </tr>\n",
       "    <tr>\n",
       "      <th>23170</th>\n",
       "      <td>ed938a72-d51c-4c68-9ec1-725f9bf7d9d6</td>\n",
       "      <td>eb432674-f27c-41cf-a502-5489eecce0c0</td>\n",
       "      <td>357f81d1-031d-4493-89db-b32bffc44916</td>\n",
       "      <td>2013-06-18 06:50:56</td>\n",
       "      <td>2013-06-18 08:24:43.0</td>\n",
       "      <td>2013-06-18 08:24:43.0</td>\n",
       "      <td>2013-06-20 16:45:11.0</td>\n",
       "      <td>2013-08-25</td>\n",
       "      <td>2013-09-25</td>\n",
       "      <td>2.0</td>\n",
       "      <td>55</td>\n",
       "      <td>450.0</td>\n",
       "      <td>contact_me</td>\n",
       "    </tr>\n",
       "    <tr>\n",
       "      <th>24752</th>\n",
       "      <td>e1f01ab3-43b6-4d0c-9772-f4fc8219146a</td>\n",
       "      <td>99734825-8c9e-4b4f-90d7-df4bea15a67e</td>\n",
       "      <td>81055cc4-c364-4033-bdf2-9e40f44faf8b</td>\n",
       "      <td>2013-10-20 20:43:00</td>\n",
       "      <td>2013-10-20 21:11:25.0</td>\n",
       "      <td>2013-10-21 14:26:22.0</td>\n",
       "      <td>2013-10-21 14:43:47.0</td>\n",
       "      <td>2013-10-21</td>\n",
       "      <td>2013-11-21</td>\n",
       "      <td>1.0</td>\n",
       "      <td>53</td>\n",
       "      <td>116.0</td>\n",
       "      <td>contact_me</td>\n",
       "    </tr>\n",
       "    <tr>\n",
       "      <th>28476</th>\n",
       "      <td>8ffe9035-f19b-4351-a07e-cd49d4be5dfa</td>\n",
       "      <td>815b0e77-396d-47ac-9667-015978c4302f</td>\n",
       "      <td>319e2f12-8e47-4d89-8aba-464624b06da6</td>\n",
       "      <td>2013-06-19 07:51:26</td>\n",
       "      <td>2013-06-19 13:32:56.0</td>\n",
       "      <td>2013-06-19 14:27:59.0</td>\n",
       "      <td>2013-07-27 19:27:32.0</td>\n",
       "      <td>2013-09-14</td>\n",
       "      <td>2013-10-14</td>\n",
       "      <td>1.0</td>\n",
       "      <td>55</td>\n",
       "      <td>485.0</td>\n",
       "      <td>contact_me</td>\n",
       "    </tr>\n",
       "    <tr>\n",
       "      <th>30243</th>\n",
       "      <td>1f79420b-c762-459b-96be-f9a452b5c296</td>\n",
       "      <td>86f33ad8-126d-422e-b5b6-220fe1857a6c</td>\n",
       "      <td>3c3de3bb-c691-4ff3-a46e-a1b053e124e3</td>\n",
       "      <td>2013-10-27 20:07:19</td>\n",
       "      <td>2013-10-28 12:33:50.0</td>\n",
       "      <td>2013-10-28 17:11:00.0</td>\n",
       "      <td>2013-10-28 17:11:00.0</td>\n",
       "      <td>2013-11-05</td>\n",
       "      <td>2013-11-13</td>\n",
       "      <td>1.0</td>\n",
       "      <td>66</td>\n",
       "      <td>232.0</td>\n",
       "      <td>contact_me</td>\n",
       "    </tr>\n",
       "    <tr>\n",
       "      <th>30664</th>\n",
       "      <td>fdbecb55-d03f-44da-8cb0-d3162fc8b3bd</td>\n",
       "      <td>a4a31924-87f9-4712-acf3-700d38de0a64</td>\n",
       "      <td>9418d657-5fb5-481f-a80a-d7e93e852b91</td>\n",
       "      <td>2013-11-24 05:30:08</td>\n",
       "      <td>2013-11-24 10:44:06.0</td>\n",
       "      <td>2013-11-24 10:44:37.0</td>\n",
       "      <td>2013-11-24 19:02:44.0</td>\n",
       "      <td>2014-03-17</td>\n",
       "      <td>2014-03-26</td>\n",
       "      <td>2.0</td>\n",
       "      <td>54</td>\n",
       "      <td>224.0</td>\n",
       "      <td>contact_me</td>\n",
       "    </tr>\n",
       "    <tr>\n",
       "      <th>31060</th>\n",
       "      <td>5dae0842-b379-4e8a-bcff-6b3330d11568</td>\n",
       "      <td>c031ed97-81f3-4cf5-9030-2598478896f9</td>\n",
       "      <td>eec97d40-ecfc-45e9-81a5-602634155b20</td>\n",
       "      <td>2013-12-17 17:19:44</td>\n",
       "      <td>2013-12-17 17:35:34.0</td>\n",
       "      <td>2013-12-28 19:43:05.0</td>\n",
       "      <td>2013-12-28 19:43:05.0</td>\n",
       "      <td>2014-02-04</td>\n",
       "      <td>2014-03-31</td>\n",
       "      <td>1.0</td>\n",
       "      <td>53</td>\n",
       "      <td>290.0</td>\n",
       "      <td>contact_me</td>\n",
       "    </tr>\n",
       "    <tr>\n",
       "      <th>32402</th>\n",
       "      <td>270e1a27-f733-45ad-a22e-94755417d403</td>\n",
       "      <td>093118bd-db1b-426d-b569-4a2c1956398e</td>\n",
       "      <td>9b78b665-913e-4f3d-aa03-2b1af84103a8</td>\n",
       "      <td>2013-01-31 20:51:57</td>\n",
       "      <td>2013-01-31 21:21:23.0</td>\n",
       "      <td>2013-01-31 21:21:23.0</td>\n",
       "      <td>2013-02-19 11:04:02.0</td>\n",
       "      <td>2013-05-10</td>\n",
       "      <td>2013-06-15</td>\n",
       "      <td>1.0</td>\n",
       "      <td>65</td>\n",
       "      <td>178.0</td>\n",
       "      <td>contact_me</td>\n",
       "    </tr>\n",
       "    <tr>\n",
       "      <th>34054</th>\n",
       "      <td>b53fec64-1894-47c0-9c58-5bdb16e71cec</td>\n",
       "      <td>a68a55fc-aaf1-4380-80ab-db45f3ce03e1</td>\n",
       "      <td>051f9242-25d8-4bf9-9be9-d059c9a276ef</td>\n",
       "      <td>2013-07-05 16:02:07</td>\n",
       "      <td>2013-07-05 16:03:12.0</td>\n",
       "      <td>2013-07-05 16:05:29.0</td>\n",
       "      <td>2013-07-06 04:08:23.0</td>\n",
       "      <td>2013-07-05</td>\n",
       "      <td>2013-07-07</td>\n",
       "      <td>4.0</td>\n",
       "      <td>83</td>\n",
       "      <td>231.0</td>\n",
       "      <td>contact_me</td>\n",
       "    </tr>\n",
       "    <tr>\n",
       "      <th>34482</th>\n",
       "      <td>50d4efbf-5abf-4135-881f-a21a3fdc0d49</td>\n",
       "      <td>b56e25d7-d7a3-4fdc-ab3c-f0497f05d00e</td>\n",
       "      <td>ebb1fc64-2238-47c5-bde5-401e9e7c7750</td>\n",
       "      <td>2013-08-21 01:11:45</td>\n",
       "      <td>2013-08-21 07:19:24.0</td>\n",
       "      <td>2013-08-21 07:19:24.0</td>\n",
       "      <td>2013-09-16 20:06:25.0</td>\n",
       "      <td>2013-11-02</td>\n",
       "      <td>2013-11-17</td>\n",
       "      <td>2.0</td>\n",
       "      <td>74</td>\n",
       "      <td>313.0</td>\n",
       "      <td>contact_me</td>\n",
       "    </tr>\n",
       "    <tr>\n",
       "      <th>34739</th>\n",
       "      <td>dba1147d-471d-446e-b663-4bf30746d1bd</td>\n",
       "      <td>be87e081-798a-4bf6-95d6-26c46c4d8c98</td>\n",
       "      <td>54036a93-e329-4c67-a79f-fe152bd39071</td>\n",
       "      <td>2013-09-04 11:30:28</td>\n",
       "      <td>2013-09-04 18:38:18.0</td>\n",
       "      <td>2013-09-05 16:12:26.0</td>\n",
       "      <td>2013-09-06 09:51:10.0</td>\n",
       "      <td>2013-09-27</td>\n",
       "      <td>2014-01-30</td>\n",
       "      <td>2.0</td>\n",
       "      <td>61</td>\n",
       "      <td>424.0</td>\n",
       "      <td>contact_me</td>\n",
       "    </tr>\n",
       "    <tr>\n",
       "      <th>38155</th>\n",
       "      <td>0eade48b-908c-4b9a-afa9-13bbb10dc41c</td>\n",
       "      <td>b5d498bc-e2e4-477e-91e3-cd656ee060be</td>\n",
       "      <td>873c18b8-f840-4674-8692-70506d07276f</td>\n",
       "      <td>2013-03-23 16:17:04</td>\n",
       "      <td>2013-03-23 16:22:36.0</td>\n",
       "      <td>2013-03-23 16:22:36.0</td>\n",
       "      <td>2013-03-25 21:18:09.0</td>\n",
       "      <td>2013-03-29</td>\n",
       "      <td>2013-04-30</td>\n",
       "      <td>1.0</td>\n",
       "      <td>63</td>\n",
       "      <td>355.0</td>\n",
       "      <td>contact_me</td>\n",
       "    </tr>\n",
       "    <tr>\n",
       "      <th>39022</th>\n",
       "      <td>4acfe062-0043-4b1f-8cb1-0531e3b7c9b4</td>\n",
       "      <td>2adc63e4-e7b1-4b5c-b93f-b0e7702abae2</td>\n",
       "      <td>6ae8c7fe-eb70-46e7-aaf5-9f7c9471df03</td>\n",
       "      <td>2013-06-01 14:56:09</td>\n",
       "      <td>2013-06-01 15:00:00.0</td>\n",
       "      <td>2013-06-01 15:00:00.0</td>\n",
       "      <td>2013-06-02 05:03:07.0</td>\n",
       "      <td>2013-06-02</td>\n",
       "      <td>2013-06-05</td>\n",
       "      <td>3.0</td>\n",
       "      <td>58</td>\n",
       "      <td>298.0</td>\n",
       "      <td>contact_me</td>\n",
       "    </tr>\n",
       "    <tr>\n",
       "      <th>39906</th>\n",
       "      <td>b62ce0f2-70d4-498b-97c5-026c5d4d3e2d</td>\n",
       "      <td>8cc47247-b385-4ca9-a3e9-200910d1ce40</td>\n",
       "      <td>da0bd525-e895-40ca-bdfb-2235e03e8b39</td>\n",
       "      <td>2013-08-27 15:30:15</td>\n",
       "      <td>2013-08-27 16:00:46.0</td>\n",
       "      <td>2013-08-27 16:21:41.0</td>\n",
       "      <td>2013-08-27 16:34:26.0</td>\n",
       "      <td>2013-12-12</td>\n",
       "      <td>2014-02-12</td>\n",
       "      <td>1.0</td>\n",
       "      <td>85</td>\n",
       "      <td>286.0</td>\n",
       "      <td>contact_me</td>\n",
       "    </tr>\n",
       "    <tr>\n",
       "      <th>40937</th>\n",
       "      <td>ef88955f-d774-4c30-9297-b238a967f2c1</td>\n",
       "      <td>70b9b944-3fe3-493e-983b-6f7869489a5c</td>\n",
       "      <td>33517639-9b63-41e8-bb6f-f33d58265c28</td>\n",
       "      <td>2013-10-28 12:47:10</td>\n",
       "      <td>2013-10-28 12:49:12.0</td>\n",
       "      <td>2013-10-28 13:19:02.0</td>\n",
       "      <td>2013-10-28 13:19:02.0</td>\n",
       "      <td>2013-10-28</td>\n",
       "      <td>2013-10-29</td>\n",
       "      <td>1.0</td>\n",
       "      <td>55</td>\n",
       "      <td>180.0</td>\n",
       "      <td>contact_me</td>\n",
       "    </tr>\n",
       "    <tr>\n",
       "      <th>41307</th>\n",
       "      <td>e58971c9-861a-472f-896d-b461c4150904</td>\n",
       "      <td>9646097b-8d86-42eb-bbd8-527424d5dbb6</td>\n",
       "      <td>31b2c323-53bd-4fb0-a175-05ecbec04427</td>\n",
       "      <td>2013-11-23 15:50:37</td>\n",
       "      <td>2013-11-23 15:51:27.0</td>\n",
       "      <td>2013-11-23 15:51:27.0</td>\n",
       "      <td>2013-11-24 10:41:52.0</td>\n",
       "      <td>2013-11-25</td>\n",
       "      <td>2013-11-29</td>\n",
       "      <td>1.0</td>\n",
       "      <td>62</td>\n",
       "      <td>96.0</td>\n",
       "      <td>contact_me</td>\n",
       "    </tr>\n",
       "    <tr>\n",
       "      <th>41651</th>\n",
       "      <td>4a2f4f87-9031-478c-8267-1015ce099b56</td>\n",
       "      <td>d074c1c8-1748-4b33-83b8-cac11aea382d</td>\n",
       "      <td>c5244236-bf4b-42d7-a41d-ff28071a904a</td>\n",
       "      <td>2013-12-16 11:10:15</td>\n",
       "      <td>2013-12-16 11:18:09.0</td>\n",
       "      <td>NaN</td>\n",
       "      <td>NaN</td>\n",
       "      <td>2014-02-08</td>\n",
       "      <td>2014-05-31</td>\n",
       "      <td>4.0</td>\n",
       "      <td>54</td>\n",
       "      <td>63.0</td>\n",
       "      <td>contact_me</td>\n",
       "    </tr>\n",
       "    <tr>\n",
       "      <th>41859</th>\n",
       "      <td>987e25f8-e647-4ae9-872d-a3b30fcd199b</td>\n",
       "      <td>70970b27-28f3-41db-9d6c-080ca84a98ad</td>\n",
       "      <td>a0b58416-432f-4da5-aeeb-9f26b0cbe807</td>\n",
       "      <td>2013-01-12 20:58:51</td>\n",
       "      <td>2013-01-12 22:02:59.0</td>\n",
       "      <td>2013-01-12 22:04:31.0</td>\n",
       "      <td>2013-01-12 22:04:31.0</td>\n",
       "      <td>2013-01-18</td>\n",
       "      <td>2013-01-19</td>\n",
       "      <td>1.0</td>\n",
       "      <td>51</td>\n",
       "      <td>0.0</td>\n",
       "      <td>book_it</td>\n",
       "    </tr>\n",
       "    <tr>\n",
       "      <th>42166</th>\n",
       "      <td>12970207-43e1-4b77-8e79-22ee40252a5f</td>\n",
       "      <td>2d971504-a131-460d-bb02-24d53f13968b</td>\n",
       "      <td>8cd43186-5a6b-48c3-8f7f-49092f1a649f</td>\n",
       "      <td>2013-06-01 09:36:41</td>\n",
       "      <td>2013-06-01 09:36:12.0</td>\n",
       "      <td>2013-06-01 09:36:12.0</td>\n",
       "      <td>2013-06-01 09:36:12.0</td>\n",
       "      <td>2013-06-23</td>\n",
       "      <td>2013-06-29</td>\n",
       "      <td>1.0</td>\n",
       "      <td>69</td>\n",
       "      <td>345.0</td>\n",
       "      <td>book_it</td>\n",
       "    </tr>\n",
       "    <tr>\n",
       "      <th>42988</th>\n",
       "      <td>d42f618d-c5c9-41a9-94f0-a780b7d86989</td>\n",
       "      <td>ec5a1475-3b24-4c07-9947-716bb6f0aea3</td>\n",
       "      <td>ba5f1b01-5658-4f2a-9dd8-5124be27431f</td>\n",
       "      <td>2013-01-23 14:07:29</td>\n",
       "      <td>2013-01-23 14:07:45.0</td>\n",
       "      <td>NaN</td>\n",
       "      <td>NaN</td>\n",
       "      <td>2013-02-22</td>\n",
       "      <td>2013-03-03</td>\n",
       "      <td>2.0</td>\n",
       "      <td>57</td>\n",
       "      <td>81.0</td>\n",
       "      <td>contact_me</td>\n",
       "    </tr>\n",
       "    <tr>\n",
       "      <th>43107</th>\n",
       "      <td>ef876f91-583e-4e23-996a-84977438d5b2</td>\n",
       "      <td>ce4a91db-cf06-477f-a783-f1573a66400c</td>\n",
       "      <td>57b69e64-ebd5-4998-8756-a7d32ac2161b</td>\n",
       "      <td>2013-02-03 13:28:18</td>\n",
       "      <td>2013-02-03 13:57:17.0</td>\n",
       "      <td>NaN</td>\n",
       "      <td>NaN</td>\n",
       "      <td>2013-02-23</td>\n",
       "      <td>2013-02-25</td>\n",
       "      <td>2.0</td>\n",
       "      <td>72</td>\n",
       "      <td>149.0</td>\n",
       "      <td>contact_me</td>\n",
       "    </tr>\n",
       "    <tr>\n",
       "      <th>49012</th>\n",
       "      <td>84fa424e-a7e0-45e3-a614-a59afafbb856</td>\n",
       "      <td>a679b2e0-19b7-4d51-9a2c-f0949c597bd9</td>\n",
       "      <td>15e57c65-692d-4a1e-966b-834139026c15</td>\n",
       "      <td>2013-04-06 23:35:21</td>\n",
       "      <td>2013-04-07 15:44:49.0</td>\n",
       "      <td>2013-04-07 15:44:49.0</td>\n",
       "      <td>2013-04-17 21:43:28.0</td>\n",
       "      <td>2013-07-28</td>\n",
       "      <td>2013-10-01</td>\n",
       "      <td>1.0</td>\n",
       "      <td>66</td>\n",
       "      <td>370.0</td>\n",
       "      <td>contact_me</td>\n",
       "    </tr>\n",
       "  </tbody>\n",
       "</table>\n",
       "</div>"
      ],
      "text/plain": [
       "                              id_guest_anon  \\\n",
       "1186   5cce0b86-d257-4d1a-b52a-c95e98c1d8e9   \n",
       "1404   95585217-871c-4eac-a8d4-47a87b9a9314   \n",
       "2777   af683d82-92fa-4f91-a06d-2abaca856a23   \n",
       "3204   a14bd4c6-384a-4775-beca-a6427ab5bea8   \n",
       "4306   c214000d-c6c1-4c17-b20c-70e8cc40f087   \n",
       "5711   7744c449-a3eb-4fc0-a275-02805ca5a322   \n",
       "7094   4225e82b-5334-46f2-bd82-dec4f27e6bba   \n",
       "8849   59fc76e2-dd51-4ad9-90ac-45e3c57b337b   \n",
       "9097   2b248f34-7b96-4316-bcfa-c5e8ae9b8217   \n",
       "12320  a813f973-12ee-4e1a-b0e7-c42eebe381d5   \n",
       "13217  3fc452cd-c141-4538-a8cf-6cf75a609928   \n",
       "13558  9cbd1f27-4d42-4742-814c-7b6a2eff8701   \n",
       "13870  fa5b97e0-02ee-47b8-b3a7-b9f27d2f32e1   \n",
       "17561  c4946630-de6c-446d-ab3d-80d0005c3198   \n",
       "17670  5decbf2e-f6d3-4d40-9607-2bd88a45a8e7   \n",
       "18943  3e27fe61-f3d8-4b7a-b197-4f493869a456   \n",
       "19088  3c975d46-f034-4297-baf1-dc1af12bb789   \n",
       "19683  21f94b96-a550-4c75-8f76-b332e17406b5   \n",
       "20030  ec7db5ba-858a-45d8-9676-230421576934   \n",
       "20398  706297ac-df81-4726-8bd1-f1e67144af18   \n",
       "22060  6d1a2086-8c2f-450d-b361-d0088ba410dc   \n",
       "23170  ed938a72-d51c-4c68-9ec1-725f9bf7d9d6   \n",
       "24752  e1f01ab3-43b6-4d0c-9772-f4fc8219146a   \n",
       "28476  8ffe9035-f19b-4351-a07e-cd49d4be5dfa   \n",
       "30243  1f79420b-c762-459b-96be-f9a452b5c296   \n",
       "30664  fdbecb55-d03f-44da-8cb0-d3162fc8b3bd   \n",
       "31060  5dae0842-b379-4e8a-bcff-6b3330d11568   \n",
       "32402  270e1a27-f733-45ad-a22e-94755417d403   \n",
       "34054  b53fec64-1894-47c0-9c58-5bdb16e71cec   \n",
       "34482  50d4efbf-5abf-4135-881f-a21a3fdc0d49   \n",
       "34739  dba1147d-471d-446e-b663-4bf30746d1bd   \n",
       "38155  0eade48b-908c-4b9a-afa9-13bbb10dc41c   \n",
       "39022  4acfe062-0043-4b1f-8cb1-0531e3b7c9b4   \n",
       "39906  b62ce0f2-70d4-498b-97c5-026c5d4d3e2d   \n",
       "40937  ef88955f-d774-4c30-9297-b238a967f2c1   \n",
       "41307  e58971c9-861a-472f-896d-b461c4150904   \n",
       "41651  4a2f4f87-9031-478c-8267-1015ce099b56   \n",
       "41859  987e25f8-e647-4ae9-872d-a3b30fcd199b   \n",
       "42166  12970207-43e1-4b77-8e79-22ee40252a5f   \n",
       "42988  d42f618d-c5c9-41a9-94f0-a780b7d86989   \n",
       "43107  ef876f91-583e-4e23-996a-84977438d5b2   \n",
       "49012  84fa424e-a7e0-45e3-a614-a59afafbb856   \n",
       "\n",
       "                               id_host_anon  \\\n",
       "1186   6fcd10bc-65aa-4932-8268-23711fa13103   \n",
       "1404   3b93f529-40ba-457b-aef3-326838df16fc   \n",
       "2777   9dae91a9-9a73-4fb7-9b47-a0bd9cf69a86   \n",
       "3204   89a37380-965c-4822-b9de-69a594aadc96   \n",
       "4306   82d04f57-2a24-4751-a6c7-2e9168b66822   \n",
       "5711   d4b63087-0a82-4fc7-81e0-6d299ec9837f   \n",
       "7094   39008088-58f6-43f7-9b3a-5c122a5253de   \n",
       "8849   831e7814-c85c-4372-ba5b-9d3361e5d00e   \n",
       "9097   85bfd501-4dec-4ed8-93fe-6b1caa45ec52   \n",
       "12320  8748f084-0761-447e-9a65-d567f3a07dde   \n",
       "13217  75f6d8ed-70d0-4029-bf93-b4a653c0dad9   \n",
       "13558  53704513-1177-4465-ad1a-20ea975ed4e7   \n",
       "13870  6fe2f492-6d21-46c2-bda7-814694fa157d   \n",
       "17561  b1cd3fed-8216-4339-ad7a-771fc00c97ef   \n",
       "17670  3df32fbd-0151-4301-90b3-cf6393096007   \n",
       "18943  be83d6b6-3243-4654-a228-dc9b3adc4c4d   \n",
       "19088  dfc11367-f703-4f0a-9cf3-2f9ae8c76599   \n",
       "19683  59518893-9640-45ed-b8df-23490254b5f1   \n",
       "20030  912f9b4d-3bdf-48f8-a942-c42f6b2ecd25   \n",
       "20398  6ddebb9a-84f6-4655-9dd2-b3c4a92d1c68   \n",
       "22060  6456830b-6932-4756-9d4f-dd9d1a5a6340   \n",
       "23170  eb432674-f27c-41cf-a502-5489eecce0c0   \n",
       "24752  99734825-8c9e-4b4f-90d7-df4bea15a67e   \n",
       "28476  815b0e77-396d-47ac-9667-015978c4302f   \n",
       "30243  86f33ad8-126d-422e-b5b6-220fe1857a6c   \n",
       "30664  a4a31924-87f9-4712-acf3-700d38de0a64   \n",
       "31060  c031ed97-81f3-4cf5-9030-2598478896f9   \n",
       "32402  093118bd-db1b-426d-b569-4a2c1956398e   \n",
       "34054  a68a55fc-aaf1-4380-80ab-db45f3ce03e1   \n",
       "34482  b56e25d7-d7a3-4fdc-ab3c-f0497f05d00e   \n",
       "34739  be87e081-798a-4bf6-95d6-26c46c4d8c98   \n",
       "38155  b5d498bc-e2e4-477e-91e3-cd656ee060be   \n",
       "39022  2adc63e4-e7b1-4b5c-b93f-b0e7702abae2   \n",
       "39906  8cc47247-b385-4ca9-a3e9-200910d1ce40   \n",
       "40937  70b9b944-3fe3-493e-983b-6f7869489a5c   \n",
       "41307  9646097b-8d86-42eb-bbd8-527424d5dbb6   \n",
       "41651  d074c1c8-1748-4b33-83b8-cac11aea382d   \n",
       "41859  70970b27-28f3-41db-9d6c-080ca84a98ad   \n",
       "42166  2d971504-a131-460d-bb02-24d53f13968b   \n",
       "42988  ec5a1475-3b24-4c07-9947-716bb6f0aea3   \n",
       "43107  ce4a91db-cf06-477f-a783-f1573a66400c   \n",
       "49012  a679b2e0-19b7-4d51-9a2c-f0949c597bd9   \n",
       "\n",
       "                            id_listing_anon ts_interaction_first  \\\n",
       "1186   8f7b0d9b-1bd0-4826-bb0f-4cb3b389811b  2013-05-07 00:20:08   \n",
       "1404   f475c8d5-4dc5-43bc-ae50-f7a3d505919d  2013-05-25 11:10:18   \n",
       "2777   a75c66c9-565c-4c57-bcbf-ad48e29fb7ec  2013-09-13 12:13:12   \n",
       "3204   d5be9e7f-b74c-40ff-99a0-cac88416645f  2013-10-08 20:54:34   \n",
       "4306   ded16fc8-2ddb-4c4e-b531-4719364505bb  2013-12-17 19:27:51   \n",
       "5711   f473e902-0f7c-4b02-adce-64b20650e1a2  2013-02-08 18:21:02   \n",
       "7094   984c3c8b-a220-4ece-9020-4ca327500c12  2013-06-18 17:49:43   \n",
       "8849   6a352d61-4956-431b-8eff-f3b093d8b177  2013-10-30 20:08:45   \n",
       "9097   269e6a86-62d9-4fb2-bf78-dae33f2f0b04  2013-11-16 20:37:40   \n",
       "12320  75df1f31-b8c6-4a83-a2a3-9d9e63557af9  2013-06-14 07:21:22   \n",
       "13217  2fdb4fc0-f707-43cb-bfea-cb09dc4f4de9  2013-09-01 13:03:29   \n",
       "13558  d1d08830-8f01-4da0-8d0a-f343f15fcae1  2013-09-22 19:56:47   \n",
       "13870  3738be51-5f66-4d82-86af-d51ee712a1c1  2013-10-12 13:34:11   \n",
       "17561  e08cc1e6-48b6-45e9-9d59-8f73340d5e3e  2013-06-01 05:04:35   \n",
       "17670  cbd1439d-783c-453c-91e9-75adca62dbc6  2013-06-10 21:03:15   \n",
       "18943  4faf6665-4e96-4a37-b24d-60e793292561  2013-09-23 19:32:31   \n",
       "19088  d4183c6b-7c82-4dd1-ab94-149e58b717cb  2013-10-02 01:08:18   \n",
       "19683  8f8f8d14-29bc-4e74-b45b-a2f17e7d0e4a  2013-11-06 21:58:42   \n",
       "20030  75db971a-4b7f-4859-ba85-6bb16a752056  2013-11-30 10:18:48   \n",
       "20398  6addbf35-9809-497b-8cec-eefe7a09d009  2013-12-26 11:56:15   \n",
       "22060  25573dd9-1d90-436a-94be-81314ea5ff8e  2013-03-13 03:10:45   \n",
       "23170  357f81d1-031d-4493-89db-b32bffc44916  2013-06-18 06:50:56   \n",
       "24752  81055cc4-c364-4033-bdf2-9e40f44faf8b  2013-10-20 20:43:00   \n",
       "28476  319e2f12-8e47-4d89-8aba-464624b06da6  2013-06-19 07:51:26   \n",
       "30243  3c3de3bb-c691-4ff3-a46e-a1b053e124e3  2013-10-27 20:07:19   \n",
       "30664  9418d657-5fb5-481f-a80a-d7e93e852b91  2013-11-24 05:30:08   \n",
       "31060  eec97d40-ecfc-45e9-81a5-602634155b20  2013-12-17 17:19:44   \n",
       "32402  9b78b665-913e-4f3d-aa03-2b1af84103a8  2013-01-31 20:51:57   \n",
       "34054  051f9242-25d8-4bf9-9be9-d059c9a276ef  2013-07-05 16:02:07   \n",
       "34482  ebb1fc64-2238-47c5-bde5-401e9e7c7750  2013-08-21 01:11:45   \n",
       "34739  54036a93-e329-4c67-a79f-fe152bd39071  2013-09-04 11:30:28   \n",
       "38155  873c18b8-f840-4674-8692-70506d07276f  2013-03-23 16:17:04   \n",
       "39022  6ae8c7fe-eb70-46e7-aaf5-9f7c9471df03  2013-06-01 14:56:09   \n",
       "39906  da0bd525-e895-40ca-bdfb-2235e03e8b39  2013-08-27 15:30:15   \n",
       "40937  33517639-9b63-41e8-bb6f-f33d58265c28  2013-10-28 12:47:10   \n",
       "41307  31b2c323-53bd-4fb0-a175-05ecbec04427  2013-11-23 15:50:37   \n",
       "41651  c5244236-bf4b-42d7-a41d-ff28071a904a  2013-12-16 11:10:15   \n",
       "41859  a0b58416-432f-4da5-aeeb-9f26b0cbe807  2013-01-12 20:58:51   \n",
       "42166  8cd43186-5a6b-48c3-8f7f-49092f1a649f  2013-06-01 09:36:41   \n",
       "42988  ba5f1b01-5658-4f2a-9dd8-5124be27431f  2013-01-23 14:07:29   \n",
       "43107  57b69e64-ebd5-4998-8756-a7d32ac2161b  2013-02-03 13:28:18   \n",
       "49012  15e57c65-692d-4a1e-966b-834139026c15  2013-04-06 23:35:21   \n",
       "\n",
       "           ts_reply_at_first   ts_accepted_at_first          ts_booking_at  \\\n",
       "1186   2013-05-07 05:19:29.0  2013-05-18 23:59:17.0  2013-05-18 23:59:17.0   \n",
       "1404   2013-05-25 12:36:40.0  2013-05-27 07:03:24.0  2013-05-31 07:43:39.0   \n",
       "2777   2013-09-13 12:28:45.0  2013-09-13 12:28:45.0  2013-09-19 17:07:42.0   \n",
       "3204   2013-10-08 21:36:35.0  2013-10-09 08:17:56.0  2013-10-13 22:28:05.0   \n",
       "4306   2013-12-17 21:33:06.0  2013-12-18 21:45:07.0  2013-12-21 15:40:37.0   \n",
       "5711   2013-02-08 18:40:10.0  2013-02-08 18:40:10.0  2013-02-14 19:14:58.0   \n",
       "7094   2013-06-19 06:41:37.0  2013-06-20 14:07:18.0  2013-06-21 10:36:18.0   \n",
       "8849   2013-10-30 20:21:13.0  2013-10-30 20:21:13.0  2013-10-30 20:40:34.0   \n",
       "9097   2013-11-16 20:58:26.0  2013-11-16 20:58:26.0  2013-12-28 17:43:52.0   \n",
       "12320  2013-06-16 07:55:29.0  2013-06-17 05:07:44.0  2013-06-17 05:07:44.0   \n",
       "13217  2013-09-01 18:49:23.0  2013-09-03 07:47:20.0  2013-09-03 07:47:20.0   \n",
       "13558  2013-09-23 19:40:22.0  2013-10-02 01:07:22.0  2013-10-02 17:54:25.0   \n",
       "13870  2013-10-12 16:10:36.0  2013-10-12 16:10:36.0  2013-10-19 21:20:16.0   \n",
       "17561  2013-06-01 17:04:56.0  2013-06-06 07:55:18.0                    NaN   \n",
       "17670  2013-06-10 21:12:49.0  2013-06-10 21:12:49.0  2013-06-11 18:41:56.0   \n",
       "18943  2013-09-23 20:03:56.0  2013-09-23 21:54:52.0  2013-09-23 22:19:16.0   \n",
       "19088  2013-10-02 08:38:52.0  2013-10-02 08:38:52.0  2013-10-21 16:10:40.0   \n",
       "19683  2013-11-06 22:19:10.0  2013-11-15 20:44:05.0  2013-11-20 17:02:18.0   \n",
       "20030  2013-11-30 15:15:40.0  2013-12-01 10:36:04.0  2013-12-03 23:16:11.0   \n",
       "20398  2013-12-26 11:57:24.0  2013-12-26 11:57:37.0  2013-12-26 12:03:38.0   \n",
       "22060  2013-03-13 13:59:58.0  2013-03-14 17:12:59.0  2013-03-14 17:18:16.0   \n",
       "23170  2013-06-18 08:24:43.0  2013-06-18 08:24:43.0  2013-06-20 16:45:11.0   \n",
       "24752  2013-10-20 21:11:25.0  2013-10-21 14:26:22.0  2013-10-21 14:43:47.0   \n",
       "28476  2013-06-19 13:32:56.0  2013-06-19 14:27:59.0  2013-07-27 19:27:32.0   \n",
       "30243  2013-10-28 12:33:50.0  2013-10-28 17:11:00.0  2013-10-28 17:11:00.0   \n",
       "30664  2013-11-24 10:44:06.0  2013-11-24 10:44:37.0  2013-11-24 19:02:44.0   \n",
       "31060  2013-12-17 17:35:34.0  2013-12-28 19:43:05.0  2013-12-28 19:43:05.0   \n",
       "32402  2013-01-31 21:21:23.0  2013-01-31 21:21:23.0  2013-02-19 11:04:02.0   \n",
       "34054  2013-07-05 16:03:12.0  2013-07-05 16:05:29.0  2013-07-06 04:08:23.0   \n",
       "34482  2013-08-21 07:19:24.0  2013-08-21 07:19:24.0  2013-09-16 20:06:25.0   \n",
       "34739  2013-09-04 18:38:18.0  2013-09-05 16:12:26.0  2013-09-06 09:51:10.0   \n",
       "38155  2013-03-23 16:22:36.0  2013-03-23 16:22:36.0  2013-03-25 21:18:09.0   \n",
       "39022  2013-06-01 15:00:00.0  2013-06-01 15:00:00.0  2013-06-02 05:03:07.0   \n",
       "39906  2013-08-27 16:00:46.0  2013-08-27 16:21:41.0  2013-08-27 16:34:26.0   \n",
       "40937  2013-10-28 12:49:12.0  2013-10-28 13:19:02.0  2013-10-28 13:19:02.0   \n",
       "41307  2013-11-23 15:51:27.0  2013-11-23 15:51:27.0  2013-11-24 10:41:52.0   \n",
       "41651  2013-12-16 11:18:09.0                    NaN                    NaN   \n",
       "41859  2013-01-12 22:02:59.0  2013-01-12 22:04:31.0  2013-01-12 22:04:31.0   \n",
       "42166  2013-06-01 09:36:12.0  2013-06-01 09:36:12.0  2013-06-01 09:36:12.0   \n",
       "42988  2013-01-23 14:07:45.0                    NaN                    NaN   \n",
       "43107  2013-02-03 13:57:17.0                    NaN                    NaN   \n",
       "49012  2013-04-07 15:44:49.0  2013-04-07 15:44:49.0  2013-04-17 21:43:28.0   \n",
       "\n",
       "      ds_checkin_first ds_checkout_first  m_guests_first  m_interactions  \\\n",
       "1186        2013-08-20        2013-08-23             2.0              54   \n",
       "1404        2013-06-06        2013-06-09             1.0             107   \n",
       "2777        2013-11-05        2013-11-11             2.0              68   \n",
       "3204        2014-01-06        2014-02-05             1.0              55   \n",
       "4306        2014-01-01        2014-01-08             1.0              83   \n",
       "5711        2013-02-18        2013-03-18             1.0              53   \n",
       "7094        2013-06-19        2013-09-14             1.0              71   \n",
       "8849        2013-11-27        2014-01-01             2.0              52   \n",
       "9097        2014-06-08        2014-07-18             3.0              93   \n",
       "12320       2013-07-20        2013-07-23             6.0              52   \n",
       "13217       2014-04-15        2014-05-15             2.0              77   \n",
       "13558       2013-10-01        2013-12-31             4.0              63   \n",
       "13870       2013-10-31        2013-11-03             1.0              99   \n",
       "17561       2013-06-08        2013-06-16             1.0              76   \n",
       "17670       2013-06-29        2013-06-30             1.0              52   \n",
       "18943       2013-10-12        2013-12-12             1.0              64   \n",
       "19088       2013-11-11        2013-11-15             4.0              54   \n",
       "19683       2014-01-13        2014-04-12             3.0              99   \n",
       "20030       2013-12-05        2013-12-08             2.0              77   \n",
       "20398       2014-01-30        2014-02-02             2.0              53   \n",
       "22060       2013-04-11        2013-04-22             2.0              56   \n",
       "23170       2013-08-25        2013-09-25             2.0              55   \n",
       "24752       2013-10-21        2013-11-21             1.0              53   \n",
       "28476       2013-09-14        2013-10-14             1.0              55   \n",
       "30243       2013-11-05        2013-11-13             1.0              66   \n",
       "30664       2014-03-17        2014-03-26             2.0              54   \n",
       "31060       2014-02-04        2014-03-31             1.0              53   \n",
       "32402       2013-05-10        2013-06-15             1.0              65   \n",
       "34054       2013-07-05        2013-07-07             4.0              83   \n",
       "34482       2013-11-02        2013-11-17             2.0              74   \n",
       "34739       2013-09-27        2014-01-30             2.0              61   \n",
       "38155       2013-03-29        2013-04-30             1.0              63   \n",
       "39022       2013-06-02        2013-06-05             3.0              58   \n",
       "39906       2013-12-12        2014-02-12             1.0              85   \n",
       "40937       2013-10-28        2013-10-29             1.0              55   \n",
       "41307       2013-11-25        2013-11-29             1.0              62   \n",
       "41651       2014-02-08        2014-05-31             4.0              54   \n",
       "41859       2013-01-18        2013-01-19             1.0              51   \n",
       "42166       2013-06-23        2013-06-29             1.0              69   \n",
       "42988       2013-02-22        2013-03-03             2.0              57   \n",
       "43107       2013-02-23        2013-02-25             2.0              72   \n",
       "49012       2013-07-28        2013-10-01             1.0              66   \n",
       "\n",
       "       m_first_message_length_in_characters dim_contact_channel_first  \n",
       "1186                                  319.0                contact_me  \n",
       "1404                                  289.0                contact_me  \n",
       "2777                                   59.0                contact_me  \n",
       "3204                                  174.0                contact_me  \n",
       "4306                                  248.0                contact_me  \n",
       "5711                                  158.0                contact_me  \n",
       "7094                                  321.0                contact_me  \n",
       "8849                                  179.0                contact_me  \n",
       "9097                                 1076.0                contact_me  \n",
       "12320                                 188.0                contact_me  \n",
       "13217                                 224.0                contact_me  \n",
       "13558                                 350.0                contact_me  \n",
       "13870                                 132.0                contact_me  \n",
       "17561                                 174.0                contact_me  \n",
       "17670                                 193.0                contact_me  \n",
       "18943                                 443.0                contact_me  \n",
       "19088                                 308.0                contact_me  \n",
       "19683                                 416.0                contact_me  \n",
       "20030                                 165.0                contact_me  \n",
       "20398                                 153.0                contact_me  \n",
       "22060                                 131.0                contact_me  \n",
       "23170                                 450.0                contact_me  \n",
       "24752                                 116.0                contact_me  \n",
       "28476                                 485.0                contact_me  \n",
       "30243                                 232.0                contact_me  \n",
       "30664                                 224.0                contact_me  \n",
       "31060                                 290.0                contact_me  \n",
       "32402                                 178.0                contact_me  \n",
       "34054                                 231.0                contact_me  \n",
       "34482                                 313.0                contact_me  \n",
       "34739                                 424.0                contact_me  \n",
       "38155                                 355.0                contact_me  \n",
       "39022                                 298.0                contact_me  \n",
       "39906                                 286.0                contact_me  \n",
       "40937                                 180.0                contact_me  \n",
       "41307                                  96.0                contact_me  \n",
       "41651                                  63.0                contact_me  \n",
       "41859                                   0.0                   book_it  \n",
       "42166                                 345.0                   book_it  \n",
       "42988                                  81.0                contact_me  \n",
       "43107                                 149.0                contact_me  \n",
       "49012                                 370.0                contact_me  "
      ]
     },
     "execution_count": 17,
     "metadata": {},
     "output_type": "execute_result"
    }
   ],
   "source": [
    "#check high interaction listings\n",
    "contact[contact.m_interactions > 50]"
   ]
  },
  {
   "cell_type": "markdown",
   "metadata": {},
   "source": [
    "Browsing through the contact with high guest-host interactions, no obvious abnormalies were found. Noted that high number of interactions tend to have high booking rate. This will help the second part of the challenge."
   ]
  },
  {
   "cell_type": "markdown",
   "metadata": {},
   "source": [
    "#### C. First message length"
   ]
  },
  {
   "cell_type": "code",
   "execution_count": 8,
   "metadata": {
    "collapsed": false
   },
   "outputs": [
    {
     "data": {
      "text/plain": [
       "count    49999.000000\n",
       "mean       285.153123\n",
       "std        190.848521\n",
       "min          0.000000\n",
       "25%        172.000000\n",
       "50%        239.000000\n",
       "75%        356.000000\n",
       "max       2751.000000\n",
       "Name: m_first_message_length_in_characters, dtype: float64"
      ]
     },
     "execution_count": 8,
     "metadata": {},
     "output_type": "execute_result"
    }
   ],
   "source": [
    "#distribution\n",
    "contact.m_first_message_length_in_characters.describe()"
   ]
  },
  {
   "cell_type": "code",
   "execution_count": 19,
   "metadata": {
    "collapsed": false
   },
   "outputs": [
    {
     "data": {
      "text/plain": [
       "<matplotlib.axes._subplots.AxesSubplot at 0x11246c390>"
      ]
     },
     "execution_count": 19,
     "metadata": {},
     "output_type": "execute_result"
    },
    {
     "data": {
      "image/png": "[encoded data removed]",
      "text/plain": [
       "<matplotlib.figure.Figure at 0x11246c610>"
      ]
     },
     "metadata": {},
     "output_type": "display_data"
    }
   ],
   "source": [
    "#histgram\n",
    "contact.m_first_message_length_in_characters.hist(bins=50)"
   ]
  },
  {
   "cell_type": "markdown",
   "metadata": {},
   "source": [
    "The longest message has 2751 characters. That looks suspicious. Let's take a closer look."
   ]
  },
  {
   "cell_type": "code",
   "execution_count": 20,
   "metadata": {
    "collapsed": false
   },
   "outputs": [
    {
     "data": {
      "text/html": [
       "<div>\n",
       "<table border=\"1\" class=\"dataframe\">\n",
       "  <thead>\n",
       "    <tr style=\"text-align: right;\">\n",
       "      <th></th>\n",
       "      <th>id_guest_anon</th>\n",
       "      <th>id_host_anon</th>\n",
       "      <th>id_listing_anon</th>\n",
       "      <th>ts_interaction_first</th>\n",
       "      <th>ts_reply_at_first</th>\n",
       "      <th>ts_accepted_at_first</th>\n",
       "      <th>ts_booking_at</th>\n",
       "      <th>ds_checkin_first</th>\n",
       "      <th>ds_checkout_first</th>\n",
       "      <th>m_guests_first</th>\n",
       "      <th>m_interactions</th>\n",
       "      <th>m_first_message_length_in_characters</th>\n",
       "      <th>dim_contact_channel_first</th>\n",
       "    </tr>\n",
       "  </thead>\n",
       "  <tbody>\n",
       "    <tr>\n",
       "      <th>47151</th>\n",
       "      <td>d7a6ce12-8bef-4cb4-8225-0610bcaac91f</td>\n",
       "      <td>ef706a92-75ef-425b-bb0b-f1540986b3e0</td>\n",
       "      <td>90f9988e-5c1b-4303-9d15-19fdff2ced76</td>\n",
       "      <td>2013-12-27 13:43:29</td>\n",
       "      <td>2013-12-27 21:05:05.0</td>\n",
       "      <td>2013-12-27 21:05:05.0</td>\n",
       "      <td>NaN</td>\n",
       "      <td>2014-02-01</td>\n",
       "      <td>2014-02-22</td>\n",
       "      <td>1.0</td>\n",
       "      <td>2</td>\n",
       "      <td>2751.0</td>\n",
       "      <td>contact_me</td>\n",
       "    </tr>\n",
       "  </tbody>\n",
       "</table>\n",
       "</div>"
      ],
      "text/plain": [
       "                              id_guest_anon  \\\n",
       "47151  d7a6ce12-8bef-4cb4-8225-0610bcaac91f   \n",
       "\n",
       "                               id_host_anon  \\\n",
       "47151  ef706a92-75ef-425b-bb0b-f1540986b3e0   \n",
       "\n",
       "                            id_listing_anon ts_interaction_first  \\\n",
       "47151  90f9988e-5c1b-4303-9d15-19fdff2ced76  2013-12-27 13:43:29   \n",
       "\n",
       "           ts_reply_at_first   ts_accepted_at_first ts_booking_at  \\\n",
       "47151  2013-12-27 21:05:05.0  2013-12-27 21:05:05.0           NaN   \n",
       "\n",
       "      ds_checkin_first ds_checkout_first  m_guests_first  m_interactions  \\\n",
       "47151       2014-02-01        2014-02-22             1.0               2   \n",
       "\n",
       "       m_first_message_length_in_characters dim_contact_channel_first  \n",
       "47151                                2751.0                contact_me  "
      ]
     },
     "execution_count": 20,
     "metadata": {},
     "output_type": "execute_result"
    }
   ],
   "source": [
    "contact[contact.m_first_message_length_in_characters == 2751]"
   ]
  },
  {
   "cell_type": "markdown",
   "metadata": {},
   "source": [
    "The guest wrote a long message to the host. The host accepted the booking request. But the guest end up canceling the booking. Let's check if the guest has made other requests.  "
   ]
  },
  {
   "cell_type": "code",
   "execution_count": 21,
   "metadata": {
    "collapsed": false
   },
   "outputs": [
    {
     "data": {
      "text/html": [
       "<div>\n",
       "<table border=\"1\" class=\"dataframe\">\n",
       "  <thead>\n",
       "    <tr style=\"text-align: right;\">\n",
       "      <th></th>\n",
       "      <th>id_guest_anon</th>\n",
       "      <th>id_host_anon</th>\n",
       "      <th>id_listing_anon</th>\n",
       "      <th>ts_interaction_first</th>\n",
       "      <th>ts_reply_at_first</th>\n",
       "      <th>ts_accepted_at_first</th>\n",
       "      <th>ts_booking_at</th>\n",
       "      <th>ds_checkin_first</th>\n",
       "      <th>ds_checkout_first</th>\n",
       "      <th>m_guests_first</th>\n",
       "      <th>m_interactions</th>\n",
       "      <th>m_first_message_length_in_characters</th>\n",
       "      <th>dim_contact_channel_first</th>\n",
       "    </tr>\n",
       "  </thead>\n",
       "  <tbody>\n",
       "    <tr>\n",
       "      <th>41782</th>\n",
       "      <td>d7a6ce12-8bef-4cb4-8225-0610bcaac91f</td>\n",
       "      <td>7e58b421-8d94-4d47-9a6f-fcee736ba38c</td>\n",
       "      <td>f590d81e-db3c-4c56-8b50-13ae7dc0e0da</td>\n",
       "      <td>2013-12-27 13:44:19</td>\n",
       "      <td>2013-12-29 17:53:26.0</td>\n",
       "      <td>NaN</td>\n",
       "      <td>NaN</td>\n",
       "      <td>2014-02-01</td>\n",
       "      <td>2014-02-22</td>\n",
       "      <td>1.0</td>\n",
       "      <td>6</td>\n",
       "      <td>2746.0</td>\n",
       "      <td>contact_me</td>\n",
       "    </tr>\n",
       "    <tr>\n",
       "      <th>47151</th>\n",
       "      <td>d7a6ce12-8bef-4cb4-8225-0610bcaac91f</td>\n",
       "      <td>ef706a92-75ef-425b-bb0b-f1540986b3e0</td>\n",
       "      <td>90f9988e-5c1b-4303-9d15-19fdff2ced76</td>\n",
       "      <td>2013-12-27 13:43:29</td>\n",
       "      <td>2013-12-27 21:05:05.0</td>\n",
       "      <td>2013-12-27 21:05:05.0</td>\n",
       "      <td>NaN</td>\n",
       "      <td>2014-02-01</td>\n",
       "      <td>2014-02-22</td>\n",
       "      <td>1.0</td>\n",
       "      <td>2</td>\n",
       "      <td>2751.0</td>\n",
       "      <td>contact_me</td>\n",
       "    </tr>\n",
       "  </tbody>\n",
       "</table>\n",
       "</div>"
      ],
      "text/plain": [
       "                              id_guest_anon  \\\n",
       "41782  d7a6ce12-8bef-4cb4-8225-0610bcaac91f   \n",
       "47151  d7a6ce12-8bef-4cb4-8225-0610bcaac91f   \n",
       "\n",
       "                               id_host_anon  \\\n",
       "41782  7e58b421-8d94-4d47-9a6f-fcee736ba38c   \n",
       "47151  ef706a92-75ef-425b-bb0b-f1540986b3e0   \n",
       "\n",
       "                            id_listing_anon ts_interaction_first  \\\n",
       "41782  f590d81e-db3c-4c56-8b50-13ae7dc0e0da  2013-12-27 13:44:19   \n",
       "47151  90f9988e-5c1b-4303-9d15-19fdff2ced76  2013-12-27 13:43:29   \n",
       "\n",
       "           ts_reply_at_first   ts_accepted_at_first ts_booking_at  \\\n",
       "41782  2013-12-29 17:53:26.0                    NaN           NaN   \n",
       "47151  2013-12-27 21:05:05.0  2013-12-27 21:05:05.0           NaN   \n",
       "\n",
       "      ds_checkin_first ds_checkout_first  m_guests_first  m_interactions  \\\n",
       "41782       2014-02-01        2014-02-22             1.0               6   \n",
       "47151       2014-02-01        2014-02-22             1.0               2   \n",
       "\n",
       "       m_first_message_length_in_characters dim_contact_channel_first  \n",
       "41782                                2746.0                contact_me  \n",
       "47151                                2751.0                contact_me  "
      ]
     },
     "execution_count": 21,
     "metadata": {},
     "output_type": "execute_result"
    }
   ],
   "source": [
    "contact[contact.id_guest_anon == 'd7a6ce12-8bef-4cb4-8225-0610bcaac91f']"
   ]
  },
  {
   "cell_type": "markdown",
   "metadata": {},
   "source": [
    "The guest did make another booking request at almost the same time with another host and a 2746 characters' message. Unfortunately, the host didn't accept his/her request. OK. The long message is consistent. This might be his/her way of doing this. I will keep the data."
   ]
  },
  {
   "cell_type": "markdown",
   "metadata": {},
   "source": [
    "#### D. First contact channel"
   ]
  },
  {
   "cell_type": "code",
   "execution_count": 22,
   "metadata": {
    "collapsed": false
   },
   "outputs": [
    {
     "data": {
      "text/plain": [
       "contact_me        41008\n",
       "book_it            7719\n",
       "instant_booked     1272\n",
       "Name: dim_contact_channel_first, dtype: int64"
      ]
     },
     "execution_count": 22,
     "metadata": {},
     "output_type": "execute_result"
    }
   ],
   "source": [
    "#distribution\n",
    "contact.dim_contact_channel_first.value_counts()"
   ]
  },
  {
   "cell_type": "markdown",
   "metadata": {},
   "source": [
    "Majority booking requests are sent through contact me method, followed by book it and instant book. Let's look at the first message length."
   ]
  },
  {
   "cell_type": "code",
   "execution_count": 23,
   "metadata": {
    "collapsed": false
   },
   "outputs": [
    {
     "data": {
      "text/plain": [
       "<matplotlib.text.Text at 0x112fb0350>"
      ]
     },
     "execution_count": 23,
     "metadata": {},
     "output_type": "execute_result"
    },
    {
     "data": {
      "image/png": "[encoded data removed]",
      "text/plain": [
       "<matplotlib.figure.Figure at 0x112044ad0>"
      ]
     },
     "metadata": {},
     "output_type": "display_data"
    }
   ],
   "source": [
    "#plot booking method vs first message length\n",
    "fig, ax = plt.subplots(3, figsize=(16,8))\n",
    "contact[contact.dim_contact_channel_first == 'contact_me']['m_first_message_length_in_characters'].hist(bins=50, ax=ax[0])\n",
    "ax[0].set_title('Contact me')\n",
    "contact[contact.dim_contact_channel_first == 'book_it']['m_first_message_length_in_characters'].hist(bins=50, ax=ax[1])\n",
    "ax[1].set_title('Book it')\n",
    "contact[contact.dim_contact_channel_first == 'instant_booked']['m_first_message_length_in_characters'].hist(bins=50, ax=ax[2])\n",
    "ax[2].set_title('Instant book')"
   ]
  },
  {
   "cell_type": "markdown",
   "metadata": {},
   "source": [
    "Contact me has the longest message in general. Many guest don't write a message when using instant book, which makes sense. Through book it, guests do write messages with various length. It suggests that it's more meaningful to study the message effect on booking rate in contact me and book it.  "
   ]
  },
  {
   "cell_type": "markdown",
   "metadata": {},
   "source": [
    "#### D.  Guest inquiry time, host reply time, host accept time, booking time"
   ]
  },
  {
   "cell_type": "code",
   "execution_count": 24,
   "metadata": {
    "collapsed": false
   },
   "outputs": [],
   "source": [
    "#group by guest, host and listing\n",
    "group_by_contact = contact.groupby(['id_guest_anon', 'id_host_anon', 'id_listing_anon'])\\\n",
    "                                                                [['ts_booking_at']].count()"
   ]
  },
  {
   "cell_type": "code",
   "execution_count": 109,
   "metadata": {
    "collapsed": false
   },
   "outputs": [],
   "source": [
    "#multiple booking with the same listing\n",
    "#group_by_contact[group_by_contact.ts_booking_at > 1]"
   ]
  },
  {
   "cell_type": "code",
   "execution_count": 26,
   "metadata": {
    "collapsed": false,
    "scrolled": true
   },
   "outputs": [
    {
     "data": {
      "text/html": [
       "<div>\n",
       "<table border=\"1\" class=\"dataframe\">\n",
       "  <thead>\n",
       "    <tr style=\"text-align: right;\">\n",
       "      <th></th>\n",
       "      <th>id_guest_anon</th>\n",
       "      <th>id_host_anon</th>\n",
       "      <th>id_listing_anon</th>\n",
       "      <th>ts_interaction_first</th>\n",
       "      <th>ts_reply_at_first</th>\n",
       "      <th>ts_accepted_at_first</th>\n",
       "      <th>ts_booking_at</th>\n",
       "      <th>ds_checkin_first</th>\n",
       "      <th>ds_checkout_first</th>\n",
       "      <th>m_guests_first</th>\n",
       "      <th>m_interactions</th>\n",
       "      <th>m_first_message_length_in_characters</th>\n",
       "      <th>dim_contact_channel_first</th>\n",
       "    </tr>\n",
       "  </thead>\n",
       "  <tbody>\n",
       "    <tr>\n",
       "      <th>4678</th>\n",
       "      <td>040b25bd-7eb0-4490-ab01-ef955c3beedf</td>\n",
       "      <td>83651995-613a-4941-95b0-6e9f51bbdc30</td>\n",
       "      <td>4b7a144a-b0b2-4749-ad72-cdecd8d37afb</td>\n",
       "      <td>2013-04-21 20:30:01</td>\n",
       "      <td>2013-04-21 20:28:21.0</td>\n",
       "      <td>2013-04-21 20:28:21.0</td>\n",
       "      <td>2013-04-21 20:28:21.0</td>\n",
       "      <td>2013-06-02</td>\n",
       "      <td>2013-06-09</td>\n",
       "      <td>2.0</td>\n",
       "      <td>2</td>\n",
       "      <td>183.0</td>\n",
       "      <td>instant_booked</td>\n",
       "    </tr>\n",
       "    <tr>\n",
       "      <th>26034</th>\n",
       "      <td>040b25bd-7eb0-4490-ab01-ef955c3beedf</td>\n",
       "      <td>83651995-613a-4941-95b0-6e9f51bbdc30</td>\n",
       "      <td>4b7a144a-b0b2-4749-ad72-cdecd8d37afb</td>\n",
       "      <td>2013-04-21 20:34:47</td>\n",
       "      <td>2013-04-21 20:33:07.0</td>\n",
       "      <td>2013-04-21 20:33:07.0</td>\n",
       "      <td>2013-04-21 20:33:07.0</td>\n",
       "      <td>2013-06-17</td>\n",
       "      <td>2013-06-23</td>\n",
       "      <td>2.0</td>\n",
       "      <td>7</td>\n",
       "      <td>99.0</td>\n",
       "      <td>instant_booked</td>\n",
       "    </tr>\n",
       "  </tbody>\n",
       "</table>\n",
       "</div>"
      ],
      "text/plain": [
       "                              id_guest_anon  \\\n",
       "4678   040b25bd-7eb0-4490-ab01-ef955c3beedf   \n",
       "26034  040b25bd-7eb0-4490-ab01-ef955c3beedf   \n",
       "\n",
       "                               id_host_anon  \\\n",
       "4678   83651995-613a-4941-95b0-6e9f51bbdc30   \n",
       "26034  83651995-613a-4941-95b0-6e9f51bbdc30   \n",
       "\n",
       "                            id_listing_anon ts_interaction_first  \\\n",
       "4678   4b7a144a-b0b2-4749-ad72-cdecd8d37afb  2013-04-21 20:30:01   \n",
       "26034  4b7a144a-b0b2-4749-ad72-cdecd8d37afb  2013-04-21 20:34:47   \n",
       "\n",
       "           ts_reply_at_first   ts_accepted_at_first          ts_booking_at  \\\n",
       "4678   2013-04-21 20:28:21.0  2013-04-21 20:28:21.0  2013-04-21 20:28:21.0   \n",
       "26034  2013-04-21 20:33:07.0  2013-04-21 20:33:07.0  2013-04-21 20:33:07.0   \n",
       "\n",
       "      ds_checkin_first ds_checkout_first  m_guests_first  m_interactions  \\\n",
       "4678        2013-06-02        2013-06-09             2.0               2   \n",
       "26034       2013-06-17        2013-06-23             2.0               7   \n",
       "\n",
       "       m_first_message_length_in_characters dim_contact_channel_first  \n",
       "4678                                  183.0            instant_booked  \n",
       "26034                                  99.0            instant_booked  "
      ]
     },
     "execution_count": 26,
     "metadata": {},
     "output_type": "execute_result"
    }
   ],
   "source": [
    "contact[contact.id_guest_anon == '040b25bd-7eb0-4490-ab01-ef955c3beedf']"
   ]
  },
  {
   "cell_type": "markdown",
   "metadata": {},
   "source": [
    "A few findings here:\n",
    "1. The guest made two bookings with the same host at different check-in. This should not be considered as duplicates.\n",
    "2. Hosts can pre-approve the request. This is seen when hosts reply and accept booking at the same time. \n",
    "3. There are some data issues. The host replies even before the guest's inquiry. Doesn't make sense. This might be some mistakes in the loggings. We should communicate this to the engineering team. To ensure data quality, I will remove those data points."
   ]
  },
  {
   "cell_type": "code",
   "execution_count": 9,
   "metadata": {
    "collapsed": false
   },
   "outputs": [],
   "source": [
    "#convert to date type\n",
    "contact['ts_interaction_first'] = pd.to_datetime(contact.ts_interaction_first, format='%Y-%m-%d %H:%M:%S')\n",
    "contact['ts_reply_at_first'] = pd.to_datetime(contact.ts_reply_at_first, format='%Y-%m-%d %H:%M:%S')\n",
    "contact['ts_accepted_at_first'] = pd.to_datetime(contact.ts_accepted_at_first, format='%Y-%m-%d %H:%M:%S')\n",
    "contact['ts_booking_at'] = pd.to_datetime(contact.ts_booking_at, format='%Y-%m-%d %H:%M:%S')\n",
    "contact['ds_checkin_first'] = pd.to_datetime(contact.ds_checkin_first, format='%Y-%m-%d %H:%M:%S')\n",
    "\n",
    "#contact['delay_reply_hour'] = (contact.ts_reply_at_first - contact.ts_interaction_first)\\\n",
    "                                    #.apply(lambda x: x.seconds/3600. if not pd.isnull(x) else None)\n",
    "contact['delay_reply_nday'] = (contact.ts_reply_at_first - contact.ts_interaction_first)\\\n",
    "                                    .apply(lambda x: x.days if not pd.isnull(x) else None)\n",
    "contact['delay_checkin_nday'] = (contact.ds_checkin_first - contact.ts_interaction_first)\\\n",
    "                                    .apply(lambda x: x.days if not pd.isnull(x) else None)\n",
    "\n",
    "#contact[contact['delay_reply_nday']<0].head()\n",
    "#contact[contact['delay_checkin_nday'] < -1]\n",
    "#contact['reply_delay_days'] = (pd.to_datetime(contact.ts_reply_at_first)\\\n",
    "                    #-pd.to_datetime(contact.ts_interaction_first))/np.timedelta64(1,'D')"
   ]
  },
  {
   "cell_type": "code",
   "execution_count": 10,
   "metadata": {
    "collapsed": false
   },
   "outputs": [
    {
     "name": "stdout",
     "output_type": "stream",
     "text": [
      "Host replies before the inquiry: 2254\n",
      "Check in before inquiry: 22 \n"
     ]
    }
   ],
   "source": [
    "print \"Host replies before the inquiry: %d\" %contact[contact['delay_reply_nday'] < 0].shape[0]\n",
    "print \"Check in before inquiry: %d \"% contact[contact['delay_checkin_nday'] < -1].shape[0]"
   ]
  },
  {
   "cell_type": "code",
   "execution_count": 16,
   "metadata": {
    "collapsed": false
   },
   "outputs": [
    {
     "data": {
      "text/plain": [
       "(47734, 15)"
      ]
     },
     "execution_count": 16,
     "metadata": {},
     "output_type": "execute_result"
    }
   ],
   "source": [
    "#remove these points\n",
    "contact = contact[~(contact['delay_reply_nday'] < 0)]\n",
    "contact.shape"
   ]
  },
  {
   "cell_type": "code",
   "execution_count": 18,
   "metadata": {
    "collapsed": false
   },
   "outputs": [
    {
     "data": {
      "text/plain": [
       "(0, 15)"
      ]
     },
     "execution_count": 18,
     "metadata": {},
     "output_type": "execute_result"
    }
   ],
   "source": [
    "contact[contact.delay_checkin_nday < -1].shape"
   ]
  },
  {
   "cell_type": "code",
   "execution_count": 17,
   "metadata": {
    "collapsed": false
   },
   "outputs": [
    {
     "data": {
      "text/plain": [
       "(47734, 15)"
      ]
     },
     "execution_count": 17,
     "metadata": {},
     "output_type": "execute_result"
    }
   ],
   "source": [
    "contact = contact[~(contact['delay_checkin_nday'] < -1)]\n",
    "contact.shape"
   ]
  },
  {
   "cell_type": "markdown",
   "metadata": {},
   "source": [
    "Given more time, I'd also like to examine the data quality between reply and accept time & between accept and booking time. Glancing through it, no obverious abnormalies were found. For check-in and check-out time, I believe the system is desigend to ensure the quality (meaning check out time is always after check in time). For the time constraint, I will not detail here. "
   ]
  },
  {
   "cell_type": "markdown",
   "metadata": {},
   "source": [
    "## 3. A/B testing"
   ]
  },
  {
   "cell_type": "markdown",
   "metadata": {},
   "source": [
    "Now the data are clean and understood. Let's compare the booking rate for treatment and control groups. First I left join the contact and assign data sets by user id."
   ]
  },
  {
   "cell_type": "code",
   "execution_count": 19,
   "metadata": {
    "collapsed": false
   },
   "outputs": [
    {
     "data": {
      "text/plain": [
       "(47734, 17)"
      ]
     },
     "execution_count": 19,
     "metadata": {},
     "output_type": "execute_result"
    }
   ],
   "source": [
    "#left join contact and assign data sets\n",
    "contact_assign = pd.merge(contact, assign, left_on='id_guest_anon', right_on='id_user_anon', \\\n",
    "                                                              how='left')\n",
    "contact_assign.shape"
   ]
  },
  {
   "cell_type": "markdown",
   "metadata": {},
   "source": [
    "The merged table has the same row nubmer as contact, as expected. \n",
    "The main point of the experiment is to see the required personal message help improve booking rate. Considering this, I will only include data in two channels: contact me and book it. In instant booking, the host auto-accepts the booking. This is out of the scope of the experiment. In contact me and book it method, personal message could have an impact on host preference. "
   ]
  },
  {
   "cell_type": "code",
   "execution_count": 21,
   "metadata": {
    "collapsed": false
   },
   "outputs": [
    {
     "data": {
      "text/plain": [
       "(47682, 17)"
      ]
     },
     "execution_count": 21,
     "metadata": {},
     "output_type": "execute_result"
    }
   ],
   "source": [
    "#only look at contact me and book it\n",
    "test = pd.concat([contact_assign[contact_assign.dim_contact_channel_first == 'contact_me'], \\\n",
    "                  contact_assign[contact_assign.dim_contact_channel_first == 'book_it']])\n",
    "test.shape"
   ]
  },
  {
   "cell_type": "markdown",
   "metadata": {},
   "source": [
    "Now, let's calculate the booking rate in both treatment and control."
   ]
  },
  {
   "cell_type": "code",
   "execution_count": 22,
   "metadata": {
    "collapsed": false
   },
   "outputs": [
    {
     "data": {
      "text/plain": [
       "0    36801\n",
       "1    10881\n",
       "Name: converted, dtype: int64"
      ]
     },
     "execution_count": 22,
     "metadata": {},
     "output_type": "execute_result"
    }
   ],
   "source": [
    "#make a column for booking rate\n",
    "test['converted'] = test['ts_booking_at'].apply(lambda x: 0 if pd.isnull(x) else 1)\n",
    "test.converted.value_counts()"
   ]
  },
  {
   "cell_type": "code",
   "execution_count": 23,
   "metadata": {
    "collapsed": false
   },
   "outputs": [
    {
     "name": "stdout",
     "output_type": "stream",
     "text": [
      "Treatment group has a sample size of 10527.\n",
      "Control group has a sample sie of 10477.\n"
     ]
    }
   ],
   "source": [
    "#separate treatment and control groups\n",
    "treatment = test[test.ab == 'treatment']\n",
    "control = test[test.ab == 'control']\n",
    "print \"Treatment group has a sample size of %d.\" % treatment.shape[0]\n",
    "print \"Control group has a sample sie of %d.\" % control.shape[0]"
   ]
  },
  {
   "cell_type": "markdown",
   "metadata": {},
   "source": [
    "The groups are blanced. Then I will perform t test to compare the mean."
   ]
  },
  {
   "cell_type": "code",
   "execution_count": 32,
   "metadata": {
    "collapsed": false
   },
   "outputs": [
    {
     "name": "stdout",
     "output_type": "stream",
     "text": [
      "Control group has an averaged booking rate of 0.379880.\n",
      "Treatment group has an averaged booking rate of 0.378645.\n"
     ]
    }
   ],
   "source": [
    "X = control.converted\n",
    "Y = treatment.converted\n",
    "\n",
    "#mean\n",
    "print \"Control group has an averaged booking rate of %2f.\" % X.mean()\n",
    "print \"Treatment group has an averaged booking rate of %2f.\" % Y.mean()"
   ]
  },
  {
   "cell_type": "markdown",
   "metadata": {},
   "source": [
    "We can see that the booking rate are similar between the treatment and control. This is expected. Many guests in control group write messages to host. Now let's run t test to compare the mean booking rate."
   ]
  },
  {
   "cell_type": "code",
   "execution_count": 41,
   "metadata": {
    "collapsed": false
   },
   "outputs": [
    {
     "name": "stdout",
     "output_type": "stream",
     "text": [
      "At a 95% confidence level, does the two population have an equal variance? True\n"
     ]
    }
   ],
   "source": [
    "#f test to see if equal var\n",
    "def F_test(X, Y, alpha):\n",
    "    alpha = alpha\n",
    "    F = np.var(X) / np.var(Y)\n",
    "    df1 = len(X) - 1\n",
    "    df2 = len(Y) - 1\n",
    "    p_value = stats.f.cdf(F, df1, df2)\n",
    "  \n",
    "    if p_value > alpha:\n",
    "        return True\n",
    "    else:\n",
    "        return False\n",
    "\n",
    "alpha = 0.05\n",
    "var_equal = F_test(X, Y, alpha)\n",
    "print 'At a %d%% confidence level, does the two population have an equal variance? %s' % ((1-alpha)*100, var_equal)"
   ]
  },
  {
   "cell_type": "code",
   "execution_count": 42,
   "metadata": {
    "collapsed": false
   },
   "outputs": [
    {
     "name": "stdout",
     "output_type": "stream",
     "text": [
      "At a 95% confidence level, does the two population have an equal variance? True\n"
     ]
    }
   ],
   "source": [
    "#student t test to compare mean\n",
    "def T_test(X, Y, alpha):\n",
    "    alpha = alpha\n",
    "    p_value = stats.ttest_ind(a=X, b=Y, equal_var=True)\n",
    "  \n",
    "    if p_value > alpha:\n",
    "        return True\n",
    "    else:\n",
    "        return False\n",
    "\n",
    "alpha = 0.05\n",
    "mean_equal = T_test(X, Y, alpha)\n",
    "print 'At a %d%% confidence level, does the two population have an equal variance? %s' % ((1-alpha)*100, mean_equal)"
   ]
  },
  {
   "cell_type": "markdown",
   "metadata": {},
   "source": [
    "At a 95% confidence level, the booking rate are the same between treatment and control group. I also did a quick power analysis. With an effect size of 5%, a power of 80% and significant of 5%, the sample size is sufficient to conclude. As a result, I recommend stopping the experiment."
   ]
  },
  {
   "cell_type": "markdown",
   "metadata": {},
   "source": [
    "# Part II: Booking rate prediction"
   ]
  },
  {
   "cell_type": "markdown",
   "metadata": {},
   "source": [
    "To predict the booking rate, below are my hypotheses:\n",
    "1. Contact channel. The less processes, the higher booking rate. Booking rate: instant book > book it > contact me. \n",
    "2. Check in time - seasonality. Summer is usually a busy season. Multiple guests try to book from the same host. The host can't accept all the bookings. Perhaps first come first serve.\n",
    "3. How early do you book the trip? This is the time difference between first inquiry and check in time. The sooner you make the inquiry, the more available the rooms are.\n",
    "4. The number of interactions between guests and hosts. More interactions means both guests and hosts are more enaged.\n",
    "5. How soon the host replies or accept inquires.\n",
    "6. The nubmer of guests <= the room capacity. Host may reject your inquiry if not satisfied.\n",
    "7. The time of the day the inquiry was sent. AM vs PM vs night.\n",
    "8. The time of the week the inquiry was sent. Week day vs weekends.\n",
    "9. Listings: The number of reveiws of the host, bathroom number, room type.\n",
    "10. others"
   ]
  },
  {
   "cell_type": "markdown",
   "metadata": {},
   "source": [
    "## 1. Exploring hypotheses"
   ]
  },
  {
   "cell_type": "markdown",
   "metadata": {},
   "source": [
    "### 1). Contact channel"
   ]
  },
  {
   "cell_type": "code",
   "execution_count": 37,
   "metadata": {
    "collapsed": false
   },
   "outputs": [
    {
     "name": "stdout",
     "output_type": "stream",
     "text": [
      "                           unconverted  converted  booking_rate\n",
      "dim_contact_channel_first                                      \n",
      "book_it                         2474.0     5242.0      0.679368\n",
      "contact_me                     35100.0     5890.0      0.143694\n",
      "instant_booked                     0.0     1271.0      1.000000\n"
     ]
    }
   ],
   "source": [
    "#add converted column\n",
    "contact['converted'] = contact['ts_booking_at'].apply(lambda x: 0 if pd.isnull(x) else 1)\n",
    "\n",
    "#contact channel frequency table\n",
    "group_by_channel = contact.groupby(['dim_contact_channel_first', 'converted']).size().unstack()\n",
    "group_by_channel.columns = ['unconverted', 'converted']\n",
    "group_by_channel = group_by_channel.fillna(0)\n",
    "\n",
    "group_by_channel['booking_rate'] = group_by_channel['converted'] / \\\n",
    "(group_by_channel['unconverted'] + group_by_channel['converted'])\n",
    "print group_by_channel"
   ]
  },
  {
   "cell_type": "code",
   "execution_count": 38,
   "metadata": {
    "collapsed": false
   },
   "outputs": [
    {
     "data": {
      "text/plain": [
       "<matplotlib.text.Text at 0x11479d250>"
      ]
     },
     "execution_count": 38,
     "metadata": {},
     "output_type": "execute_result"
    },
    {
     "data": {
      "image/png": "[encoded data removed]",
      "text/plain": [
       "<matplotlib.figure.Figure at 0x114650490>"
      ]
     },
     "metadata": {},
     "output_type": "display_data"
    }
   ],
   "source": [
    "group_by_channel.booking_rate.plot(kind='barh')\n",
    "plt.xlabel('First contact channel')\n",
    "plt.title('Contact channel vs Booking rate', fontsize=18)"
   ]
  },
  {
   "cell_type": "markdown",
   "metadata": {},
   "source": [
    "My hypothesis is confirmed by the plot. The booking rate follows the order: instant booked (100%) > booked it (67.6%) > contact me (14.3%). Longer wait time likely loose the guest. I would also recommend always providing instant booked and book it options to hosts. If host happen to accept them, booking rate will also benefit."
   ]
  },
  {
   "cell_type": "markdown",
   "metadata": {},
   "source": [
    "## 2). Check-in time (Seasonality)"
   ]
  },
  {
   "cell_type": "code",
   "execution_count": 39,
   "metadata": {
    "collapsed": false
   },
   "outputs": [],
   "source": [
    "#seasonality by month\n",
    "contact['checkin_month']  = contact.ds_checkin_first.apply(lambda x: x.month)"
   ]
  },
  {
   "cell_type": "code",
   "execution_count": 40,
   "metadata": {
    "collapsed": false
   },
   "outputs": [],
   "source": [
    "group_by_month = contact.groupby('checkin_month')['converted'].mean()\n",
    "#group_by_month_err = contact.groupby('checkin_month')['converted'].std()"
   ]
  },
  {
   "cell_type": "code",
   "execution_count": 41,
   "metadata": {
    "collapsed": false
   },
   "outputs": [
    {
     "data": {
      "text/plain": [
       "<matplotlib.text.Text at 0x1191c8e50>"
      ]
     },
     "execution_count": 41,
     "metadata": {},
     "output_type": "execute_result"
    },
    {
     "data": {
      "image/png": "[encoded data removed]",
      "text/plain": [
       "<matplotlib.figure.Figure at 0x112288310>"
      ]
     },
     "metadata": {},
     "output_type": "display_data"
    }
   ],
   "source": [
    "#plot booking rate change as month\n",
    "group_by_month.plot(figsize=(12, 6))\n",
    "plt.ylabel('Booking rate')\n",
    "plt.title('Booking rate changes by month', fontsize=18)"
   ]
  },
  {
   "cell_type": "markdown",
   "metadata": {},
   "source": [
    "### 3). How early do you book the trip?"
   ]
  },
  {
   "cell_type": "code",
   "execution_count": 42,
   "metadata": {
    "collapsed": false
   },
   "outputs": [],
   "source": [
    "#create a column to record the day difference between inquiry and check in \n",
    "contact['inquiry_checkin'] = (contact.ds_checkin_first - contact.ts_interaction_first).apply(lambda x: x.days)"
   ]
  },
  {
   "cell_type": "code",
   "execution_count": 43,
   "metadata": {
    "collapsed": false
   },
   "outputs": [
    {
     "data": {
      "text/plain": [
       "count    49977.000000\n",
       "mean        35.409708\n",
       "std         48.435652\n",
       "min         -1.000000\n",
       "25%          5.000000\n",
       "50%         20.000000\n",
       "75%         47.000000\n",
       "max       1377.000000\n",
       "Name: inquiry_checkin, dtype: float64"
      ]
     },
     "execution_count": 43,
     "metadata": {},
     "output_type": "execute_result"
    }
   ],
   "source": [
    "#look at the stats\n",
    "contact.inquiry_checkin.describe()"
   ]
  },
  {
   "cell_type": "code",
   "execution_count": 44,
   "metadata": {
    "collapsed": false
   },
   "outputs": [
    {
     "data": {
      "text/plain": [
       "<matplotlib.text.Text at 0x11978e0d0>"
      ]
     },
     "execution_count": 44,
     "metadata": {},
     "output_type": "execute_result"
    },
    {
     "data": {
      "image/png": "[encoded data removed]",
      "text/plain": [
       "<matplotlib.figure.Figure at 0x1145c96d0>"
      ]
     },
     "metadata": {},
     "output_type": "display_data"
    }
   ],
   "source": [
    "#plot booking rate variation with inquiry-check in time difference\n",
    "bins=[-2, 0, 7, 14, 30, 60, 10000]\n",
    "contact['inquiry_checkin_cat'] = pd.cut(contact.inquiry_checkin, bins=bins)\n",
    "\n",
    "group_by_inquiry_checkin = contact.groupby('inquiry_checkin_cat')['converted'].mean()\n",
    "group_by_inquiry_checkin.plot(kind='barh', figsize=(8, 4))\n",
    "plt.xlabel('Booking rate')\n",
    "plt.title('How early you make the inquiry affects booking rate', fontsize=18)"
   ]
  },
  {
   "cell_type": "markdown",
   "metadata": {},
   "source": [
    "As above, the earlier the guest send the inquiry, the higher the booking rate. The drop after 100 days may be due to noise (not sufficient samples). I will consodiate the groups."
   ]
  },
  {
   "cell_type": "code",
   "execution_count": 45,
   "metadata": {
    "collapsed": false
   },
   "outputs": [],
   "source": [
    "#consolidate the groups\n",
    "labels = ['inquiry_same_day', 'inquiry_1_week_advance', 'inquiry_2_week_advance', \\\n",
    "          'inquiry_2_week_more_advance']\n",
    "bins=[-2, 0, 7, 14, 10000]\n",
    "contact['inquiry_checkin_cat'] = pd.cut(contact.inquiry_checkin, bins=bins, labels=labels)"
   ]
  },
  {
   "cell_type": "code",
   "execution_count": 46,
   "metadata": {
    "collapsed": false
   },
   "outputs": [
    {
     "data": {
      "text/plain": [
       "inquiry_2_week_more_advance    28914\n",
       "inquiry_1_week_advance         10813\n",
       "inquiry_2_week_advance          5952\n",
       "inquiry_same_day                4298\n",
       "Name: inquiry_checkin_cat, dtype: int64"
      ]
     },
     "execution_count": 46,
     "metadata": {},
     "output_type": "execute_result"
    }
   ],
   "source": [
    "#confirm the groups\n",
    "contact.inquiry_checkin_cat.value_counts()"
   ]
  },
  {
   "cell_type": "markdown",
   "metadata": {},
   "source": [
    "### 4). Guest-host interactions"
   ]
  },
  {
   "cell_type": "code",
   "execution_count": 47,
   "metadata": {
    "collapsed": false
   },
   "outputs": [],
   "source": [
    "#separte interaction number to different groups\n",
    "bins=[0, 2, 4, 6, 10, 20, 30, 40, 50, 60, 10000]\n",
    "contact['num_interactions_cat'] = pd.cut(contact.m_interactions, bins=bins)\n",
    "\n",
    "#group by the number of interactions\n",
    "group_by_interactions = contact.groupby('num_interactions_cat')['converted'].mean()"
   ]
  },
  {
   "cell_type": "code",
   "execution_count": 48,
   "metadata": {
    "collapsed": false
   },
   "outputs": [
    {
     "data": {
      "text/plain": [
       "count    49977.000000\n",
       "mean         5.352022\n",
       "std          5.602091\n",
       "min          1.000000\n",
       "25%          2.000000\n",
       "50%          3.000000\n",
       "75%          7.000000\n",
       "max        107.000000\n",
       "Name: m_interactions, dtype: float64"
      ]
     },
     "execution_count": 48,
     "metadata": {},
     "output_type": "execute_result"
    }
   ],
   "source": [
    "contact.m_interactions.describe()"
   ]
  },
  {
   "cell_type": "code",
   "execution_count": 49,
   "metadata": {
    "collapsed": false
   },
   "outputs": [
    {
     "data": {
      "text/plain": [
       "<matplotlib.text.Text at 0x1179c84d0>"
      ]
     },
     "execution_count": 49,
     "metadata": {},
     "output_type": "execute_result"
    },
    {
     "data": {
      "image/png": "[encoded data removed]",
      "text/plain": [
       "<matplotlib.figure.Figure at 0x1191bf990>"
      ]
     },
     "metadata": {},
     "output_type": "display_data"
    }
   ],
   "source": [
    "#plot booking rate change as interactions\n",
    "group_by_interactions.plot(kind='barh', figsize=(8, 4))\n",
    "plt.ylabel('Booking rate')\n",
    "plt.title('Booking rate vs Guest-host interactions', fontsize=18)"
   ]
  },
  {
   "cell_type": "markdown",
   "metadata": {},
   "source": [
    "The more guests and hosts interact, the higher the booking rate. The variation drops after 10 interactions. I will consolidate the groups."
   ]
  },
  {
   "cell_type": "code",
   "execution_count": 50,
   "metadata": {
    "collapsed": false
   },
   "outputs": [],
   "source": [
    "#consolidate \n",
    "labels = ['interaction_0_2', 'interaction_2_4', 'interaction_4_6', 'interaction_6_10', 'interaction_10']\n",
    "bins=[0, 2, 4, 6, 10, 10000]\n",
    "contact['num_interactions_cat'] = pd.cut(contact.m_interactions, bins=bins, labels=labels)"
   ]
  },
  {
   "cell_type": "code",
   "execution_count": 51,
   "metadata": {
    "collapsed": false
   },
   "outputs": [
    {
     "data": {
      "text/plain": [
       "interaction_0_2     18860\n",
       "interaction_2_4     12623\n",
       "interaction_10       6375\n",
       "interaction_6_10     6355\n",
       "interaction_4_6      5764\n",
       "Name: num_interactions_cat, dtype: int64"
      ]
     },
     "execution_count": 51,
     "metadata": {},
     "output_type": "execute_result"
    }
   ],
   "source": [
    "#confirm the groups\n",
    "contact.num_interactions_cat.value_counts()"
   ]
  },
  {
   "cell_type": "markdown",
   "metadata": {},
   "source": [
    "### 5). How soon the host replies inquires."
   ]
  },
  {
   "cell_type": "code",
   "execution_count": 52,
   "metadata": {
    "collapsed": false
   },
   "outputs": [
    {
     "data": {
      "text/plain": [
       "count    44056.000000\n",
       "mean         1.131333\n",
       "std         19.184353\n",
       "min         -1.000000\n",
       "25%          0.000000\n",
       "50%          0.000000\n",
       "75%          0.000000\n",
       "max       1136.000000\n",
       "Name: delay_reply_nday, dtype: float64"
      ]
     },
     "execution_count": 52,
     "metadata": {},
     "output_type": "execute_result"
    }
   ],
   "source": [
    "#look at stats\n",
    "contact.delay_reply_nday.describe()"
   ]
  },
  {
   "cell_type": "code",
   "execution_count": 53,
   "metadata": {
    "collapsed": false
   },
   "outputs": [
    {
     "data": {
      "text/plain": [
       " 0.0    37470\n",
       "-1.0     2243\n",
       " 1.0     1927\n",
       " 2.0      800\n",
       " 3.0      357\n",
       "Name: delay_reply_nday, dtype: int64"
      ]
     },
     "execution_count": 53,
     "metadata": {},
     "output_type": "execute_result"
    }
   ],
   "source": [
    "#contact.delay_reply_nday.isnull().sum()\n",
    "\n",
    "#find the mode\n",
    "contact.delay_reply_nday.value_counts().head()"
   ]
  },
  {
   "cell_type": "code",
   "execution_count": 54,
   "metadata": {
    "collapsed": false
   },
   "outputs": [],
   "source": [
    "#for simplicity, fill missing values with the mode\n",
    "contact.delay_reply_nday.fillna(0, inplace=True)"
   ]
  },
  {
   "cell_type": "code",
   "execution_count": 55,
   "metadata": {
    "collapsed": false
   },
   "outputs": [],
   "source": [
    "bins=[-1, 1, 10000]\n",
    "labels = ['host_reply_same_day', 'host_reply_after_inquiry_day']\n",
    "contact['inquiry_reply_cat'] = pd.cut(contact.delay_reply_nday, bins=bins, labels=labels)"
   ]
  },
  {
   "cell_type": "code",
   "execution_count": 56,
   "metadata": {
    "collapsed": false
   },
   "outputs": [],
   "source": [
    "#contact.inquiry_reply_cat.isnull().sum()\n",
    "#contact.inquiry_reply_cat.value_counts()\n",
    "#contact.inquiry_reply_cat.fillna('host_reply_same_day', inplace=True)"
   ]
  },
  {
   "cell_type": "code",
   "execution_count": 57,
   "metadata": {
    "collapsed": false
   },
   "outputs": [
    {
     "data": {
      "text/plain": [
       "<matplotlib.text.Text at 0x1150b1b10>"
      ]
     },
     "execution_count": 57,
     "metadata": {},
     "output_type": "execute_result"
    },
    {
     "data": {
      "image/png": "[encoded data removed]",
      "text/plain": [
       "<matplotlib.figure.Figure at 0x117b3b050>"
      ]
     },
     "metadata": {},
     "output_type": "display_data"
    }
   ],
   "source": [
    "group_by_inquiry_reply = contact.groupby('inquiry_reply_cat')['converted'].mean()\n",
    "\n",
    "group_by_inquiry_reply.plot(kind='barh', figsize=(8, 4))\n",
    "plt.ylabel('Booking rate')\n",
    "plt.title('Booking rate vs How soon hosts reply', fontsize=18)"
   ]
  },
  {
   "cell_type": "markdown",
   "metadata": {},
   "source": [
    "The sooner the host replies, the higher the booking rate. If the host can reply the inquiry within one day, the chance of booking siginificant increases."
   ]
  },
  {
   "cell_type": "markdown",
   "metadata": {},
   "source": [
    "### 6). Does the nubmer of guests smaller than the room capacity?\n",
    "Host may reject your inquiry if not satisfied. I need to merge contact and listing data set for the analysis."
   ]
  },
  {
   "cell_type": "code",
   "execution_count": 58,
   "metadata": {
    "collapsed": true
   },
   "outputs": [],
   "source": [
    "#load listing data set\n",
    "listing = pd.read_csv('listings.csv')"
   ]
  },
  {
   "cell_type": "code",
   "execution_count": 59,
   "metadata": {
    "collapsed": false
   },
   "outputs": [
    {
     "data": {
      "text/plain": [
       "(5215, 5)"
      ]
     },
     "execution_count": 59,
     "metadata": {},
     "output_type": "execute_result"
    }
   ],
   "source": [
    "listing.shape"
   ]
  },
  {
   "cell_type": "code",
   "execution_count": 60,
   "metadata": {
    "collapsed": false
   },
   "outputs": [
    {
     "data": {
      "text/plain": [
       "id_listing_anon          0\n",
       "dim_room_type            0\n",
       "dim_person_capacity      0\n",
       "dim_bathrooms          554\n",
       "dim_total_reviews        0\n",
       "dtype: int64"
      ]
     },
     "execution_count": 60,
     "metadata": {},
     "output_type": "execute_result"
    }
   ],
   "source": [
    "#check missing values\n",
    "listing.isnull().sum()"
   ]
  },
  {
   "cell_type": "code",
   "execution_count": 61,
   "metadata": {
    "collapsed": false
   },
   "outputs": [
    {
     "data": {
      "text/plain": [
       "(49977, 25)"
      ]
     },
     "execution_count": 61,
     "metadata": {},
     "output_type": "execute_result"
    }
   ],
   "source": [
    "#merge contact and listing data sets\n",
    "contact_listing = pd.merge(contact, listing, on='id_listing_anon', how='left')\n",
    "contact_listing.shape"
   ]
  },
  {
   "cell_type": "code",
   "execution_count": 62,
   "metadata": {
    "collapsed": false
   },
   "outputs": [
    {
     "data": {
      "text/plain": [
       "145"
      ]
     },
     "execution_count": 62,
     "metadata": {},
     "output_type": "execute_result"
    }
   ],
   "source": [
    "#check missing values\n",
    "contact_listing.m_guests_first.isnull().sum()"
   ]
  },
  {
   "cell_type": "code",
   "execution_count": 63,
   "metadata": {
    "collapsed": false
   },
   "outputs": [
    {
     "data": {
      "text/plain": [
       "2.0     20738\n",
       "1.0     15707\n",
       "4.0      4707\n",
       "3.0      4617\n",
       "5.0      1713\n",
       "6.0      1179\n",
       "7.0       397\n",
       "8.0       380\n",
       "10.0      133\n",
       "9.0       111\n",
       "12.0       71\n",
       "11.0       40\n",
       "16.0       21\n",
       "14.0        9\n",
       "15.0        5\n",
       "13.0        4\n",
       "Name: m_guests_first, dtype: int64"
      ]
     },
     "execution_count": 63,
     "metadata": {},
     "output_type": "execute_result"
    }
   ],
   "source": [
    "contact_listing.m_guests_first.value_counts()"
   ]
  },
  {
   "cell_type": "code",
   "execution_count": 64,
   "metadata": {
    "collapsed": false
   },
   "outputs": [],
   "source": [
    "#fill the missing value with the mode\n",
    "contact_listing.m_guests_first.fillna(2, inplace=True)"
   ]
  },
  {
   "cell_type": "code",
   "execution_count": 65,
   "metadata": {
    "collapsed": false
   },
   "outputs": [],
   "source": [
    "#create column enough_capacity\n",
    "contact_listing['enough_capacity'] = np.where(contact_listing['dim_person_capacity'] \\\n",
    "                                                  > contact_listing.m_guests_first, 1, 0)"
   ]
  },
  {
   "cell_type": "code",
   "execution_count": 66,
   "metadata": {
    "collapsed": false
   },
   "outputs": [
    {
     "data": {
      "text/plain": [
       "<matplotlib.text.Text at 0x11503c110>"
      ]
     },
     "execution_count": 66,
     "metadata": {},
     "output_type": "execute_result"
    },
    {
     "data": {
      "image/png": "[encoded data removed]",
      "text/plain": [
       "<matplotlib.figure.Figure at 0x1179558d0>"
      ]
     },
     "metadata": {},
     "output_type": "display_data"
    }
   ],
   "source": [
    "#plot booking rate change\n",
    "group_by_enough_capacity = contact_listing.groupby('enough_capacity')['converted'].mean()\n",
    "group_by_enough_capacity.plot(kind='barh', figsize=(8, 4),title='Booking rate vs Enough capacity')\n",
    "plt.ylabel('Booking rate')"
   ]
  },
  {
   "cell_type": "markdown",
   "metadata": {},
   "source": [
    "There is little improvement when room capacity is met. "
   ]
  },
  {
   "cell_type": "markdown",
   "metadata": {},
   "source": [
    "### 7). Listings\n",
    "Room type, the number of reveiws of the host, bathroom number. "
   ]
  },
  {
   "cell_type": "code",
   "execution_count": 67,
   "metadata": {
    "collapsed": false
   },
   "outputs": [
    {
     "data": {
      "text/plain": [
       "Entire home/apt    3042\n",
       "Private room       2090\n",
       "Shared room          83\n",
       "Name: dim_room_type, dtype: int64"
      ]
     },
     "execution_count": 67,
     "metadata": {},
     "output_type": "execute_result"
    }
   ],
   "source": [
    "#distribution\n",
    "listing.dim_room_type.value_counts()"
   ]
  },
  {
   "cell_type": "code",
   "execution_count": 68,
   "metadata": {
    "collapsed": false,
    "scrolled": true
   },
   "outputs": [
    {
     "data": {
      "text/plain": [
       "<matplotlib.text.Text at 0x114f7cb90>"
      ]
     },
     "execution_count": 68,
     "metadata": {},
     "output_type": "execute_result"
    },
    {
     "data": {
      "image/png": "[encoded data removed]",
      "text/plain": [
       "<matplotlib.figure.Figure at 0x115089610>"
      ]
     },
     "metadata": {},
     "output_type": "display_data"
    }
   ],
   "source": [
    "#plot booking rate change as room type\n",
    "group_by_room_type = contact_listing.groupby('dim_room_type')['converted'].mean()\n",
    "group_by_room_type.plot(kind='barh', figsize=(8, 4),title='Booking rate vs Room type')\n",
    "plt.ylabel('Booking rate')"
   ]
  },
  {
   "cell_type": "markdown",
   "metadata": {},
   "source": [
    "Renting the entire home tend to have a higher booking rate. But not a strong predictor. Then let's look at review numbers."
   ]
  },
  {
   "cell_type": "code",
   "execution_count": 69,
   "metadata": {
    "collapsed": false
   },
   "outputs": [
    {
     "data": {
      "text/plain": [
       "count    5215.000000\n",
       "mean       11.140748\n",
       "std        22.993556\n",
       "min         0.000000\n",
       "25%         0.000000\n",
       "50%         2.000000\n",
       "75%        10.000000\n",
       "max       321.000000\n",
       "Name: dim_total_reviews, dtype: float64"
      ]
     },
     "execution_count": 69,
     "metadata": {},
     "output_type": "execute_result"
    }
   ],
   "source": [
    "#distribution\n",
    "listing.dim_total_reviews.describe()"
   ]
  },
  {
   "cell_type": "code",
   "execution_count": 70,
   "metadata": {
    "collapsed": false
   },
   "outputs": [
    {
     "data": {
      "text/plain": [
       "0"
      ]
     },
     "execution_count": 70,
     "metadata": {},
     "output_type": "execute_result"
    }
   ],
   "source": [
    "listing.dim_total_reviews.isnull().sum()"
   ]
  },
  {
   "cell_type": "markdown",
   "metadata": {},
   "source": [
    "Most hosts have zero reviews."
   ]
  },
  {
   "cell_type": "code",
   "execution_count": 71,
   "metadata": {
    "collapsed": false
   },
   "outputs": [
    {
     "data": {
      "text/plain": [
       "<matplotlib.text.Text at 0x119451690>"
      ]
     },
     "execution_count": 71,
     "metadata": {},
     "output_type": "execute_result"
    },
    {
     "data": {
      "image/png": "[encoded data removed]",
      "text/plain": [
       "<matplotlib.figure.Figure at 0x117c29790>"
      ]
     },
     "metadata": {},
     "output_type": "display_data"
    }
   ],
   "source": [
    "#create review category\n",
    "bins=[0, 1, 5, 10, 50, 1000]\n",
    "labels = ['review_0_1', 'review_1_5', 'review_5_10', 'review_10_50', 'review_50']\n",
    "contact_listing['review_cat'] = pd.cut(contact_listing.dim_total_reviews, bins=bins, labels=labels)\n",
    "\n",
    "group_by_review = contact_listing.groupby('review_cat')['converted'].mean()\n",
    "\n",
    "#plot booking rate change as reviews\n",
    "group_by_review.plot(kind='barh', figsize=(8, 4), title='Booking rate vs Reviews')\n",
    "plt.ylabel('Booking rate')"
   ]
  },
  {
   "cell_type": "markdown",
   "metadata": {},
   "source": [
    "Guests prefers hosts with higher reviews. Review number has a high predict power. Now let's check bathroom numbers."
   ]
  },
  {
   "cell_type": "code",
   "execution_count": 72,
   "metadata": {
    "collapsed": false
   },
   "outputs": [
    {
     "data": {
      "text/plain": [
       "<matplotlib.axes._subplots.AxesSubplot at 0x1194d78d0>"
      ]
     },
     "execution_count": 72,
     "metadata": {},
     "output_type": "execute_result"
    },
    {
     "data": {
      "image/png": "[encoded data removed]",
      "text/plain": [
       "<matplotlib.figure.Figure at 0x117c20390>"
      ]
     },
     "metadata": {},
     "output_type": "display_data"
    }
   ],
   "source": [
    "#distribution\n",
    "contact_listing.dim_bathrooms.hist()"
   ]
  },
  {
   "cell_type": "code",
   "execution_count": 73,
   "metadata": {
    "collapsed": false
   },
   "outputs": [
    {
     "data": {
      "text/plain": [
       "1.0    35178\n",
       "2.0     8010\n",
       "3.0     1349\n",
       "1.5     1307\n",
       "4.0      340\n",
       "0.0      312\n",
       "2.5      292\n",
       "0.5      182\n",
       "5.0      144\n",
       "7.0       67\n",
       "4.5       21\n",
       "6.0       12\n",
       "3.5        9\n",
       "8.0        8\n",
       "5.5        3\n",
       "Name: dim_bathrooms, dtype: int64"
      ]
     },
     "execution_count": 73,
     "metadata": {},
     "output_type": "execute_result"
    }
   ],
   "source": [
    "contact_listing.dim_bathrooms.value_counts()"
   ]
  },
  {
   "cell_type": "code",
   "execution_count": 74,
   "metadata": {
    "collapsed": false
   },
   "outputs": [
    {
     "data": {
      "text/plain": [
       "2743"
      ]
     },
     "execution_count": 74,
     "metadata": {},
     "output_type": "execute_result"
    }
   ],
   "source": [
    "#missing values\n",
    "contact_listing.dim_bathrooms.isnull().sum()"
   ]
  },
  {
   "cell_type": "code",
   "execution_count": 75,
   "metadata": {
    "collapsed": false
   },
   "outputs": [],
   "source": [
    "#fill missing values with the mode\n",
    "contact_listing.dim_bathrooms.fillna(1, inplace=True)\n",
    "#contact_listing.dim_bathrooms.isnull().sum()"
   ]
  },
  {
   "cell_type": "code",
   "execution_count": 76,
   "metadata": {
    "collapsed": false
   },
   "outputs": [
    {
     "data": {
      "text/plain": [
       "<matplotlib.text.Text at 0x1195c8c90>"
      ]
     },
     "execution_count": 76,
     "metadata": {},
     "output_type": "execute_result"
    },
    {
     "data": {
      "image/png": "[encoded data removed]",
      "text/plain": [
       "<matplotlib.figure.Figure at 0x119cbd890>"
      ]
     },
     "metadata": {},
     "output_type": "display_data"
    }
   ],
   "source": [
    "#bins=[-1, 0, 1, 1.5, 2, 3, 4, 5, 10]\n",
    "bins=[-1, 0, 10]\n",
    "contact_listing['bathroom_cat'] = pd.cut(contact_listing.dim_bathrooms, bins=bins)\n",
    "\n",
    "group_by_bathroom = contact_listing.groupby('bathroom_cat')['converted'].mean()\n",
    "\n",
    "#plot booking rate change as bathroom numbers\n",
    "group_by_bathroom.plot(kind='barh', figsize=(8, 4), title='Booking rate vs Number of Bathrooms')\n",
    "plt.ylabel('Booking rate')"
   ]
  },
  {
   "cell_type": "markdown",
   "metadata": {},
   "source": [
    "As a guest, I really care about if the room has a bathroom or not. So the figure shows the comparison. But I don't see no bathroom hurts the booking rate. Perhaps the guest shares the bathroom and the room is cheaper. "
   ]
  },
  {
   "cell_type": "code",
   "execution_count": 77,
   "metadata": {
    "collapsed": true
   },
   "outputs": [],
   "source": [
    "#bins=[-1, 5, 100]\n",
    "#labels = ['bathroom_0_5', 'bathroom_5']\n",
    "#contact_listing['bathroom_cat'] = pd.cut(contact_listing.dim_bathrooms, bins=bins, labels=labels)"
   ]
  },
  {
   "cell_type": "markdown",
   "metadata": {},
   "source": [
    "### 8). User information\n",
    "Language, country, identify verified"
   ]
  },
  {
   "cell_type": "code",
   "execution_count": 78,
   "metadata": {
    "collapsed": true
   },
   "outputs": [],
   "source": [
    "#load user data set\n",
    "user = pd.read_csv('users.csv')"
   ]
  },
  {
   "cell_type": "code",
   "execution_count": 79,
   "metadata": {
    "collapsed": false
   },
   "outputs": [
    {
     "data": {
      "text/plain": [
       "(28504, 4)"
      ]
     },
     "execution_count": 79,
     "metadata": {},
     "output_type": "execute_result"
    }
   ],
   "source": [
    "user.shape"
   ]
  },
  {
   "cell_type": "code",
   "execution_count": 80,
   "metadata": {
    "collapsed": false
   },
   "outputs": [
    {
     "data": {
      "text/plain": [
       "id_user_anon         0\n",
       "dim_language         0\n",
       "dim_country          0\n",
       "ts_first_verified    0\n",
       "dtype: int64"
      ]
     },
     "execution_count": 80,
     "metadata": {},
     "output_type": "execute_result"
    }
   ],
   "source": [
    "#check missing values\n",
    "user.isnull().sum()"
   ]
  },
  {
   "cell_type": "code",
   "execution_count": 81,
   "metadata": {
    "collapsed": false
   },
   "outputs": [
    {
     "data": {
      "text/plain": [
       "(49977, 32)"
      ]
     },
     "execution_count": 81,
     "metadata": {},
     "output_type": "execute_result"
    }
   ],
   "source": [
    "#merge with contact and listing data sets\n",
    "contact_listing_user = pd.merge(contact_listing, user, left_on='id_guest_anon', \\\n",
    "                                                right_on='id_user_anon', how='left')\n",
    "contact_listing_user.shape"
   ]
  },
  {
   "cell_type": "markdown",
   "metadata": {},
   "source": [
    "First look at the laugange guest speaks."
   ]
  },
  {
   "cell_type": "code",
   "execution_count": 82,
   "metadata": {
    "collapsed": false
   },
   "outputs": [
    {
     "data": {
      "text/plain": [
       "en    11153\n",
       "es     9923\n",
       "fr     2560\n",
       "de     1180\n",
       "it      973\n",
       "ru      637\n",
       "pt      571\n",
       "nl      502\n",
       "zh      182\n",
       "ko      146\n",
       "da      146\n",
       "pl       95\n",
       "tr       85\n",
       "sv       76\n",
       "hu       51\n",
       "no       47\n",
       "el       45\n",
       "fi       44\n",
       "cs       31\n",
       "ja       26\n",
       "ca       19\n",
       "th        8\n",
       "is        2\n",
       "ms        1\n",
       "he        1\n",
       "Name: dim_language, dtype: int64"
      ]
     },
     "execution_count": 82,
     "metadata": {},
     "output_type": "execute_result"
    }
   ],
   "source": [
    "user.dim_language.value_counts()"
   ]
  },
  {
   "cell_type": "code",
   "execution_count": 83,
   "metadata": {
    "collapsed": false
   },
   "outputs": [
    {
     "data": {
      "text/plain": [
       "en       20440\n",
       "es       15307\n",
       "other     5495\n",
       "fr        4747\n",
       "de        1998\n",
       "it        1990\n",
       "Name: dim_language_cat, dtype: int64"
      ]
     },
     "execution_count": 83,
     "metadata": {},
     "output_type": "execute_result"
    }
   ],
   "source": [
    "#look at the top 5 languages\n",
    "cols = ['en', 'es', 'fr', 'de', 'it']\n",
    "contact_listing_user['dim_language_cat'] = contact_listing_user['dim_language']\\\n",
    "                                    .apply(lambda x: x if x in cols else 'other')\n",
    "contact_listing_user.dim_language_cat.value_counts()"
   ]
  },
  {
   "cell_type": "code",
   "execution_count": 84,
   "metadata": {
    "collapsed": false
   },
   "outputs": [
    {
     "data": {
      "text/plain": [
       "<matplotlib.text.Text at 0x119d57b50>"
      ]
     },
     "execution_count": 84,
     "metadata": {},
     "output_type": "execute_result"
    },
    {
     "data": {
      "image/png": "[encoded data removed]",
      "text/plain": [
       "<matplotlib.figure.Figure at 0x114cc7550>"
      ]
     },
     "metadata": {},
     "output_type": "display_data"
    }
   ],
   "source": [
    "group_by_language = contact_listing_user.groupby('dim_language_cat')['converted'].mean()\n",
    "\n",
    "group_by_language.plot(kind='barh', figsize=(8, 4), title='Booking rate vs Lauguage')\n",
    "plt.ylabel('Booking rate')"
   ]
  },
  {
   "cell_type": "markdown",
   "metadata": {},
   "source": [
    "As above, German speaking users show the highest booking rate, while Spanish and Italian speaking users have the lowest. Then look at the country. Clearly Spain and Italy is under performing. It could be due to poorly translated website. Perhaps it doesn't fit the local culture, and some payment issue. Given how many users are based in Spain(2nd largest), fixing this should be a top priority. "
   ]
  },
  {
   "cell_type": "code",
   "execution_count": 85,
   "metadata": {
    "collapsed": false
   },
   "outputs": [
    {
     "data": {
      "text/plain": [
       "ES    13611\n",
       "US     7796\n",
       "FR     4215\n",
       "GB     2836\n",
       "IT     2094\n",
       "DE     1967\n",
       "AR     1422\n",
       "AU     1377\n",
       "RU     1236\n",
       "CA     1216\n",
       "Name: dim_country, dtype: int64"
      ]
     },
     "execution_count": 85,
     "metadata": {},
     "output_type": "execute_result"
    }
   ],
   "source": [
    "#distribution\n",
    "contact_listing_user.dim_country.value_counts().head(10)"
   ]
  },
  {
   "cell_type": "code",
   "execution_count": 86,
   "metadata": {
    "collapsed": false
   },
   "outputs": [
    {
     "data": {
      "text/plain": [
       "9"
      ]
     },
     "execution_count": 86,
     "metadata": {},
     "output_type": "execute_result"
    }
   ],
   "source": [
    "#check missing values\n",
    "contact_listing_user.dim_country.isnull().sum()"
   ]
  },
  {
   "cell_type": "code",
   "execution_count": 87,
   "metadata": {
    "collapsed": true
   },
   "outputs": [],
   "source": [
    "#fill with the mode\n",
    "contact_listing_user.dim_country.fillna('ES', inplace=True)"
   ]
  },
  {
   "cell_type": "code",
   "execution_count": 88,
   "metadata": {
    "collapsed": false
   },
   "outputs": [],
   "source": [
    "#look at the top 5 country\n",
    "cols_country = ['ES', 'US', 'FR', 'GB', 'IT']\n",
    "contact_listing_user['dim_country_cat'] = contact_listing_user['dim_country']\\\n",
    "                                    .apply(lambda x: x if x in cols_country else 'other')\n",
    "#contact_listing_user.dim_country.value_counts()"
   ]
  },
  {
   "cell_type": "code",
   "execution_count": 89,
   "metadata": {
    "collapsed": false
   },
   "outputs": [
    {
     "data": {
      "text/plain": [
       "<matplotlib.text.Text at 0x11b83d050>"
      ]
     },
     "execution_count": 89,
     "metadata": {},
     "output_type": "execute_result"
    },
    {
     "data": {
      "image/png": "[encoded data removed]",
      "text/plain": [
       "<matplotlib.figure.Figure at 0x11b0ee1d0>"
      ]
     },
     "metadata": {},
     "output_type": "display_data"
    }
   ],
   "source": [
    "#plot booking rate change as country\n",
    "group_by_country = contact_listing_user.groupby('dim_country_cat')['converted'].mean()\n",
    "\n",
    "group_by_country.plot(kind='barh', figsize=(8, 4), title='Booking rate vs Country')\n",
    "plt.ylabel('Booking rate')"
   ]
  },
  {
   "cell_type": "markdown",
   "metadata": {},
   "source": [
    "The above shows that Spain and Italy have relatively low booking rate, while German and US have the highest. This is consistant with the language vs booking rate trend. I will use country in the model building."
   ]
  },
  {
   "cell_type": "code",
   "execution_count": 90,
   "metadata": {
    "collapsed": false
   },
   "outputs": [
    {
     "data": {
      "text/plain": [
       "-unknown-              20267\n",
       "2013-10-26 11:56:51        2\n",
       "2013-11-14 08:04:29        2\n",
       "2013-11-16 10:19:55        2\n",
       "2013-11-14 14:05:08        2\n",
       "Name: ts_first_verified, dtype: int64"
      ]
     },
     "execution_count": 90,
     "metadata": {},
     "output_type": "execute_result"
    }
   ],
   "source": [
    "user.ts_first_verified.value_counts().head()"
   ]
  },
  {
   "cell_type": "markdown",
   "metadata": {},
   "source": [
    "Too many unknown. I will not consider it in the model."
   ]
  },
  {
   "cell_type": "markdown",
   "metadata": {},
   "source": [
    "## 2. Predict booking rate\n",
    "I will model contact me and book it separately."
   ]
  },
  {
   "cell_type": "markdown",
   "metadata": {},
   "source": [
    "### 1. Prepare train and test sets"
   ]
  },
  {
   "cell_type": "code",
   "execution_count": 91,
   "metadata": {
    "collapsed": false
   },
   "outputs": [
    {
     "data": {
      "text/plain": [
       "Index([u'id_guest_anon', u'id_host_anon', u'id_listing_anon',\n",
       "       u'ts_interaction_first', u'ts_reply_at_first', u'ts_accepted_at_first',\n",
       "       u'ts_booking_at', u'ds_checkin_first', u'ds_checkout_first',\n",
       "       u'm_guests_first', u'm_interactions',\n",
       "       u'm_first_message_length_in_characters', u'dim_contact_channel_first',\n",
       "       u'delay_reply_nday', u'delay_checkin_nday', u'converted',\n",
       "       u'checkin_month', u'inquiry_checkin', u'inquiry_checkin_cat',\n",
       "       u'num_interactions_cat', u'inquiry_reply_cat', u'dim_room_type',\n",
       "       u'dim_person_capacity', u'dim_bathrooms', u'dim_total_reviews',\n",
       "       u'enough_capacity', u'review_cat', u'bathroom_cat', u'id_user_anon',\n",
       "       u'dim_language', u'dim_country', u'ts_first_verified',\n",
       "       u'dim_language_cat', u'dim_country_cat'],\n",
       "      dtype='object')"
      ]
     },
     "execution_count": 91,
     "metadata": {},
     "output_type": "execute_result"
    }
   ],
   "source": [
    "#remind features\n",
    "contact_listing_user.columns"
   ]
  },
  {
   "cell_type": "code",
   "execution_count": 92,
   "metadata": {
    "collapsed": true
   },
   "outputs": [],
   "source": [
    "#categorical and numerical features of interest\n",
    "cate = ['dim_contact_channel_first', 'dim_room_type', 'dim_country_cat']\n",
    "num = ['m_first_message_length_in_characters', 'checkin_month', 'enough_capacity', \\\n",
    "       'dim_bathrooms', 'dim_total_reviews', 'delay_reply_nday', 'm_interactions', \\\n",
    "       'inquiry_checkin']"
   ]
  },
  {
   "cell_type": "code",
   "execution_count": 93,
   "metadata": {
    "collapsed": false
   },
   "outputs": [],
   "source": [
    "test = contact_listing_user[num + cate]\n",
    "#test.columns"
   ]
  },
  {
   "cell_type": "code",
   "execution_count": 94,
   "metadata": {
    "collapsed": false
   },
   "outputs": [],
   "source": [
    "#contact me\n",
    "test_contact_me = test[test.dim_contact_channel_first == 'contact_me']\n",
    "\n",
    "#book it\n",
    "test_book_it = test[test.dim_contact_channel_first == 'book_it']"
   ]
  },
  {
   "cell_type": "code",
   "execution_count": 95,
   "metadata": {
    "collapsed": false
   },
   "outputs": [],
   "source": [
    "#dummify categorical features\n",
    "def dummify_data_frame(data):\n",
    "    for col in cate:\n",
    "        dummy = pd.get_dummies(data[col])\n",
    "        data = pd.concat([data, dummy], axis = 1)\n",
    "        data = data.drop(col, axis = 1)\n",
    "    return data"
   ]
  },
  {
   "cell_type": "code",
   "execution_count": 96,
   "metadata": {
    "collapsed": false
   },
   "outputs": [],
   "source": [
    "#prepare data for contact me and book it\n",
    "X_contact_me = dummify_data_frame(test_contact_me)\n",
    "X_contact_me.drop('contact_me', inplace=True, axis=1)\n",
    "X_book_it = dummify_data_frame(test_book_it)\n",
    "X_book_it.drop('book_it', inplace=True, axis=1)\n",
    "\n",
    "#booking rate\n",
    "y_contact_me = contact_listing_user[contact_listing_user.dim_contact_channel_first == 'contact_me'].converted\n",
    "y_book_it = contact_listing_user[contact_listing_user.dim_contact_channel_first == 'book_it'].converted"
   ]
  },
  {
   "cell_type": "markdown",
   "metadata": {},
   "source": [
    "### 2. Model building\n",
    "I will use random forest model here. The reasons are:\n",
    "1. RF is easy to use and is fast.\n",
    "2. RF deals with missing values and categorical features. (Although I've taken care the missing values already)"
   ]
  },
  {
   "cell_type": "code",
   "execution_count": 97,
   "metadata": {
    "collapsed": true
   },
   "outputs": [],
   "source": [
    "from sklearn.ensemble import RandomForestClassifier\n",
    "from sklearn.model_selection import cross_val_score, train_test_split, GridSearchCV\n",
    "from sklearn.metrics import recall_score, precision_score, f1_score, roc_curve, auc, confusion_matrix"
   ]
  },
  {
   "cell_type": "markdown",
   "metadata": {},
   "source": [
    "Booking rate is highly imbalanced. I will use class_weight parameter in RF."
   ]
  },
  {
   "cell_type": "code",
   "execution_count": 98,
   "metadata": {
    "collapsed": false
   },
   "outputs": [
    {
     "data": {
      "text/plain": [
       "0    35100\n",
       "1     5890\n",
       "Name: converted, dtype: int64"
      ]
     },
     "execution_count": 98,
     "metadata": {},
     "output_type": "execute_result"
    }
   ],
   "source": [
    "#check ratio\n",
    "y_contact_me.value_counts()"
   ]
  },
  {
   "cell_type": "code",
   "execution_count": 99,
   "metadata": {
    "collapsed": false
   },
   "outputs": [
    {
     "data": {
      "text/plain": [
       "1    5242\n",
       "0    2474\n",
       "Name: converted, dtype: int64"
      ]
     },
     "execution_count": 99,
     "metadata": {},
     "output_type": "execute_result"
    }
   ],
   "source": [
    "#check ratio\n",
    "y_book_it.value_counts()"
   ]
  },
  {
   "cell_type": "code",
   "execution_count": 100,
   "metadata": {
    "collapsed": true
   },
   "outputs": [],
   "source": [
    "#build RF model\n",
    "def rf_model(X, y, weight_ratio):\n",
    "    X_train, X_test, y_train, y_test = train_test_split(X, y, test_size = 0.2, random_state = 42)\n",
    "    rf = RandomForestClassifier(n_estimators = 100, random_state = 42, class_weight = {0: 1, 1: weight_ratio})\n",
    "    solution = rf.fit(X_train, y_train)\n",
    "    feature_importance = pd.DataFrame({'features': X_train.columns,'importance': solution.feature_importances_})\n",
    "    feature_importance.sort_values(by = 'importance', ascending = False, inplace=True)\n",
    "    feature_importance.set_index('features').plot(kind='barh', figsize=(12, 6))\n",
    "    plt.xlim([0, 0.35])\n",
    "    return rf, solution, X_test, y_test"
   ]
  },
  {
   "cell_type": "code",
   "execution_count": 101,
   "metadata": {
    "collapsed": false
   },
   "outputs": [
    {
     "data": {
      "image/png": "[encoded data removed]",
      "text/plain": [
       "<matplotlib.figure.Figure at 0x11dcf1bd0>"
      ]
     },
     "metadata": {},
     "output_type": "display_data"
    },
    {
     "data": {
      "image/png": "[encoded data removed]",
      "text/plain": [
       "<matplotlib.figure.Figure at 0x11dd3ce50>"
      ]
     },
     "metadata": {},
     "output_type": "display_data"
    }
   ],
   "source": [
    "#plot feature importance\n",
    "rf_contact_me, solution_contact_me, X_test_contact_me, y_test_contact_me = rf_model(X_contact_me, y_contact_me, 6)\n",
    "rf_book_it, solution_book_it, X_test_book_it, y_test_book_it  = rf_model(X_book_it, y_book_it, 2)"
   ]
  },
  {
   "cell_type": "markdown",
   "metadata": {},
   "source": [
    "The number of guest-host interactions is the most important indicator of booking rate. Unfortunatley, it is probably the least \"actionable\". Guests interact with hosts because they already want to book. \n",
    "\n",
    "I will rebuild the RF without the variable. Before that, let's look at the model performance. I will take a look at the ROC curve and cross validation. "
   ]
  },
  {
   "cell_type": "code",
   "execution_count": 102,
   "metadata": {
    "collapsed": true
   },
   "outputs": [],
   "source": [
    "def ROC(solution, X_test, y_test):\n",
    "    y_pred = solution.predict_proba(X_test)\n",
    "    y_scores = pd.DataFrame(y_pred)[1]\n",
    "    fpr, tpr, thresholds = roc_curve(y_test.ravel(), y_scores.ravel())\n",
    "    auc_score = auc(fpr, tpr)\n",
    "    \n",
    "    plt.figure()\n",
    "    plt.plot(fpr, tpr, linestyle = ':', linewidth = 4, color = 'navy', \\\n",
    "             label='ROC curve (area = %.4s)' % auc_score)\n",
    "    plt.plot([0, 1], [0, 1], 'k--', lw = 2)\n",
    "    plt.xlim([0.0, 1.0])\n",
    "    plt.ylim([0.0, 1.05])\n",
    "    plt.xlabel('False Positive Rate')\n",
    "    plt.ylabel('True Positive Rate')\n",
    "    plt.legend('Receiving Operating Characteristic')\n",
    "    plt.legend(loc = 'lower right')"
   ]
  },
  {
   "cell_type": "code",
   "execution_count": 103,
   "metadata": {
    "collapsed": false
   },
   "outputs": [
    {
     "data": {
      "image/png": "[encoded data removed]",
      "text/plain": [
       "<matplotlib.figure.Figure at 0x11ddc7950>"
      ]
     },
     "metadata": {},
     "output_type": "display_data"
    },
    {
     "data": {
      "image/png": "[encoded data removed]",
      "text/plain": [
       "<matplotlib.figure.Figure at 0x11d476c50>"
      ]
     },
     "metadata": {},
     "output_type": "display_data"
    }
   ],
   "source": [
    "ROC(solution_contact_me, X_test_contact_me, y_test_contact_me)\n",
    "ROC(solution_book_it, X_test_book_it, y_test_book_it)"
   ]
  },
  {
   "cell_type": "markdown",
   "metadata": {},
   "source": [
    "Based on the ROC, if we care about minimizing false positive, we would choose a cut-off that would give us true positive rate of ~0.5 and false positive rate almost zero. However, if we care about maximizing true positive, we will have to decrease the cut-off. This way we will classify more events as '1'. There will be many false positives. "
   ]
  },
  {
   "cell_type": "code",
   "execution_count": 104,
   "metadata": {
    "collapsed": true
   },
   "outputs": [],
   "source": [
    "def cross_validation(clf, X, y):\n",
    "    score = cross_val_score(clf, X, y, cv = 3).mean()\n",
    "    return score\n",
    "score_contact_me = cross_validation(rf_contact_me, X_contact_me, y_contact_me)\n",
    "score_book_it = cross_validation(rf_book_it, X_book_it, y_book_it)"
   ]
  },
  {
   "cell_type": "code",
   "execution_count": 105,
   "metadata": {
    "collapsed": false
   },
   "outputs": [
    {
     "name": "stdout",
     "output_type": "stream",
     "text": [
      "Through contact me method, the 3 fold cross validation score is 0.92\n",
      "Through book it method, the 3 fold cross validation score is 0.83\n"
     ]
    }
   ],
   "source": [
    "print 'Through contact me method, the 3 fold cross validation score is %.2f' % score_contact_me\n",
    "print 'Through book it method, the 3 fold cross validation score is %.2f' % score_book_it"
   ]
  },
  {
   "cell_type": "markdown",
   "metadata": {},
   "source": [
    "Due to imbalanced data, if all data are predicted \"not booked\", we would get a ~85% in contact me category. Cross validation score of 0.92 shows that the model does increase the predicting power. "
   ]
  },
  {
   "cell_type": "markdown",
   "metadata": {},
   "source": [
    "Let's rebuild the RF model. Since classes are heavily unbalanced and I dont' have that very powerful variable anymore, I will change the weight a bit, just to make sure I will get something classified as 1. Since guest country and room type are not important indicators, I will remove them and focus on the important ones."
   ]
  },
  {
   "cell_type": "code",
   "execution_count": 106,
   "metadata": {
    "collapsed": true
   },
   "outputs": [],
   "source": [
    "X_contact_me = pd.concat([X_contact_me.loc[:, :'delay_reply_nday'], \\\n",
    "                          X_contact_me.loc[:, 'inquiry_checkin']], axis=1)\n",
    "X_book_it = pd.concat([X_book_it.loc[:, :'delay_reply_nday'], \\\n",
    "                       X_book_it.loc[:, 'inquiry_checkin']], axis=1)"
   ]
  },
  {
   "cell_type": "code",
   "execution_count": 107,
   "metadata": {
    "collapsed": false
   },
   "outputs": [
    {
     "data": {
      "image/png": "[encoded data removed]",
      "text/plain": [
       "<matplotlib.figure.Figure at 0x11dd52350>"
      ]
     },
     "metadata": {},
     "output_type": "display_data"
    },
    {
     "data": {
      "image/png": "[encoded data removed]",
      "text/plain": [
       "<matplotlib.figure.Figure at 0x11df9f1d0>"
      ]
     },
     "metadata": {},
     "output_type": "display_data"
    }
   ],
   "source": [
    "rf_contact_me, solution_contact_me, X_test_contact_me, y_test_contact_me = rf_model(X_contact_me, y_contact_me, 8)\n",
    "rf_book_it, solution_book_it, X_test_book_it, y_test_book_it  = rf_model(X_book_it, y_book_it, 4)"
   ]
  },
  {
   "cell_type": "markdown",
   "metadata": {
    "collapsed": true
   },
   "source": [
    "The feature importance plots show that:\n",
    "1. More reviews are better! \n",
    "2. A personal inquiry message helps connect with the host\n",
    "3. The earlier you book, the higher chance of successful booking\n",
    "4. Consider seasonality\n",
    "5. Bathroom number matters. This is likely an indicator of the room price. \n",
    "6. Quick reply from the host(within a day)  \n",
    "7. Make sure the room is large enough to hold all the guests\n",
    "\n",
    "Suggestions:\n",
    "1. Recommend guest leave reviews. Airbnb can promote this by giving coupon or discount. Or marketing team can reach out to guest through email and remind them to leave the review.\n",
    "2. Encourage guest write personal message to connect with the host.\n",
    "3. Book ahead, especially during busy season. Tell marketing to start before busy season starts so that potential travellers can plan early.\n",
    "4. Set up reminder to host to reply guests' messages. \n",
    "5. Spain and Italy are underperforming. It could be due to poorly translated website. Perhaps it doesn't fit the local culture, and some payment issue. Given how many users are based in Spain(2nd largest), fixing this should be a top priority. "
   ]
  },
  {
   "cell_type": "markdown",
   "metadata": {},
   "source": [
    "## 3. Given more time, I'd like to look at ..."
   ]
  },
  {
   "cell_type": "markdown",
   "metadata": {},
   "source": [
    "1. Booking rate can be treated as two processes. One is the rate that the host accepts the request. The other is the guest booked rate conditioned on host accepting the request. I'd like to build two separate models for the two rate, and find factors that improve them, respectively.\n",
    "2. Optimize the random forest model. This includes the number of trees, max feature numbers and etc. \n",
    "3. Try other classification methods, such as logistic regression, SVM. I'd like to compare the models, find the best performer or build an ensemble model. \n",
    "\n",
    "    alpha\n"
   ]
  },
  {
   "cell_type": "code",
   "execution_count": null,
   "metadata": {
    "collapsed": true
   },
   "outputs": [],
   "source": []
  },
  {
   "cell_type": "code",
   "execution_count": null,
   "metadata": {
    "collapsed": true
   },
   "outputs": [],
   "source": []
  }
 ],
 "metadata": {
  "kernelspec": {
   "display_name": "Python 2",
   "language": "python",
   "name": "python2"
  },
  "language_info": {
   "codemirror_mode": {
    "name": "ipython",
    "version": 2
   },
   "file_extension": ".py",
   "mimetype": "text/x-python",
   "name": "python",
   "nbconvert_exporter": "python",
   "pygments_lexer": "ipython2",
   "version": "2.7.12"
  }
 },
 "nbformat": 4,
 "nbformat_minor": 0
}
